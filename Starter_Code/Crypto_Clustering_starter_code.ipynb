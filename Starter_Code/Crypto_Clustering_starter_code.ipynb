{
 "cells": [
  {
   "cell_type": "code",
   "execution_count": 46,
   "metadata": {},
   "outputs": [],
   "source": [
    "# Import required libraries and dependencies\n",
    "import pandas as pd\n",
    "import hvplot.pandas\n",
    "from sklearn.cluster import KMeans\n",
    "from sklearn.decomposition import PCA\n",
    "from sklearn.preprocessing import StandardScaler\n",
    "import warnings\n",
    "warnings.filterwarnings(\"ignore\")"
   ]
  },
  {
   "cell_type": "code",
   "execution_count": 47,
   "metadata": {},
   "outputs": [
    {
     "data": {
      "text/html": [
       "<div>\n",
       "<style scoped>\n",
       "    .dataframe tbody tr th:only-of-type {\n",
       "        vertical-align: middle;\n",
       "    }\n",
       "\n",
       "    .dataframe tbody tr th {\n",
       "        vertical-align: top;\n",
       "    }\n",
       "\n",
       "    .dataframe thead th {\n",
       "        text-align: right;\n",
       "    }\n",
       "</style>\n",
       "<table border=\"1\" class=\"dataframe\">\n",
       "  <thead>\n",
       "    <tr style=\"text-align: right;\">\n",
       "      <th></th>\n",
       "      <th>price_change_percentage_24h</th>\n",
       "      <th>price_change_percentage_7d</th>\n",
       "      <th>price_change_percentage_14d</th>\n",
       "      <th>price_change_percentage_30d</th>\n",
       "      <th>price_change_percentage_60d</th>\n",
       "      <th>price_change_percentage_200d</th>\n",
       "      <th>price_change_percentage_1y</th>\n",
       "    </tr>\n",
       "    <tr>\n",
       "      <th>coin_id</th>\n",
       "      <th></th>\n",
       "      <th></th>\n",
       "      <th></th>\n",
       "      <th></th>\n",
       "      <th></th>\n",
       "      <th></th>\n",
       "      <th></th>\n",
       "    </tr>\n",
       "  </thead>\n",
       "  <tbody>\n",
       "    <tr>\n",
       "      <th>bitcoin</th>\n",
       "      <td>1.08388</td>\n",
       "      <td>7.60278</td>\n",
       "      <td>6.57509</td>\n",
       "      <td>7.67258</td>\n",
       "      <td>-3.25185</td>\n",
       "      <td>83.51840</td>\n",
       "      <td>37.51761</td>\n",
       "    </tr>\n",
       "    <tr>\n",
       "      <th>ethereum</th>\n",
       "      <td>0.22392</td>\n",
       "      <td>10.38134</td>\n",
       "      <td>4.80849</td>\n",
       "      <td>0.13169</td>\n",
       "      <td>-12.88890</td>\n",
       "      <td>186.77418</td>\n",
       "      <td>101.96023</td>\n",
       "    </tr>\n",
       "    <tr>\n",
       "      <th>tether</th>\n",
       "      <td>-0.21173</td>\n",
       "      <td>0.04935</td>\n",
       "      <td>0.00640</td>\n",
       "      <td>-0.04237</td>\n",
       "      <td>0.28037</td>\n",
       "      <td>-0.00542</td>\n",
       "      <td>0.01954</td>\n",
       "    </tr>\n",
       "    <tr>\n",
       "      <th>ripple</th>\n",
       "      <td>-0.37819</td>\n",
       "      <td>-0.60926</td>\n",
       "      <td>2.24984</td>\n",
       "      <td>0.23455</td>\n",
       "      <td>-17.55245</td>\n",
       "      <td>39.53888</td>\n",
       "      <td>-16.60193</td>\n",
       "    </tr>\n",
       "    <tr>\n",
       "      <th>bitcoin-cash</th>\n",
       "      <td>2.90585</td>\n",
       "      <td>17.09717</td>\n",
       "      <td>14.75334</td>\n",
       "      <td>15.74903</td>\n",
       "      <td>-13.71793</td>\n",
       "      <td>21.66042</td>\n",
       "      <td>14.49384</td>\n",
       "    </tr>\n",
       "    <tr>\n",
       "      <th>binancecoin</th>\n",
       "      <td>2.10423</td>\n",
       "      <td>12.85511</td>\n",
       "      <td>6.80688</td>\n",
       "      <td>0.05865</td>\n",
       "      <td>36.33486</td>\n",
       "      <td>155.61937</td>\n",
       "      <td>69.69195</td>\n",
       "    </tr>\n",
       "    <tr>\n",
       "      <th>chainlink</th>\n",
       "      <td>-0.23935</td>\n",
       "      <td>20.69459</td>\n",
       "      <td>9.30098</td>\n",
       "      <td>-11.21747</td>\n",
       "      <td>-43.69522</td>\n",
       "      <td>403.22917</td>\n",
       "      <td>325.13186</td>\n",
       "    </tr>\n",
       "    <tr>\n",
       "      <th>cardano</th>\n",
       "      <td>0.00322</td>\n",
       "      <td>13.99302</td>\n",
       "      <td>5.55476</td>\n",
       "      <td>10.10553</td>\n",
       "      <td>-22.84776</td>\n",
       "      <td>264.51418</td>\n",
       "      <td>156.09756</td>\n",
       "    </tr>\n",
       "    <tr>\n",
       "      <th>litecoin</th>\n",
       "      <td>-0.06341</td>\n",
       "      <td>6.60221</td>\n",
       "      <td>7.28931</td>\n",
       "      <td>1.21662</td>\n",
       "      <td>-17.23960</td>\n",
       "      <td>27.49919</td>\n",
       "      <td>-12.66408</td>\n",
       "    </tr>\n",
       "    <tr>\n",
       "      <th>bitcoin-cash-sv</th>\n",
       "      <td>0.92530</td>\n",
       "      <td>3.29641</td>\n",
       "      <td>-1.86656</td>\n",
       "      <td>2.88926</td>\n",
       "      <td>-24.87434</td>\n",
       "      <td>7.42562</td>\n",
       "      <td>93.73082</td>\n",
       "    </tr>\n",
       "  </tbody>\n",
       "</table>\n",
       "</div>"
      ],
      "text/plain": [
       "                 price_change_percentage_24h  price_change_percentage_7d  \\\n",
       "coin_id                                                                    \n",
       "bitcoin                              1.08388                     7.60278   \n",
       "ethereum                             0.22392                    10.38134   \n",
       "tether                              -0.21173                     0.04935   \n",
       "ripple                              -0.37819                    -0.60926   \n",
       "bitcoin-cash                         2.90585                    17.09717   \n",
       "binancecoin                          2.10423                    12.85511   \n",
       "chainlink                           -0.23935                    20.69459   \n",
       "cardano                              0.00322                    13.99302   \n",
       "litecoin                            -0.06341                     6.60221   \n",
       "bitcoin-cash-sv                      0.92530                     3.29641   \n",
       "\n",
       "                 price_change_percentage_14d  price_change_percentage_30d  \\\n",
       "coin_id                                                                     \n",
       "bitcoin                              6.57509                      7.67258   \n",
       "ethereum                             4.80849                      0.13169   \n",
       "tether                               0.00640                     -0.04237   \n",
       "ripple                               2.24984                      0.23455   \n",
       "bitcoin-cash                        14.75334                     15.74903   \n",
       "binancecoin                          6.80688                      0.05865   \n",
       "chainlink                            9.30098                    -11.21747   \n",
       "cardano                              5.55476                     10.10553   \n",
       "litecoin                             7.28931                      1.21662   \n",
       "bitcoin-cash-sv                     -1.86656                      2.88926   \n",
       "\n",
       "                 price_change_percentage_60d  price_change_percentage_200d  \\\n",
       "coin_id                                                                      \n",
       "bitcoin                             -3.25185                      83.51840   \n",
       "ethereum                           -12.88890                     186.77418   \n",
       "tether                               0.28037                      -0.00542   \n",
       "ripple                             -17.55245                      39.53888   \n",
       "bitcoin-cash                       -13.71793                      21.66042   \n",
       "binancecoin                         36.33486                     155.61937   \n",
       "chainlink                          -43.69522                     403.22917   \n",
       "cardano                            -22.84776                     264.51418   \n",
       "litecoin                           -17.23960                      27.49919   \n",
       "bitcoin-cash-sv                    -24.87434                       7.42562   \n",
       "\n",
       "                 price_change_percentage_1y  \n",
       "coin_id                                      \n",
       "bitcoin                            37.51761  \n",
       "ethereum                          101.96023  \n",
       "tether                              0.01954  \n",
       "ripple                            -16.60193  \n",
       "bitcoin-cash                       14.49384  \n",
       "binancecoin                        69.69195  \n",
       "chainlink                         325.13186  \n",
       "cardano                           156.09756  \n",
       "litecoin                          -12.66408  \n",
       "bitcoin-cash-sv                    93.73082  "
      ]
     },
     "execution_count": 47,
     "metadata": {},
     "output_type": "execute_result"
    }
   ],
   "source": [
    "# Load the data into a Pandas DataFrame\n",
    "df_market_data = pd.read_csv(\n",
    "    \"Resources/crypto_market_data.csv\",\n",
    "    index_col=\"coin_id\")\n",
    "\n",
    "# Display sample data\n",
    "df_market_data.head(10)"
   ]
  },
  {
   "cell_type": "code",
   "execution_count": 48,
   "metadata": {},
   "outputs": [
    {
     "data": {
      "text/html": [
       "<div>\n",
       "<style scoped>\n",
       "    .dataframe tbody tr th:only-of-type {\n",
       "        vertical-align: middle;\n",
       "    }\n",
       "\n",
       "    .dataframe tbody tr th {\n",
       "        vertical-align: top;\n",
       "    }\n",
       "\n",
       "    .dataframe thead th {\n",
       "        text-align: right;\n",
       "    }\n",
       "</style>\n",
       "<table border=\"1\" class=\"dataframe\">\n",
       "  <thead>\n",
       "    <tr style=\"text-align: right;\">\n",
       "      <th></th>\n",
       "      <th>price_change_percentage_24h</th>\n",
       "      <th>price_change_percentage_7d</th>\n",
       "      <th>price_change_percentage_14d</th>\n",
       "      <th>price_change_percentage_30d</th>\n",
       "      <th>price_change_percentage_60d</th>\n",
       "      <th>price_change_percentage_200d</th>\n",
       "      <th>price_change_percentage_1y</th>\n",
       "    </tr>\n",
       "  </thead>\n",
       "  <tbody>\n",
       "    <tr>\n",
       "      <th>count</th>\n",
       "      <td>41.000000</td>\n",
       "      <td>41.000000</td>\n",
       "      <td>41.000000</td>\n",
       "      <td>41.000000</td>\n",
       "      <td>41.000000</td>\n",
       "      <td>41.000000</td>\n",
       "      <td>41.000000</td>\n",
       "    </tr>\n",
       "    <tr>\n",
       "      <th>mean</th>\n",
       "      <td>-0.269686</td>\n",
       "      <td>4.497147</td>\n",
       "      <td>0.185787</td>\n",
       "      <td>1.545693</td>\n",
       "      <td>-0.094119</td>\n",
       "      <td>236.537432</td>\n",
       "      <td>347.667956</td>\n",
       "    </tr>\n",
       "    <tr>\n",
       "      <th>std</th>\n",
       "      <td>2.694793</td>\n",
       "      <td>6.375218</td>\n",
       "      <td>8.376939</td>\n",
       "      <td>26.344218</td>\n",
       "      <td>47.365803</td>\n",
       "      <td>435.225304</td>\n",
       "      <td>1247.842884</td>\n",
       "    </tr>\n",
       "    <tr>\n",
       "      <th>min</th>\n",
       "      <td>-13.527860</td>\n",
       "      <td>-6.094560</td>\n",
       "      <td>-18.158900</td>\n",
       "      <td>-34.705480</td>\n",
       "      <td>-44.822480</td>\n",
       "      <td>-0.392100</td>\n",
       "      <td>-17.567530</td>\n",
       "    </tr>\n",
       "    <tr>\n",
       "      <th>25%</th>\n",
       "      <td>-0.608970</td>\n",
       "      <td>0.047260</td>\n",
       "      <td>-5.026620</td>\n",
       "      <td>-10.438470</td>\n",
       "      <td>-25.907990</td>\n",
       "      <td>21.660420</td>\n",
       "      <td>0.406170</td>\n",
       "    </tr>\n",
       "    <tr>\n",
       "      <th>50%</th>\n",
       "      <td>-0.063410</td>\n",
       "      <td>3.296410</td>\n",
       "      <td>0.109740</td>\n",
       "      <td>-0.042370</td>\n",
       "      <td>-7.544550</td>\n",
       "      <td>83.905200</td>\n",
       "      <td>69.691950</td>\n",
       "    </tr>\n",
       "    <tr>\n",
       "      <th>75%</th>\n",
       "      <td>0.612090</td>\n",
       "      <td>7.602780</td>\n",
       "      <td>5.510740</td>\n",
       "      <td>4.578130</td>\n",
       "      <td>0.657260</td>\n",
       "      <td>216.177610</td>\n",
       "      <td>168.372510</td>\n",
       "    </tr>\n",
       "    <tr>\n",
       "      <th>max</th>\n",
       "      <td>4.840330</td>\n",
       "      <td>20.694590</td>\n",
       "      <td>24.239190</td>\n",
       "      <td>140.795700</td>\n",
       "      <td>223.064370</td>\n",
       "      <td>2227.927820</td>\n",
       "      <td>7852.089700</td>\n",
       "    </tr>\n",
       "  </tbody>\n",
       "</table>\n",
       "</div>"
      ],
      "text/plain": [
       "       price_change_percentage_24h  price_change_percentage_7d  \\\n",
       "count                    41.000000                   41.000000   \n",
       "mean                     -0.269686                    4.497147   \n",
       "std                       2.694793                    6.375218   \n",
       "min                     -13.527860                   -6.094560   \n",
       "25%                      -0.608970                    0.047260   \n",
       "50%                      -0.063410                    3.296410   \n",
       "75%                       0.612090                    7.602780   \n",
       "max                       4.840330                   20.694590   \n",
       "\n",
       "       price_change_percentage_14d  price_change_percentage_30d  \\\n",
       "count                    41.000000                    41.000000   \n",
       "mean                      0.185787                     1.545693   \n",
       "std                       8.376939                    26.344218   \n",
       "min                     -18.158900                   -34.705480   \n",
       "25%                      -5.026620                   -10.438470   \n",
       "50%                       0.109740                    -0.042370   \n",
       "75%                       5.510740                     4.578130   \n",
       "max                      24.239190                   140.795700   \n",
       "\n",
       "       price_change_percentage_60d  price_change_percentage_200d  \\\n",
       "count                    41.000000                     41.000000   \n",
       "mean                     -0.094119                    236.537432   \n",
       "std                      47.365803                    435.225304   \n",
       "min                     -44.822480                     -0.392100   \n",
       "25%                     -25.907990                     21.660420   \n",
       "50%                      -7.544550                     83.905200   \n",
       "75%                       0.657260                    216.177610   \n",
       "max                     223.064370                   2227.927820   \n",
       "\n",
       "       price_change_percentage_1y  \n",
       "count                   41.000000  \n",
       "mean                   347.667956  \n",
       "std                   1247.842884  \n",
       "min                    -17.567530  \n",
       "25%                      0.406170  \n",
       "50%                     69.691950  \n",
       "75%                    168.372510  \n",
       "max                   7852.089700  "
      ]
     },
     "execution_count": 48,
     "metadata": {},
     "output_type": "execute_result"
    }
   ],
   "source": [
    "# Generate summary statistics\n",
    "df_market_data.describe()"
   ]
  },
  {
   "cell_type": "code",
   "execution_count": 49,
   "metadata": {},
   "outputs": [
    {
     "data": {},
     "metadata": {},
     "output_type": "display_data"
    },
    {
     "data": {
      "application/vnd.holoviews_exec.v0+json": "",
      "text/html": [
       "<div id='3180'>\n",
       "  <div class=\"bk-root\" id=\"585b06ea-ab6e-4213-a5f9-fdf2f0c23f36\" data-root-id=\"3180\"></div>\n",
       "</div>\n",
       "<script type=\"application/javascript\">(function(root) {\n",
       "  function embed_document(root) {\n",
       "    var docs_json = {\"fbc12a3d-6736-4cfe-8ceb-8f820fb6103a\":{\"defs\":[{\"extends\":null,\"module\":null,\"name\":\"ReactiveHTML1\",\"overrides\":[],\"properties\":[]},{\"extends\":null,\"module\":null,\"name\":\"FlexBox1\",\"overrides\":[],\"properties\":[{\"default\":\"flex-start\",\"kind\":null,\"name\":\"align_content\"},{\"default\":\"flex-start\",\"kind\":null,\"name\":\"align_items\"},{\"default\":\"row\",\"kind\":null,\"name\":\"flex_direction\"},{\"default\":\"wrap\",\"kind\":null,\"name\":\"flex_wrap\"},{\"default\":\"flex-start\",\"kind\":null,\"name\":\"justify_content\"}]},{\"extends\":null,\"module\":null,\"name\":\"GridStack1\",\"overrides\":[],\"properties\":[{\"default\":\"warn\",\"kind\":null,\"name\":\"mode\"},{\"default\":null,\"kind\":null,\"name\":\"ncols\"},{\"default\":null,\"kind\":null,\"name\":\"nrows\"},{\"default\":true,\"kind\":null,\"name\":\"allow_resize\"},{\"default\":true,\"kind\":null,\"name\":\"allow_drag\"},{\"default\":[],\"kind\":null,\"name\":\"state\"}]},{\"extends\":null,\"module\":null,\"name\":\"click1\",\"overrides\":[],\"properties\":[{\"default\":\"\",\"kind\":null,\"name\":\"terminal_output\"},{\"default\":\"\",\"kind\":null,\"name\":\"debug_name\"},{\"default\":0,\"kind\":null,\"name\":\"clears\"}]},{\"extends\":null,\"module\":null,\"name\":\"NotificationAreaBase1\",\"overrides\":[],\"properties\":[{\"default\":\"bottom-right\",\"kind\":null,\"name\":\"position\"},{\"default\":0,\"kind\":null,\"name\":\"_clear\"}]},{\"extends\":null,\"module\":null,\"name\":\"NotificationArea1\",\"overrides\":[],\"properties\":[{\"default\":[],\"kind\":null,\"name\":\"notifications\"},{\"default\":\"bottom-right\",\"kind\":null,\"name\":\"position\"},{\"default\":0,\"kind\":null,\"name\":\"_clear\"},{\"default\":[{\"background\":\"#ffc107\",\"icon\":{\"className\":\"fas fa-exclamation-triangle\",\"color\":\"white\",\"tagName\":\"i\"},\"type\":\"warning\"},{\"background\":\"#007bff\",\"icon\":{\"className\":\"fas fa-info-circle\",\"color\":\"white\",\"tagName\":\"i\"},\"type\":\"info\"}],\"kind\":null,\"name\":\"types\"}]},{\"extends\":null,\"module\":null,\"name\":\"Notification\",\"overrides\":[],\"properties\":[{\"default\":null,\"kind\":null,\"name\":\"background\"},{\"default\":3000,\"kind\":null,\"name\":\"duration\"},{\"default\":null,\"kind\":null,\"name\":\"icon\"},{\"default\":\"\",\"kind\":null,\"name\":\"message\"},{\"default\":null,\"kind\":null,\"name\":\"notification_type\"},{\"default\":false,\"kind\":null,\"name\":\"_destroyed\"}]},{\"extends\":null,\"module\":null,\"name\":\"TemplateActions1\",\"overrides\":[],\"properties\":[{\"default\":0,\"kind\":null,\"name\":\"open_modal\"},{\"default\":0,\"kind\":null,\"name\":\"close_modal\"}]},{\"extends\":null,\"module\":null,\"name\":\"MaterialTemplateActions1\",\"overrides\":[],\"properties\":[{\"default\":0,\"kind\":null,\"name\":\"open_modal\"},{\"default\":0,\"kind\":null,\"name\":\"close_modal\"}]}],\"roots\":{\"references\":[{\"attributes\":{\"line_color\":\"#8b8b8b\",\"line_width\":2,\"x\":{\"field\":\"coin_id\"},\"y\":{\"field\":\"value\"}},\"id\":\"3345\",\"type\":\"Line\"},{\"attributes\":{},\"id\":\"3287\",\"type\":\"UnionRenderers\"},{\"attributes\":{\"line_alpha\":0.1,\"line_color\":\"#30a2da\",\"line_width\":2,\"x\":{\"field\":\"coin_id\"},\"y\":{\"field\":\"value\"}},\"id\":\"3229\",\"type\":\"Line\"},{\"attributes\":{\"coordinates\":null,\"data_source\":{\"id\":\"3318\"},\"glyph\":{\"id\":\"3321\"},\"group\":null,\"hover_glyph\":null,\"muted_glyph\":{\"id\":\"3323\"},\"nonselection_glyph\":{\"id\":\"3322\"},\"selection_glyph\":{\"id\":\"3345\"},\"view\":{\"id\":\"3325\"}},\"id\":\"3324\",\"type\":\"GlyphRenderer\"},{\"attributes\":{\"source\":{\"id\":\"3292\"}},\"id\":\"3299\",\"type\":\"CDSView\"},{\"attributes\":{\"line_alpha\":0.1,\"line_color\":\"#9467bd\",\"line_width\":2,\"x\":{\"field\":\"coin_id\"},\"y\":{\"field\":\"value\"}},\"id\":\"3380\",\"type\":\"Line\"},{\"attributes\":{},\"id\":\"3319\",\"type\":\"Selection\"},{\"attributes\":{\"line_alpha\":0.1,\"line_color\":\"#e5ae38\",\"line_width\":2,\"x\":{\"field\":\"coin_id\"},\"y\":{\"field\":\"value\"}},\"id\":\"3272\",\"type\":\"Line\"},{\"attributes\":{\"source\":{\"id\":\"3225\"}},\"id\":\"3232\",\"type\":\"CDSView\"},{\"attributes\":{\"label\":{\"value\":\"price_change_percentage_200d\"},\"renderers\":[{\"id\":\"3352\"}]},\"id\":\"3374\",\"type\":\"LegendItem\"},{\"attributes\":{\"source\":{\"id\":\"3318\"}},\"id\":\"3325\",\"type\":\"CDSView\"},{\"attributes\":{\"click_policy\":\"mute\",\"coordinates\":null,\"group\":null,\"items\":[{\"id\":\"3244\"},{\"id\":\"3266\"},{\"id\":\"3290\"},{\"id\":\"3316\"},{\"id\":\"3344\"},{\"id\":\"3374\"},{\"id\":\"3406\"}],\"location\":[0,0],\"title\":\"Variable\"},\"id\":\"3243\",\"type\":\"Legend\"},{\"attributes\":{\"data\":{\"Variable\":[\"price_change_percentage_60d\",\"price_change_percentage_60d\",\"price_change_percentage_60d\",\"price_change_percentage_60d\",\"price_change_percentage_60d\",\"price_change_percentage_60d\",\"price_change_percentage_60d\",\"price_change_percentage_60d\",\"price_change_percentage_60d\",\"price_change_percentage_60d\",\"price_change_percentage_60d\",\"price_change_percentage_60d\",\"price_change_percentage_60d\",\"price_change_percentage_60d\",\"price_change_percentage_60d\",\"price_change_percentage_60d\",\"price_change_percentage_60d\",\"price_change_percentage_60d\",\"price_change_percentage_60d\",\"price_change_percentage_60d\",\"price_change_percentage_60d\",\"price_change_percentage_60d\",\"price_change_percentage_60d\",\"price_change_percentage_60d\",\"price_change_percentage_60d\",\"price_change_percentage_60d\",\"price_change_percentage_60d\",\"price_change_percentage_60d\",\"price_change_percentage_60d\",\"price_change_percentage_60d\",\"price_change_percentage_60d\",\"price_change_percentage_60d\",\"price_change_percentage_60d\",\"price_change_percentage_60d\",\"price_change_percentage_60d\",\"price_change_percentage_60d\",\"price_change_percentage_60d\",\"price_change_percentage_60d\",\"price_change_percentage_60d\",\"price_change_percentage_60d\",\"price_change_percentage_60d\"],\"coin_id\":[\"bitcoin\",\"ethereum\",\"tether\",\"ripple\",\"bitcoin-cash\",\"binancecoin\",\"chainlink\",\"cardano\",\"litecoin\",\"bitcoin-cash-sv\",\"crypto-com-chain\",\"usd-coin\",\"eos\",\"monero\",\"tron\",\"tezos\",\"okb\",\"stellar\",\"cosmos\",\"cdai\",\"neo\",\"wrapped-bitcoin\",\"leo-token\",\"huobi-token\",\"nem\",\"binance-usd\",\"iota\",\"vechain\",\"zcash\",\"theta-token\",\"dash\",\"ethereum-classic\",\"ethlend\",\"maker\",\"havven\",\"omisego\",\"celsius-degree-token\",\"ontology\",\"ftx-token\",\"true-usd\",\"digibyte\"],\"value\":{\"__ndarray__\":\"FvvL7skDCsAs1JrmHccpwKjjMQOV8dE/2qz6XG2NMcBzol2FlG8rwIleRrHcKkJAN8MN+PzYRcBi26LMBtk2wCEf9GxWPTHAq5UJv9TfOMBg5dAi23kwwDygbMoV3qU/l631RUIrPsDNzMzMzNxEQJm7lpAPGhZAms5OBkdpRsBKe4MvTKYGwEsfuqC+zT7APL1SliHOHMC4AZ8fRgjlP9L7xteeCStAFqQZi6azDMCvJeSDni0ewDeOWItPQQvAXvQVpBm3VEDaOGItPgW4PwpLPKBsQkHAaw4QzNHPRcAJM23/yoo0wBmQvd79AVRAfa62Yn85OsBVGFsIcug5wLCsNCkFHQFA529CIQKeMsA0uoPYmbZDwPKwUGua0VNA/pqsUQ/ia0Ao8iTpmllAwFuxv+yenBdAmrFoOjsZ0D8s1JrmHRc/wA==\",\"dtype\":\"float64\",\"order\":\"little\",\"shape\":[41]}},\"selected\":{\"id\":\"3319\"},\"selection_policy\":{\"id\":\"3341\"}},\"id\":\"3318\",\"type\":\"ColumnDataSource\"},{\"attributes\":{},\"id\":\"3341\",\"type\":\"UnionRenderers\"},{\"attributes\":{\"coordinates\":null,\"data_source\":{\"id\":\"3292\"},\"glyph\":{\"id\":\"3295\"},\"group\":null,\"hover_glyph\":null,\"muted_glyph\":{\"id\":\"3297\"},\"nonselection_glyph\":{\"id\":\"3296\"},\"selection_glyph\":{\"id\":\"3317\"},\"view\":{\"id\":\"3299\"}},\"id\":\"3298\",\"type\":\"GlyphRenderer\"},{\"attributes\":{\"label\":{\"value\":\"price_change_percentage_14d\"},\"renderers\":[{\"id\":\"3274\"}]},\"id\":\"3290\",\"type\":\"LegendItem\"},{\"attributes\":{\"source\":{\"id\":\"3268\"}},\"id\":\"3275\",\"type\":\"CDSView\"},{\"attributes\":{\"below\":[{\"id\":\"3199\"}],\"center\":[{\"id\":\"3201\"},{\"id\":\"3205\"}],\"height\":400,\"left\":[{\"id\":\"3202\"}],\"margin\":[5,5,5,5],\"min_border_bottom\":10,\"min_border_left\":10,\"min_border_right\":10,\"min_border_top\":10,\"renderers\":[{\"id\":\"3231\"},{\"id\":\"3252\"},{\"id\":\"3274\"},{\"id\":\"3298\"},{\"id\":\"3324\"},{\"id\":\"3352\"},{\"id\":\"3382\"}],\"right\":[{\"id\":\"3243\"}],\"sizing_mode\":\"fixed\",\"title\":{\"id\":\"3191\"},\"toolbar\":{\"id\":\"3212\"},\"width\":800,\"x_range\":{\"id\":\"3181\"},\"x_scale\":{\"id\":\"3195\"},\"y_range\":{\"id\":\"3182\"},\"y_scale\":{\"id\":\"3197\"}},\"id\":\"3190\",\"subtype\":\"Figure\",\"type\":\"Plot\"},{\"attributes\":{\"line_alpha\":0.1,\"line_color\":\"#17becf\",\"line_width\":2,\"x\":{\"field\":\"coin_id\"},\"y\":{\"field\":\"value\"}},\"id\":\"3350\",\"type\":\"Line\"},{\"attributes\":{\"line_alpha\":0.2,\"line_color\":\"#30a2da\",\"line_width\":2,\"x\":{\"field\":\"coin_id\"},\"y\":{\"field\":\"value\"}},\"id\":\"3230\",\"type\":\"Line\"},{\"attributes\":{\"line_color\":\"#9467bd\",\"line_width\":2,\"x\":{\"field\":\"coin_id\"},\"y\":{\"field\":\"value\"}},\"id\":\"3407\",\"type\":\"Line\"},{\"attributes\":{},\"id\":\"3195\",\"type\":\"CategoricalScale\"},{\"attributes\":{},\"id\":\"3226\",\"type\":\"Selection\"},{\"attributes\":{\"source\":{\"id\":\"3346\"}},\"id\":\"3353\",\"type\":\"CDSView\"},{\"attributes\":{},\"id\":\"3371\",\"type\":\"UnionRenderers\"},{\"attributes\":{\"callback\":null,\"renderers\":[{\"id\":\"3231\"},{\"id\":\"3252\"},{\"id\":\"3274\"},{\"id\":\"3298\"},{\"id\":\"3324\"},{\"id\":\"3352\"},{\"id\":\"3382\"}],\"tags\":[\"hv_created\"],\"tooltips\":[[\"Variable\",\"@{Variable}\"],[\"coin_id\",\"@{coin_id}\"],[\"value\",\"@{value}\"]]},\"id\":\"3183\",\"type\":\"HoverTool\"},{\"attributes\":{\"line_alpha\":0.2,\"line_color\":\"#e5ae38\",\"line_width\":2,\"x\":{\"field\":\"coin_id\"},\"y\":{\"field\":\"value\"}},\"id\":\"3273\",\"type\":\"Line\"},{\"attributes\":{},\"id\":\"3269\",\"type\":\"Selection\"},{\"attributes\":{\"line_color\":\"#8b8b8b\",\"line_width\":2,\"x\":{\"field\":\"coin_id\"},\"y\":{\"field\":\"value\"}},\"id\":\"3321\",\"type\":\"Line\"},{\"attributes\":{\"line_alpha\":0.1,\"line_color\":\"#8b8b8b\",\"line_width\":2,\"x\":{\"field\":\"coin_id\"},\"y\":{\"field\":\"value\"}},\"id\":\"3322\",\"type\":\"Line\"},{\"attributes\":{\"factors\":[\"bitcoin\",\"ethereum\",\"tether\",\"ripple\",\"bitcoin-cash\",\"binancecoin\",\"chainlink\",\"cardano\",\"litecoin\",\"bitcoin-cash-sv\",\"crypto-com-chain\",\"usd-coin\",\"eos\",\"monero\",\"tron\",\"tezos\",\"okb\",\"stellar\",\"cosmos\",\"cdai\",\"neo\",\"wrapped-bitcoin\",\"leo-token\",\"huobi-token\",\"nem\",\"binance-usd\",\"iota\",\"vechain\",\"zcash\",\"theta-token\",\"dash\",\"ethereum-classic\",\"ethlend\",\"maker\",\"havven\",\"omisego\",\"celsius-degree-token\",\"ontology\",\"ftx-token\",\"true-usd\",\"digibyte\"],\"tags\":[[[\"coin_id\",\"coin_id\",null]]]},\"id\":\"3181\",\"type\":\"FactorRange\"},{\"attributes\":{\"line_alpha\":0.2,\"line_color\":\"#17becf\",\"line_width\":2,\"x\":{\"field\":\"coin_id\"},\"y\":{\"field\":\"value\"}},\"id\":\"3351\",\"type\":\"Line\"},{\"attributes\":{},\"id\":\"3347\",\"type\":\"Selection\"},{\"attributes\":{\"axis_label\":\"coin_id\",\"coordinates\":null,\"formatter\":{\"id\":\"3220\"},\"group\":null,\"major_label_orientation\":1.5707963267948966,\"major_label_policy\":{\"id\":\"3221\"},\"ticker\":{\"id\":\"3200\"}},\"id\":\"3199\",\"type\":\"CategoricalAxis\"},{\"attributes\":{\"end\":8641.780918,\"reset_end\":8641.780918,\"reset_start\":-834.5136980000001,\"start\":-834.5136980000001,\"tags\":[[[\"value\",\"value\",null]]]},\"id\":\"3182\",\"type\":\"Range1d\"},{\"attributes\":{\"coordinates\":null,\"data_source\":{\"id\":\"3268\"},\"glyph\":{\"id\":\"3271\"},\"group\":null,\"hover_glyph\":null,\"muted_glyph\":{\"id\":\"3273\"},\"nonselection_glyph\":{\"id\":\"3272\"},\"selection_glyph\":{\"id\":\"3291\"},\"view\":{\"id\":\"3275\"}},\"id\":\"3274\",\"type\":\"GlyphRenderer\"},{\"attributes\":{\"line_color\":\"#e5ae38\",\"line_width\":2,\"x\":{\"field\":\"coin_id\"},\"y\":{\"field\":\"value\"}},\"id\":\"3271\",\"type\":\"Line\"},{\"attributes\":{\"label\":{\"value\":\"price_change_percentage_30d\"},\"renderers\":[{\"id\":\"3298\"}]},\"id\":\"3316\",\"type\":\"LegendItem\"},{\"attributes\":{\"label\":{\"value\":\"price_change_percentage_24h\"},\"renderers\":[{\"id\":\"3231\"}]},\"id\":\"3244\",\"type\":\"LegendItem\"},{\"attributes\":{\"line_alpha\":0.1,\"line_color\":\"#fc4f30\",\"line_width\":2,\"x\":{\"field\":\"coin_id\"},\"y\":{\"field\":\"value\"}},\"id\":\"3250\",\"type\":\"Line\"},{\"attributes\":{\"line_color\":\"#30a2da\",\"line_width\":2,\"x\":{\"field\":\"coin_id\"},\"y\":{\"field\":\"value\"}},\"id\":\"3245\",\"type\":\"Line\"},{\"attributes\":{\"coordinates\":null,\"data_source\":{\"id\":\"3346\"},\"glyph\":{\"id\":\"3349\"},\"group\":null,\"hover_glyph\":null,\"muted_glyph\":{\"id\":\"3351\"},\"nonselection_glyph\":{\"id\":\"3350\"},\"selection_glyph\":{\"id\":\"3375\"},\"view\":{\"id\":\"3353\"}},\"id\":\"3352\",\"type\":\"GlyphRenderer\"},{\"attributes\":{},\"id\":\"3313\",\"type\":\"UnionRenderers\"},{\"attributes\":{\"line_color\":\"#17becf\",\"line_width\":2,\"x\":{\"field\":\"coin_id\"},\"y\":{\"field\":\"value\"}},\"id\":\"3349\",\"type\":\"Line\"},{\"attributes\":{\"coordinates\":null,\"data_source\":{\"id\":\"3225\"},\"glyph\":{\"id\":\"3228\"},\"group\":null,\"hover_glyph\":null,\"muted_glyph\":{\"id\":\"3230\"},\"nonselection_glyph\":{\"id\":\"3229\"},\"selection_glyph\":{\"id\":\"3245\"},\"view\":{\"id\":\"3232\"}},\"id\":\"3231\",\"type\":\"GlyphRenderer\"},{\"attributes\":{\"line_color\":\"#30a2da\",\"line_width\":2,\"x\":{\"field\":\"coin_id\"},\"y\":{\"field\":\"value\"}},\"id\":\"3228\",\"type\":\"Line\"},{\"attributes\":{\"data\":{\"Variable\":[\"price_change_percentage_14d\",\"price_change_percentage_14d\",\"price_change_percentage_14d\",\"price_change_percentage_14d\",\"price_change_percentage_14d\",\"price_change_percentage_14d\",\"price_change_percentage_14d\",\"price_change_percentage_14d\",\"price_change_percentage_14d\",\"price_change_percentage_14d\",\"price_change_percentage_14d\",\"price_change_percentage_14d\",\"price_change_percentage_14d\",\"price_change_percentage_14d\",\"price_change_percentage_14d\",\"price_change_percentage_14d\",\"price_change_percentage_14d\",\"price_change_percentage_14d\",\"price_change_percentage_14d\",\"price_change_percentage_14d\",\"price_change_percentage_14d\",\"price_change_percentage_14d\",\"price_change_percentage_14d\",\"price_change_percentage_14d\",\"price_change_percentage_14d\",\"price_change_percentage_14d\",\"price_change_percentage_14d\",\"price_change_percentage_14d\",\"price_change_percentage_14d\",\"price_change_percentage_14d\",\"price_change_percentage_14d\",\"price_change_percentage_14d\",\"price_change_percentage_14d\",\"price_change_percentage_14d\",\"price_change_percentage_14d\",\"price_change_percentage_14d\",\"price_change_percentage_14d\",\"price_change_percentage_14d\",\"price_change_percentage_14d\",\"price_change_percentage_14d\",\"price_change_percentage_14d\"],\"coin_id\":[\"bitcoin\",\"ethereum\",\"tether\",\"ripple\",\"bitcoin-cash\",\"binancecoin\",\"chainlink\",\"cardano\",\"litecoin\",\"bitcoin-cash-sv\",\"crypto-com-chain\",\"usd-coin\",\"eos\",\"monero\",\"tron\",\"tezos\",\"okb\",\"stellar\",\"cosmos\",\"cdai\",\"neo\",\"wrapped-bitcoin\",\"leo-token\",\"huobi-token\",\"nem\",\"binance-usd\",\"iota\",\"vechain\",\"zcash\",\"theta-token\",\"dash\",\"ethereum-classic\",\"ethlend\",\"maker\",\"havven\",\"omisego\",\"celsius-degree-token\",\"ontology\",\"ftx-token\",\"true-usd\",\"digibyte\"],\"value\":{\"__ndarray__\":\"zQaZZORMGkB5knTN5DsTQC1DHOviNno/ctwpHaz/AUCLic3HtYEtQJgvL8A+OhtACoDxDBqaIkAOhGQBEzgWQICfceFAKB1AIVnABG7d/b8xsfm4NhQhwGtI3GPpQ3e/pfeNrz0z8j8ao3VUNWkyQBUA4xk0dPY/VIzzN6GQAkCXrfVFQhsUwKpla32RUPG/Qgkzbf8KFkDPg7uzdtvFP8MN+PwwsiPAYFlpUgo6GkB3+GuyRh0cwM2v5gDBHN0/jliLTwEwBUDWrZ6T3jeuP7pOIy2VNw7Am1Wfq60oMsAJM23/yioXQJfK2xFOSxrAQE0tW+uL4D9OucK7XET0v0SLbOf7mSPA/pqsUQ/R978vaYzWUZUqwDtT6LzGbirAvodLjjs9OEByUMJM2x8lwJ30vvG1Z8q/ZCMQr+sXvD+7D0BqE0cdwA==\",\"dtype\":\"float64\",\"order\":\"little\",\"shape\":[41]}},\"selected\":{\"id\":\"3269\"},\"selection_policy\":{\"id\":\"3287\"}},\"id\":\"3268\",\"type\":\"ColumnDataSource\"},{\"attributes\":{\"line_alpha\":0.2,\"line_color\":\"#8b8b8b\",\"line_width\":2,\"x\":{\"field\":\"coin_id\"},\"y\":{\"field\":\"value\"}},\"id\":\"3323\",\"type\":\"Line\"},{\"attributes\":{\"line_alpha\":0.1,\"line_color\":\"#6d904f\",\"line_width\":2,\"x\":{\"field\":\"coin_id\"},\"y\":{\"field\":\"value\"}},\"id\":\"3296\",\"type\":\"Line\"},{\"attributes\":{},\"id\":\"3240\",\"type\":\"UnionRenderers\"},{\"attributes\":{\"line_alpha\":0.2,\"line_color\":\"#6d904f\",\"line_width\":2,\"x\":{\"field\":\"coin_id\"},\"y\":{\"field\":\"value\"}},\"id\":\"3297\",\"type\":\"Line\"},{\"attributes\":{\"label\":{\"value\":\"price_change_percentage_60d\"},\"renderers\":[{\"id\":\"3324\"}]},\"id\":\"3344\",\"type\":\"LegendItem\"},{\"attributes\":{\"data\":{\"Variable\":[\"price_change_percentage_7d\",\"price_change_percentage_7d\",\"price_change_percentage_7d\",\"price_change_percentage_7d\",\"price_change_percentage_7d\",\"price_change_percentage_7d\",\"price_change_percentage_7d\",\"price_change_percentage_7d\",\"price_change_percentage_7d\",\"price_change_percentage_7d\",\"price_change_percentage_7d\",\"price_change_percentage_7d\",\"price_change_percentage_7d\",\"price_change_percentage_7d\",\"price_change_percentage_7d\",\"price_change_percentage_7d\",\"price_change_percentage_7d\",\"price_change_percentage_7d\",\"price_change_percentage_7d\",\"price_change_percentage_7d\",\"price_change_percentage_7d\",\"price_change_percentage_7d\",\"price_change_percentage_7d\",\"price_change_percentage_7d\",\"price_change_percentage_7d\",\"price_change_percentage_7d\",\"price_change_percentage_7d\",\"price_change_percentage_7d\",\"price_change_percentage_7d\",\"price_change_percentage_7d\",\"price_change_percentage_7d\",\"price_change_percentage_7d\",\"price_change_percentage_7d\",\"price_change_percentage_7d\",\"price_change_percentage_7d\",\"price_change_percentage_7d\",\"price_change_percentage_7d\",\"price_change_percentage_7d\",\"price_change_percentage_7d\",\"price_change_percentage_7d\",\"price_change_percentage_7d\"],\"coin_id\":[\"bitcoin\",\"ethereum\",\"tether\",\"ripple\",\"bitcoin-cash\",\"binancecoin\",\"chainlink\",\"cardano\",\"litecoin\",\"bitcoin-cash-sv\",\"crypto-com-chain\",\"usd-coin\",\"eos\",\"monero\",\"tron\",\"tezos\",\"okb\",\"stellar\",\"cosmos\",\"cdai\",\"neo\",\"wrapped-bitcoin\",\"leo-token\",\"huobi-token\",\"nem\",\"binance-usd\",\"iota\",\"vechain\",\"zcash\",\"theta-token\",\"dash\",\"ethereum-classic\",\"ethlend\",\"maker\",\"havven\",\"omisego\",\"celsius-degree-token\",\"ontology\",\"ftx-token\",\"true-usd\",\"digibyte\"],\"value\":{\"__ndarray__\":\"RbsKKT9pHkAzUBn/PsMkQL99HThnRKk/yVnY0w5/47/+JhQi4BgxQBL3WPrQtSlA7yB2ptCxNEA/jBAebfwrQPFL/bypaBpArKjBNAxfCkByv0NRoK8WwPlJtU/HY76/lPsdigL99L+n6Egu/5EvQE1KQbeX9BBA0m9fB87pIUBlU67wLjcSwKbtX1lpkgBAZwqd19gVMEBcIEHxY8ytP3wnZr0YigNAOh4zUBmfHUD3Hi457pT1vzNQGf8+4/k/kQ96Nqs+6781Y9F0djKoP2dEaW/wRRhAgXhdv2A3/L/8GHPXErIkQP8JLlbUYBjAVU0QdR9gFEDRlnMprmoIQGCrBIvD2RBAAiuHFtlOIECbG9MTllgRQKhXyjLEURtAqn06HjNQ4z+UvDrHgGzzvwltOZfiahxAsD2zJEBNxT8yj/zBwHPlPw==\",\"dtype\":\"float64\",\"order\":\"little\",\"shape\":[41]}},\"selected\":{\"id\":\"3247\"},\"selection_policy\":{\"id\":\"3263\"}},\"id\":\"3246\",\"type\":\"ColumnDataSource\"},{\"attributes\":{\"label\":{\"value\":\"price_change_percentage_7d\"},\"renderers\":[{\"id\":\"3252\"}]},\"id\":\"3266\",\"type\":\"LegendItem\"},{\"attributes\":{\"source\":{\"id\":\"3246\"}},\"id\":\"3253\",\"type\":\"CDSView\"},{\"attributes\":{\"coordinates\":null,\"group\":null,\"text_color\":\"black\",\"text_font_size\":\"12pt\"},\"id\":\"3191\",\"type\":\"Title\"},{\"attributes\":{},\"id\":\"3221\",\"type\":\"AllLabels\"},{\"attributes\":{\"line_alpha\":0.2,\"line_color\":\"#fc4f30\",\"line_width\":2,\"x\":{\"field\":\"coin_id\"},\"y\":{\"field\":\"value\"}},\"id\":\"3251\",\"type\":\"Line\"},{\"attributes\":{},\"id\":\"3197\",\"type\":\"LinearScale\"},{\"attributes\":{\"line_color\":\"#e5ae38\",\"line_width\":2,\"x\":{\"field\":\"coin_id\"},\"y\":{\"field\":\"value\"}},\"id\":\"3291\",\"type\":\"Line\"},{\"attributes\":{\"line_color\":\"#6d904f\",\"line_width\":2,\"x\":{\"field\":\"coin_id\"},\"y\":{\"field\":\"value\"}},\"id\":\"3317\",\"type\":\"Line\"},{\"attributes\":{},\"id\":\"3247\",\"type\":\"Selection\"},{\"attributes\":{},\"id\":\"3200\",\"type\":\"CategoricalTicker\"},{\"attributes\":{},\"id\":\"3263\",\"type\":\"UnionRenderers\"},{\"attributes\":{\"axis\":{\"id\":\"3199\"},\"coordinates\":null,\"grid_line_color\":null,\"group\":null,\"ticker\":null},\"id\":\"3201\",\"type\":\"Grid\"},{\"attributes\":{},\"id\":\"3207\",\"type\":\"PanTool\"},{\"attributes\":{\"axis_label\":\"\",\"coordinates\":null,\"formatter\":{\"id\":\"3223\"},\"group\":null,\"major_label_policy\":{\"id\":\"3224\"},\"ticker\":{\"id\":\"3203\"}},\"id\":\"3202\",\"type\":\"LinearAxis\"},{\"attributes\":{\"axis\":{\"id\":\"3202\"},\"coordinates\":null,\"dimension\":1,\"grid_line_color\":null,\"group\":null,\"ticker\":null},\"id\":\"3205\",\"type\":\"Grid\"},{\"attributes\":{\"line_color\":\"#17becf\",\"line_width\":2,\"x\":{\"field\":\"coin_id\"},\"y\":{\"field\":\"value\"}},\"id\":\"3375\",\"type\":\"Line\"},{\"attributes\":{\"coordinates\":null,\"data_source\":{\"id\":\"3246\"},\"glyph\":{\"id\":\"3249\"},\"group\":null,\"hover_glyph\":null,\"muted_glyph\":{\"id\":\"3251\"},\"nonselection_glyph\":{\"id\":\"3250\"},\"selection_glyph\":{\"id\":\"3267\"},\"view\":{\"id\":\"3253\"}},\"id\":\"3252\",\"type\":\"GlyphRenderer\"},{\"attributes\":{},\"id\":\"3203\",\"type\":\"BasicTicker\"},{\"attributes\":{},\"id\":\"3208\",\"type\":\"WheelZoomTool\"},{\"attributes\":{\"line_color\":\"#fc4f30\",\"line_width\":2,\"x\":{\"field\":\"coin_id\"},\"y\":{\"field\":\"value\"}},\"id\":\"3249\",\"type\":\"Line\"},{\"attributes\":{\"children\":[{\"id\":\"3190\"}],\"height\":400,\"margin\":[0,0,0,0],\"name\":\"Row02893\",\"sizing_mode\":\"fixed\",\"tags\":[\"embedded\"],\"width\":800},\"id\":\"3180\",\"type\":\"Row\"},{\"attributes\":{\"data\":{\"Variable\":[\"price_change_percentage_1y\",\"price_change_percentage_1y\",\"price_change_percentage_1y\",\"price_change_percentage_1y\",\"price_change_percentage_1y\",\"price_change_percentage_1y\",\"price_change_percentage_1y\",\"price_change_percentage_1y\",\"price_change_percentage_1y\",\"price_change_percentage_1y\",\"price_change_percentage_1y\",\"price_change_percentage_1y\",\"price_change_percentage_1y\",\"price_change_percentage_1y\",\"price_change_percentage_1y\",\"price_change_percentage_1y\",\"price_change_percentage_1y\",\"price_change_percentage_1y\",\"price_change_percentage_1y\",\"price_change_percentage_1y\",\"price_change_percentage_1y\",\"price_change_percentage_1y\",\"price_change_percentage_1y\",\"price_change_percentage_1y\",\"price_change_percentage_1y\",\"price_change_percentage_1y\",\"price_change_percentage_1y\",\"price_change_percentage_1y\",\"price_change_percentage_1y\",\"price_change_percentage_1y\",\"price_change_percentage_1y\",\"price_change_percentage_1y\",\"price_change_percentage_1y\",\"price_change_percentage_1y\",\"price_change_percentage_1y\",\"price_change_percentage_1y\",\"price_change_percentage_1y\",\"price_change_percentage_1y\",\"price_change_percentage_1y\",\"price_change_percentage_1y\",\"price_change_percentage_1y\"],\"coin_id\":[\"bitcoin\",\"ethereum\",\"tether\",\"ripple\",\"bitcoin-cash\",\"binancecoin\",\"chainlink\",\"cardano\",\"litecoin\",\"bitcoin-cash-sv\",\"crypto-com-chain\",\"usd-coin\",\"eos\",\"monero\",\"tron\",\"tezos\",\"okb\",\"stellar\",\"cosmos\",\"cdai\",\"neo\",\"wrapped-bitcoin\",\"leo-token\",\"huobi-token\",\"nem\",\"binance-usd\",\"iota\",\"vechain\",\"zcash\",\"theta-token\",\"dash\",\"ethereum-classic\",\"ethlend\",\"maker\",\"havven\",\"omisego\",\"celsius-degree-token\",\"ontology\",\"ftx-token\",\"true-usd\",\"digibyte\"],\"value\":{\"__ndarray__\":\"kQpjC0HCQkDWqIdodH1ZQN/42jNLApQ/NXugFRiaMMDN6bKY2PwsQOcdp+hIbFFAaTo7GRxSdEC6LCY2H4NjQPnaM0sCVCnA0NA/wcVuV0CQvd798RBzQL4wmSoYlci/t39lpUmRMcDovMYuUaFhQEPKT6p9nk1A6PaSxmiAYUBdUN8yp75hQMzuycNCnStAw7ZFmQ2cVEAHsTOFzmvSvx/0bFZ9aWBAhhvw+WHEQkAN/RNcrAA1QN8Vwf9WkjhAS7A4nPkWaUAVUn5S7dPBPzUk7rH04Q/AIsMq3shbaUBf0hito7hUQPyMCwcC64VAzsKedvirA8Dwoq8gzTgmQHRGlPYWrL5Ayk+qfTpOJUDfiVkvRjaFQEfJq3MMC3RAnFCIgONmn0CsVib8Uk8pwNttF5rrC2VAyXGndLD+2T/ZfFwbKgxnQA==\",\"dtype\":\"float64\",\"order\":\"little\",\"shape\":[41]}},\"selected\":{\"id\":\"3377\"},\"selection_policy\":{\"id\":\"3403\"}},\"id\":\"3376\",\"type\":\"ColumnDataSource\"},{\"attributes\":{\"data\":{\"Variable\":[\"price_change_percentage_24h\",\"price_change_percentage_24h\",\"price_change_percentage_24h\",\"price_change_percentage_24h\",\"price_change_percentage_24h\",\"price_change_percentage_24h\",\"price_change_percentage_24h\",\"price_change_percentage_24h\",\"price_change_percentage_24h\",\"price_change_percentage_24h\",\"price_change_percentage_24h\",\"price_change_percentage_24h\",\"price_change_percentage_24h\",\"price_change_percentage_24h\",\"price_change_percentage_24h\",\"price_change_percentage_24h\",\"price_change_percentage_24h\",\"price_change_percentage_24h\",\"price_change_percentage_24h\",\"price_change_percentage_24h\",\"price_change_percentage_24h\",\"price_change_percentage_24h\",\"price_change_percentage_24h\",\"price_change_percentage_24h\",\"price_change_percentage_24h\",\"price_change_percentage_24h\",\"price_change_percentage_24h\",\"price_change_percentage_24h\",\"price_change_percentage_24h\",\"price_change_percentage_24h\",\"price_change_percentage_24h\",\"price_change_percentage_24h\",\"price_change_percentage_24h\",\"price_change_percentage_24h\",\"price_change_percentage_24h\",\"price_change_percentage_24h\",\"price_change_percentage_24h\",\"price_change_percentage_24h\",\"price_change_percentage_24h\",\"price_change_percentage_24h\",\"price_change_percentage_24h\"],\"coin_id\":[\"bitcoin\",\"ethereum\",\"tether\",\"ripple\",\"bitcoin-cash\",\"binancecoin\",\"chainlink\",\"cardano\",\"litecoin\",\"bitcoin-cash-sv\",\"crypto-com-chain\",\"usd-coin\",\"eos\",\"monero\",\"tron\",\"tezos\",\"okb\",\"stellar\",\"cosmos\",\"cdai\",\"neo\",\"wrapped-bitcoin\",\"leo-token\",\"huobi-token\",\"nem\",\"binance-usd\",\"iota\",\"vechain\",\"zcash\",\"theta-token\",\"dash\",\"ethereum-classic\",\"ethlend\",\"maker\",\"havven\",\"omisego\",\"celsius-degree-token\",\"ontology\",\"ftx-token\",\"true-usd\",\"digibyte\"],\"value\":{\"__ndarray__\":\"nZ0MjpJX8T8MzXUaaanMP5mByvj3Gcu/wCZr1EM02L8ep+hILj8HQL0Yyol21QBAwhcmUwWjzr//CS5W1GBqP7JGPUSjO7C/QKTfvg6c7T8urYbEPZbjPzeJQWDl0Ma/1pC4x9KHwj87NgLxun7bP90HILWJk7M/JjYf14aK5b83iUFg5dAFwG3i5H6HIvC/5nlwd9Zu7r9i83FtqBjLP+iHEcKjjd8/M9yAzw+j8T/fGtgqweLAv+RmuAGfH9q/UdobfGEy678D7KNTVz67v8YzaOif4No/teBFX0Ga9D8G2Eenrnzjvx+duvJZPhLAoMN8eQH28L+cxCCwcmjdv667eapDDivAX5hMFYxK479EUaBP5EkQwAZkr3d/XBNA0JuKVBgbBEDqBDQRNrz1vxo09E9wseo/tI6qJoi6r79qMA3DR8QHQA==\",\"dtype\":\"float64\",\"order\":\"little\",\"shape\":[41]}},\"selected\":{\"id\":\"3226\"},\"selection_policy\":{\"id\":\"3240\"}},\"id\":\"3225\",\"type\":\"ColumnDataSource\"},{\"attributes\":{},\"id\":\"3206\",\"type\":\"SaveTool\"},{\"attributes\":{\"overlay\":{\"id\":\"3211\"}},\"id\":\"3209\",\"type\":\"BoxZoomTool\"},{\"attributes\":{},\"id\":\"3210\",\"type\":\"ResetTool\"},{\"attributes\":{\"data\":{\"Variable\":[\"price_change_percentage_30d\",\"price_change_percentage_30d\",\"price_change_percentage_30d\",\"price_change_percentage_30d\",\"price_change_percentage_30d\",\"price_change_percentage_30d\",\"price_change_percentage_30d\",\"price_change_percentage_30d\",\"price_change_percentage_30d\",\"price_change_percentage_30d\",\"price_change_percentage_30d\",\"price_change_percentage_30d\",\"price_change_percentage_30d\",\"price_change_percentage_30d\",\"price_change_percentage_30d\",\"price_change_percentage_30d\",\"price_change_percentage_30d\",\"price_change_percentage_30d\",\"price_change_percentage_30d\",\"price_change_percentage_30d\",\"price_change_percentage_30d\",\"price_change_percentage_30d\",\"price_change_percentage_30d\",\"price_change_percentage_30d\",\"price_change_percentage_30d\",\"price_change_percentage_30d\",\"price_change_percentage_30d\",\"price_change_percentage_30d\",\"price_change_percentage_30d\",\"price_change_percentage_30d\",\"price_change_percentage_30d\",\"price_change_percentage_30d\",\"price_change_percentage_30d\",\"price_change_percentage_30d\",\"price_change_percentage_30d\",\"price_change_percentage_30d\",\"price_change_percentage_30d\",\"price_change_percentage_30d\",\"price_change_percentage_30d\",\"price_change_percentage_30d\",\"price_change_percentage_30d\"],\"coin_id\":[\"bitcoin\",\"ethereum\",\"tether\",\"ripple\",\"bitcoin-cash\",\"binancecoin\",\"chainlink\",\"cardano\",\"litecoin\",\"bitcoin-cash-sv\",\"crypto-com-chain\",\"usd-coin\",\"eos\",\"monero\",\"tron\",\"tezos\",\"okb\",\"stellar\",\"cosmos\",\"cdai\",\"neo\",\"wrapped-bitcoin\",\"leo-token\",\"huobi-token\",\"nem\",\"binance-usd\",\"iota\",\"vechain\",\"zcash\",\"theta-token\",\"dash\",\"ethereum-classic\",\"ethlend\",\"maker\",\"havven\",\"omisego\",\"celsius-degree-token\",\"ontology\",\"ftx-token\",\"true-usd\",\"digibyte\"],\"value\":{\"__ndarray__\":\"VMa/z7iwHkAl6ZrJN9vAP/28qUiFsaW/L26jAbwFzj8dcjPcgH8vQPMf0m9fB64/5bhTOlhvJsBnfjUHCDYkQGWNeohGd/M/sCDNWDQdB0Cmft5UpHIxwJgvL8A+OsW/t0WZDTKJEsDeVKTC2HpDQEzD8BExNSnAjWK5pdVALMDjjcwjf+AkwIrIsIo3QiDAjliLTwFQEkAWpBmLpnMBwE3WqIdo9DXAVG8NbJWAHUAnMQisHJoIQGA8g4b+CQrACcTr+gU7DcCPpQ9dUN+SP80Bgjl6nBDA9S1zuixWLMBC7Eyh83odQEku/yH9bj9AtTf4wmQqH8Am/FI/byoHQNjYJaq3/j3A9GxWfa62MECdRloqb9c0wF4R/G8lOyLArK3YX3aZYUC1/SsrTVpBwP/PYb68ICXAFR3J5T+knz+ndLD+z4EqQA==\",\"dtype\":\"float64\",\"order\":\"little\",\"shape\":[41]}},\"selected\":{\"id\":\"3293\"},\"selection_policy\":{\"id\":\"3313\"}},\"id\":\"3292\",\"type\":\"ColumnDataSource\"},{\"attributes\":{},\"id\":\"3403\",\"type\":\"UnionRenderers\"},{\"attributes\":{\"label\":{\"value\":\"price_change_percentage_1y\"},\"renderers\":[{\"id\":\"3382\"}]},\"id\":\"3406\",\"type\":\"LegendItem\"},{\"attributes\":{\"bottom_units\":\"screen\",\"coordinates\":null,\"fill_alpha\":0.5,\"fill_color\":\"lightgrey\",\"group\":null,\"left_units\":\"screen\",\"level\":\"overlay\",\"line_alpha\":1.0,\"line_color\":\"black\",\"line_dash\":[4,4],\"line_width\":2,\"right_units\":\"screen\",\"syncable\":false,\"top_units\":\"screen\"},\"id\":\"3211\",\"type\":\"BoxAnnotation\"},{\"attributes\":{\"data\":{\"Variable\":[\"price_change_percentage_200d\",\"price_change_percentage_200d\",\"price_change_percentage_200d\",\"price_change_percentage_200d\",\"price_change_percentage_200d\",\"price_change_percentage_200d\",\"price_change_percentage_200d\",\"price_change_percentage_200d\",\"price_change_percentage_200d\",\"price_change_percentage_200d\",\"price_change_percentage_200d\",\"price_change_percentage_200d\",\"price_change_percentage_200d\",\"price_change_percentage_200d\",\"price_change_percentage_200d\",\"price_change_percentage_200d\",\"price_change_percentage_200d\",\"price_change_percentage_200d\",\"price_change_percentage_200d\",\"price_change_percentage_200d\",\"price_change_percentage_200d\",\"price_change_percentage_200d\",\"price_change_percentage_200d\",\"price_change_percentage_200d\",\"price_change_percentage_200d\",\"price_change_percentage_200d\",\"price_change_percentage_200d\",\"price_change_percentage_200d\",\"price_change_percentage_200d\",\"price_change_percentage_200d\",\"price_change_percentage_200d\",\"price_change_percentage_200d\",\"price_change_percentage_200d\",\"price_change_percentage_200d\",\"price_change_percentage_200d\",\"price_change_percentage_200d\",\"price_change_percentage_200d\",\"price_change_percentage_200d\",\"price_change_percentage_200d\",\"price_change_percentage_200d\",\"price_change_percentage_200d\"],\"coin_id\":[\"bitcoin\",\"ethereum\",\"tether\",\"ripple\",\"bitcoin-cash\",\"binancecoin\",\"chainlink\",\"cardano\",\"litecoin\",\"bitcoin-cash-sv\",\"crypto-com-chain\",\"usd-coin\",\"eos\",\"monero\",\"tron\",\"tezos\",\"okb\",\"stellar\",\"cosmos\",\"cdai\",\"neo\",\"wrapped-bitcoin\",\"leo-token\",\"huobi-token\",\"nem\",\"binance-usd\",\"iota\",\"vechain\",\"zcash\",\"theta-token\",\"dash\",\"ethereum-classic\",\"ethlend\",\"maker\",\"havven\",\"omisego\",\"celsius-degree-token\",\"ontology\",\"ftx-token\",\"true-usd\",\"digibyte\"],\"value\":{\"__ndarray__\":\"xY8xdy3hVED0piIVxlhnQBe86CtIM3a/9zsUBfrEQ0DTn/1IEak1QPTDCOHRc2NAl3MprqozeUAexM4UOohwQIB9dOrKfztAFhiyutWzHUCN7iB2plZsQIQqNXugFcS/ZHWr56QPMkALe9rhrzBlQH+8V61MnGBA5nlwd9a2RUARHm0csfpDQC+Lic3HJ1VAkj8YeO4/Z0AOvjCZKhjZv2vUQzS61GNAtRX7y+75VEC5GW7A52cwQAPso1NXHkVAKa4q+64Fa0A7NgLxun65P+TaUDHOwVdAyM1wAz7bcEAFwHgGDaNeQH3Qs1k1lYtAOUVHcvnvGEANGvonuMgkQCYZOQvbZ6FAGD4ipkSiVED5MeauZXeDQHi0ccQaSoJAC170FcTYmEB1PGagMmJLQC2yne+nvkxAndfYJaq3tr9R9wFIbSl+QA==\",\"dtype\":\"float64\",\"order\":\"little\",\"shape\":[41]}},\"selected\":{\"id\":\"3347\"},\"selection_policy\":{\"id\":\"3371\"}},\"id\":\"3346\",\"type\":\"ColumnDataSource\"},{\"attributes\":{\"source\":{\"id\":\"3376\"}},\"id\":\"3383\",\"type\":\"CDSView\"},{\"attributes\":{},\"id\":\"3293\",\"type\":\"Selection\"},{\"attributes\":{\"active_drag\":{\"id\":\"3207\"},\"active_scroll\":{\"id\":\"3208\"},\"tools\":[{\"id\":\"3183\"},{\"id\":\"3206\"},{\"id\":\"3207\"},{\"id\":\"3208\"},{\"id\":\"3209\"},{\"id\":\"3210\"}]},\"id\":\"3212\",\"type\":\"Toolbar\"},{\"attributes\":{\"line_alpha\":0.2,\"line_color\":\"#9467bd\",\"line_width\":2,\"x\":{\"field\":\"coin_id\"},\"y\":{\"field\":\"value\"}},\"id\":\"3381\",\"type\":\"Line\"},{\"attributes\":{},\"id\":\"3220\",\"type\":\"CategoricalTickFormatter\"},{\"attributes\":{},\"id\":\"3377\",\"type\":\"Selection\"},{\"attributes\":{\"line_color\":\"#6d904f\",\"line_width\":2,\"x\":{\"field\":\"coin_id\"},\"y\":{\"field\":\"value\"}},\"id\":\"3295\",\"type\":\"Line\"},{\"attributes\":{\"line_color\":\"#fc4f30\",\"line_width\":2,\"x\":{\"field\":\"coin_id\"},\"y\":{\"field\":\"value\"}},\"id\":\"3267\",\"type\":\"Line\"},{\"attributes\":{},\"id\":\"3223\",\"type\":\"BasicTickFormatter\"},{\"attributes\":{\"coordinates\":null,\"data_source\":{\"id\":\"3376\"},\"glyph\":{\"id\":\"3379\"},\"group\":null,\"hover_glyph\":null,\"muted_glyph\":{\"id\":\"3381\"},\"nonselection_glyph\":{\"id\":\"3380\"},\"selection_glyph\":{\"id\":\"3407\"},\"view\":{\"id\":\"3383\"}},\"id\":\"3382\",\"type\":\"GlyphRenderer\"},{\"attributes\":{\"line_color\":\"#9467bd\",\"line_width\":2,\"x\":{\"field\":\"coin_id\"},\"y\":{\"field\":\"value\"}},\"id\":\"3379\",\"type\":\"Line\"},{\"attributes\":{},\"id\":\"3224\",\"type\":\"AllLabels\"}],\"root_ids\":[\"3180\"]},\"title\":\"Bokeh Application\",\"version\":\"2.4.3\"}};\n",
       "    var render_items = [{\"docid\":\"fbc12a3d-6736-4cfe-8ceb-8f820fb6103a\",\"root_ids\":[\"3180\"],\"roots\":{\"3180\":\"585b06ea-ab6e-4213-a5f9-fdf2f0c23f36\"}}];\n",
       "    root.Bokeh.embed.embed_items_notebook(docs_json, render_items);\n",
       "    for (const render_item of render_items) {\n",
       "      for (const root_id of render_item.root_ids) {\n",
       "\tconst id_el = document.getElementById(root_id)\n",
       "\tif (id_el.children.length && (id_el.children[0].className === 'bk-root')) {\n",
       "\t  const root_el = id_el.children[0]\n",
       "\t  root_el.id = root_el.id + '-rendered'\n",
       "\t}\n",
       "      }\n",
       "    }\n",
       "  }\n",
       "  if (root.Bokeh !== undefined && root.Bokeh.Panel !== undefined) {\n",
       "    embed_document(root);\n",
       "  } else {\n",
       "    var attempts = 0;\n",
       "    var timer = setInterval(function(root) {\n",
       "      if (root.Bokeh !== undefined && root.Bokeh.Panel !== undefined) {\n",
       "        clearInterval(timer);\n",
       "        embed_document(root);\n",
       "      } else if (document.readyState == \"complete\") {\n",
       "        attempts++;\n",
       "        if (attempts > 200) {\n",
       "          clearInterval(timer);\n",
       "          console.log(\"Bokeh: ERROR: Unable to run BokehJS code because BokehJS library is missing\");\n",
       "        }\n",
       "      }\n",
       "    }, 25, root)\n",
       "  }\n",
       "})(window);</script>"
      ],
      "text/plain": [
       ":NdOverlay   [Variable]\n",
       "   :Curve   [coin_id]   (value)"
      ]
     },
     "execution_count": 49,
     "metadata": {
      "application/vnd.holoviews_exec.v0+json": {
       "id": "3180"
      }
     },
     "output_type": "execute_result"
    }
   ],
   "source": [
    "# Plot your data to see what's in your DataFrame\n",
    "df_market_data.hvplot.line(\n",
    "    width=800,\n",
    "    height=400,\n",
    "    rot=90\n",
    ")"
   ]
  },
  {
   "cell_type": "markdown",
   "metadata": {},
   "source": [
    "---"
   ]
  },
  {
   "cell_type": "markdown",
   "metadata": {},
   "source": [
    "### Prepare the Data"
   ]
  },
  {
   "cell_type": "code",
   "execution_count": 50,
   "metadata": {},
   "outputs": [
    {
     "data": {
      "text/plain": [
       "array([[ 0.50852937,  0.49319307,  0.77220043,  0.23545963, -0.0674951 ,\n",
       "        -0.35595348, -0.25163688],\n",
       "       [ 0.18544589,  0.93444504,  0.55869212, -0.05434093, -0.27348273,\n",
       "        -0.11575947, -0.19935211],\n",
       "       [ 0.02177396, -0.70633685, -0.02168042, -0.06103015,  0.00800452,\n",
       "        -0.55024692, -0.28206051],\n",
       "       [-0.04076438, -0.81092807,  0.24945797, -0.05038797, -0.37316402,\n",
       "        -0.45825882, -0.29554614],\n",
       "       [ 1.19303608,  2.00095907,  1.76061001,  0.54584206, -0.29120287,\n",
       "        -0.49984776, -0.27031695]])"
      ]
     },
     "execution_count": 50,
     "metadata": {},
     "output_type": "execute_result"
    }
   ],
   "source": [
    "# Use the `StandardScaler()` module from scikit-learn to normalize the data from the CSV file\n",
    "scaled_market_data = StandardScaler().fit_transform(df_market_data[[\"price_change_percentage_24h\",\n",
    "                                                                   \"price_change_percentage_7d\",\n",
    "                                                                   \"price_change_percentage_14d\",\n",
    "                                                                   \"price_change_percentage_30d\",\n",
    "                                                                   \"price_change_percentage_60d\",\n",
    "                                                                   \"price_change_percentage_200d\",\n",
    "                                                                   \"price_change_percentage_1y\"]])\n",
    "scaled_market_data[0:5]"
   ]
  },
  {
   "cell_type": "code",
   "execution_count": 51,
   "metadata": {},
   "outputs": [
    {
     "data": {
      "text/html": [
       "<div>\n",
       "<style scoped>\n",
       "    .dataframe tbody tr th:only-of-type {\n",
       "        vertical-align: middle;\n",
       "    }\n",
       "\n",
       "    .dataframe tbody tr th {\n",
       "        vertical-align: top;\n",
       "    }\n",
       "\n",
       "    .dataframe thead th {\n",
       "        text-align: right;\n",
       "    }\n",
       "</style>\n",
       "<table border=\"1\" class=\"dataframe\">\n",
       "  <thead>\n",
       "    <tr style=\"text-align: right;\">\n",
       "      <th></th>\n",
       "      <th>price_change_percentage_24h</th>\n",
       "      <th>price_change_percentage_7d</th>\n",
       "      <th>price_change_percentage_14d</th>\n",
       "      <th>price_change_percentage_30d</th>\n",
       "      <th>price_change_percentage_60d</th>\n",
       "      <th>price_change_percentage_200d</th>\n",
       "      <th>price_change_percentage_1y</th>\n",
       "    </tr>\n",
       "    <tr>\n",
       "      <th>coin_id</th>\n",
       "      <th></th>\n",
       "      <th></th>\n",
       "      <th></th>\n",
       "      <th></th>\n",
       "      <th></th>\n",
       "      <th></th>\n",
       "      <th></th>\n",
       "    </tr>\n",
       "  </thead>\n",
       "  <tbody>\n",
       "    <tr>\n",
       "      <th>bitcoin</th>\n",
       "      <td>0.508529</td>\n",
       "      <td>0.493193</td>\n",
       "      <td>0.772200</td>\n",
       "      <td>0.235460</td>\n",
       "      <td>-0.067495</td>\n",
       "      <td>-0.355953</td>\n",
       "      <td>-0.251637</td>\n",
       "    </tr>\n",
       "    <tr>\n",
       "      <th>ethereum</th>\n",
       "      <td>0.185446</td>\n",
       "      <td>0.934445</td>\n",
       "      <td>0.558692</td>\n",
       "      <td>-0.054341</td>\n",
       "      <td>-0.273483</td>\n",
       "      <td>-0.115759</td>\n",
       "      <td>-0.199352</td>\n",
       "    </tr>\n",
       "    <tr>\n",
       "      <th>tether</th>\n",
       "      <td>0.021774</td>\n",
       "      <td>-0.706337</td>\n",
       "      <td>-0.021680</td>\n",
       "      <td>-0.061030</td>\n",
       "      <td>0.008005</td>\n",
       "      <td>-0.550247</td>\n",
       "      <td>-0.282061</td>\n",
       "    </tr>\n",
       "    <tr>\n",
       "      <th>ripple</th>\n",
       "      <td>-0.040764</td>\n",
       "      <td>-0.810928</td>\n",
       "      <td>0.249458</td>\n",
       "      <td>-0.050388</td>\n",
       "      <td>-0.373164</td>\n",
       "      <td>-0.458259</td>\n",
       "      <td>-0.295546</td>\n",
       "    </tr>\n",
       "    <tr>\n",
       "      <th>bitcoin-cash</th>\n",
       "      <td>1.193036</td>\n",
       "      <td>2.000959</td>\n",
       "      <td>1.760610</td>\n",
       "      <td>0.545842</td>\n",
       "      <td>-0.291203</td>\n",
       "      <td>-0.499848</td>\n",
       "      <td>-0.270317</td>\n",
       "    </tr>\n",
       "  </tbody>\n",
       "</table>\n",
       "</div>"
      ],
      "text/plain": [
       "              price_change_percentage_24h  price_change_percentage_7d  \\\n",
       "coin_id                                                                 \n",
       "bitcoin                          0.508529                    0.493193   \n",
       "ethereum                         0.185446                    0.934445   \n",
       "tether                           0.021774                   -0.706337   \n",
       "ripple                          -0.040764                   -0.810928   \n",
       "bitcoin-cash                     1.193036                    2.000959   \n",
       "\n",
       "              price_change_percentage_14d  price_change_percentage_30d  \\\n",
       "coin_id                                                                  \n",
       "bitcoin                          0.772200                     0.235460   \n",
       "ethereum                         0.558692                    -0.054341   \n",
       "tether                          -0.021680                    -0.061030   \n",
       "ripple                           0.249458                    -0.050388   \n",
       "bitcoin-cash                     1.760610                     0.545842   \n",
       "\n",
       "              price_change_percentage_60d  price_change_percentage_200d  \\\n",
       "coin_id                                                                   \n",
       "bitcoin                         -0.067495                     -0.355953   \n",
       "ethereum                        -0.273483                     -0.115759   \n",
       "tether                           0.008005                     -0.550247   \n",
       "ripple                          -0.373164                     -0.458259   \n",
       "bitcoin-cash                    -0.291203                     -0.499848   \n",
       "\n",
       "              price_change_percentage_1y  \n",
       "coin_id                                   \n",
       "bitcoin                        -0.251637  \n",
       "ethereum                       -0.199352  \n",
       "tether                         -0.282061  \n",
       "ripple                         -0.295546  \n",
       "bitcoin-cash                   -0.270317  "
      ]
     },
     "execution_count": 51,
     "metadata": {},
     "output_type": "execute_result"
    }
   ],
   "source": [
    "# Create a DataFrame with the scaled data\n",
    "scaled_market_data_df = pd.DataFrame(scaled_market_data, columns=df_market_data.columns)\n",
    "\n",
    "\n",
    "# Copy the crypto names from the original data\n",
    "scaled_market_data_df[\"coin_id\"] = df_market_data.index\n",
    "\n",
    "# Set the coinid column as index\n",
    "scaled_market_data_df.set_index(\"coin_id\", inplace=True)\n",
    "\n",
    "\n",
    "# Display sample data\n",
    "scaled_market_data_df.head()"
   ]
  },
  {
   "cell_type": "markdown",
   "metadata": {},
   "source": [
    "---"
   ]
  },
  {
   "cell_type": "markdown",
   "metadata": {},
   "source": [
    "### Find the Best Value for k Using the Original Data."
   ]
  },
  {
   "cell_type": "code",
   "execution_count": 52,
   "metadata": {},
   "outputs": [
    {
     "data": {
      "text/plain": [
       "[1, 2, 3, 4, 5, 6, 7, 8, 9, 10, 11]"
      ]
     },
     "execution_count": 52,
     "metadata": {},
     "output_type": "execute_result"
    }
   ],
   "source": [
    "# Create a list with the number of k-values from 1 to 11\n",
    "k = list(range(1,12))\n",
    "k"
   ]
  },
  {
   "cell_type": "code",
   "execution_count": 53,
   "metadata": {},
   "outputs": [],
   "source": [
    "# Create an empty list to store the inertia values\n",
    "inertia = []\n",
    "\n",
    "# Create a for loop to compute the inertia with each possible value of k\n",
    "for i in k:\n",
    "# Inside the loop:\n",
    "\n",
    "# 1. Create a KMeans model using the loop counter for the n_clusters\n",
    " k_means_model = KMeans(n_clusters=i, random_state=0)\n",
    "\n",
    "# 2. Fit the model to the data using `df_market_data_scaled`\n",
    " k_means_model.fit(scaled_market_data_df)\n",
    "\n",
    "# 3. Append the model.inertia_ to the inertia list\n",
    " inertia.append(k_means_model.inertia_)\n"
   ]
  },
  {
   "cell_type": "code",
   "execution_count": 54,
   "metadata": {},
   "outputs": [
    {
     "data": {
      "text/html": [
       "<div>\n",
       "<style scoped>\n",
       "    .dataframe tbody tr th:only-of-type {\n",
       "        vertical-align: middle;\n",
       "    }\n",
       "\n",
       "    .dataframe tbody tr th {\n",
       "        vertical-align: top;\n",
       "    }\n",
       "\n",
       "    .dataframe thead th {\n",
       "        text-align: right;\n",
       "    }\n",
       "</style>\n",
       "<table border=\"1\" class=\"dataframe\">\n",
       "  <thead>\n",
       "    <tr style=\"text-align: right;\">\n",
       "      <th></th>\n",
       "      <th>k</th>\n",
       "      <th>inertia</th>\n",
       "    </tr>\n",
       "  </thead>\n",
       "  <tbody>\n",
       "    <tr>\n",
       "      <th>0</th>\n",
       "      <td>1</td>\n",
       "      <td>287.000000</td>\n",
       "    </tr>\n",
       "    <tr>\n",
       "      <th>1</th>\n",
       "      <td>2</td>\n",
       "      <td>195.820218</td>\n",
       "    </tr>\n",
       "    <tr>\n",
       "      <th>2</th>\n",
       "      <td>3</td>\n",
       "      <td>123.190482</td>\n",
       "    </tr>\n",
       "    <tr>\n",
       "      <th>3</th>\n",
       "      <td>4</td>\n",
       "      <td>79.022435</td>\n",
       "    </tr>\n",
       "    <tr>\n",
       "      <th>4</th>\n",
       "      <td>5</td>\n",
       "      <td>65.302379</td>\n",
       "    </tr>\n",
       "  </tbody>\n",
       "</table>\n",
       "</div>"
      ],
      "text/plain": [
       "   k     inertia\n",
       "0  1  287.000000\n",
       "1  2  195.820218\n",
       "2  3  123.190482\n",
       "3  4   79.022435\n",
       "4  5   65.302379"
      ]
     },
     "execution_count": 54,
     "metadata": {},
     "output_type": "execute_result"
    }
   ],
   "source": [
    "# Create a dictionary with the data to plot the Elbow curve\n",
    "elbow_data = {\"k\": k, \"inertia\": inertia}\n",
    "\n",
    "\n",
    "# Create a DataFrame with the data to plot the Elbow curve\n",
    "elbow_df = pd.DataFrame(elbow_data)\n",
    "elbow_df.head()"
   ]
  },
  {
   "cell_type": "code",
   "execution_count": 55,
   "metadata": {},
   "outputs": [
    {
     "data": {},
     "metadata": {},
     "output_type": "display_data"
    },
    {
     "data": {
      "application/vnd.holoviews_exec.v0+json": "",
      "text/html": [
       "<div id='3545'>\n",
       "  <div class=\"bk-root\" id=\"436e3afb-dc80-4afa-bd7b-df4ce871b0af\" data-root-id=\"3545\"></div>\n",
       "</div>\n",
       "<script type=\"application/javascript\">(function(root) {\n",
       "  function embed_document(root) {\n",
       "    var docs_json = {\"9aae6d72-9509-4ccb-9947-9481756ec0f6\":{\"defs\":[{\"extends\":null,\"module\":null,\"name\":\"ReactiveHTML1\",\"overrides\":[],\"properties\":[]},{\"extends\":null,\"module\":null,\"name\":\"FlexBox1\",\"overrides\":[],\"properties\":[{\"default\":\"flex-start\",\"kind\":null,\"name\":\"align_content\"},{\"default\":\"flex-start\",\"kind\":null,\"name\":\"align_items\"},{\"default\":\"row\",\"kind\":null,\"name\":\"flex_direction\"},{\"default\":\"wrap\",\"kind\":null,\"name\":\"flex_wrap\"},{\"default\":\"flex-start\",\"kind\":null,\"name\":\"justify_content\"}]},{\"extends\":null,\"module\":null,\"name\":\"GridStack1\",\"overrides\":[],\"properties\":[{\"default\":\"warn\",\"kind\":null,\"name\":\"mode\"},{\"default\":null,\"kind\":null,\"name\":\"ncols\"},{\"default\":null,\"kind\":null,\"name\":\"nrows\"},{\"default\":true,\"kind\":null,\"name\":\"allow_resize\"},{\"default\":true,\"kind\":null,\"name\":\"allow_drag\"},{\"default\":[],\"kind\":null,\"name\":\"state\"}]},{\"extends\":null,\"module\":null,\"name\":\"click1\",\"overrides\":[],\"properties\":[{\"default\":\"\",\"kind\":null,\"name\":\"terminal_output\"},{\"default\":\"\",\"kind\":null,\"name\":\"debug_name\"},{\"default\":0,\"kind\":null,\"name\":\"clears\"}]},{\"extends\":null,\"module\":null,\"name\":\"NotificationAreaBase1\",\"overrides\":[],\"properties\":[{\"default\":\"bottom-right\",\"kind\":null,\"name\":\"position\"},{\"default\":0,\"kind\":null,\"name\":\"_clear\"}]},{\"extends\":null,\"module\":null,\"name\":\"NotificationArea1\",\"overrides\":[],\"properties\":[{\"default\":[],\"kind\":null,\"name\":\"notifications\"},{\"default\":\"bottom-right\",\"kind\":null,\"name\":\"position\"},{\"default\":0,\"kind\":null,\"name\":\"_clear\"},{\"default\":[{\"background\":\"#ffc107\",\"icon\":{\"className\":\"fas fa-exclamation-triangle\",\"color\":\"white\",\"tagName\":\"i\"},\"type\":\"warning\"},{\"background\":\"#007bff\",\"icon\":{\"className\":\"fas fa-info-circle\",\"color\":\"white\",\"tagName\":\"i\"},\"type\":\"info\"}],\"kind\":null,\"name\":\"types\"}]},{\"extends\":null,\"module\":null,\"name\":\"Notification\",\"overrides\":[],\"properties\":[{\"default\":null,\"kind\":null,\"name\":\"background\"},{\"default\":3000,\"kind\":null,\"name\":\"duration\"},{\"default\":null,\"kind\":null,\"name\":\"icon\"},{\"default\":\"\",\"kind\":null,\"name\":\"message\"},{\"default\":null,\"kind\":null,\"name\":\"notification_type\"},{\"default\":false,\"kind\":null,\"name\":\"_destroyed\"}]},{\"extends\":null,\"module\":null,\"name\":\"TemplateActions1\",\"overrides\":[],\"properties\":[{\"default\":0,\"kind\":null,\"name\":\"open_modal\"},{\"default\":0,\"kind\":null,\"name\":\"close_modal\"}]},{\"extends\":null,\"module\":null,\"name\":\"MaterialTemplateActions1\",\"overrides\":[],\"properties\":[{\"default\":0,\"kind\":null,\"name\":\"open_modal\"},{\"default\":0,\"kind\":null,\"name\":\"close_modal\"}]}],\"roots\":{\"references\":[{\"attributes\":{},\"id\":\"3566\",\"type\":\"SaveTool\"},{\"attributes\":{},\"id\":\"3596\",\"type\":\"AllLabels\"},{\"attributes\":{\"overlay\":{\"id\":\"3571\"}},\"id\":\"3569\",\"type\":\"BoxZoomTool\"},{\"attributes\":{},\"id\":\"3570\",\"type\":\"ResetTool\"},{\"attributes\":{},\"id\":\"3554\",\"type\":\"LinearScale\"},{\"attributes\":{\"bottom_units\":\"screen\",\"coordinates\":null,\"fill_alpha\":0.5,\"fill_color\":\"lightgrey\",\"group\":null,\"left_units\":\"screen\",\"level\":\"overlay\",\"line_alpha\":1.0,\"line_color\":\"black\",\"line_dash\":[4,4],\"line_width\":2,\"right_units\":\"screen\",\"syncable\":false,\"top_units\":\"screen\"},\"id\":\"3571\",\"type\":\"BoxAnnotation\"},{\"attributes\":{\"coordinates\":null,\"data_source\":{\"id\":\"3579\"},\"glyph\":{\"id\":\"3582\"},\"group\":null,\"hover_glyph\":null,\"muted_glyph\":{\"id\":\"3584\"},\"nonselection_glyph\":{\"id\":\"3583\"},\"selection_glyph\":{\"id\":\"3587\"},\"view\":{\"id\":\"3586\"}},\"id\":\"3585\",\"type\":\"GlyphRenderer\"},{\"attributes\":{\"line_alpha\":0.1,\"line_color\":\"#30a2da\",\"line_width\":2,\"x\":{\"field\":\"k\"},\"y\":{\"field\":\"inertia\"}},\"id\":\"3583\",\"type\":\"Line\"},{\"attributes\":{\"end\":313.24544872308525,\"reset_end\":313.24544872308525,\"reset_start\":-1.6999359539375583,\"start\":-1.6999359539375583,\"tags\":[[[\"inertia\",\"inertia\",null]]]},\"id\":\"3547\",\"type\":\"Range1d\"},{\"attributes\":{\"active_drag\":{\"id\":\"3567\"},\"active_scroll\":{\"id\":\"3568\"},\"tools\":[{\"id\":\"3548\"},{\"id\":\"3566\"},{\"id\":\"3567\"},{\"id\":\"3568\"},{\"id\":\"3569\"},{\"id\":\"3570\"}]},\"id\":\"3572\",\"type\":\"Toolbar\"},{\"attributes\":{},\"id\":\"3580\",\"type\":\"Selection\"},{\"attributes\":{\"data\":{\"inertia\":{\"__ndarray__\":\"AAAAAADwcUByhzI6P3poQN+RvNowzF5AF+6ulG/BU0BnEQsuWlNQQObqC/e6cUpAhyebkxT1RUBt++EeLsJCQMB0IF8cPkBAineL7Q85PEAoCo+5pos4QA==\",\"dtype\":\"float64\",\"order\":\"little\",\"shape\":[11]},\"k\":[1,2,3,4,5,6,7,8,9,10,11]},\"selected\":{\"id\":\"3580\"},\"selection_policy\":{\"id\":\"3607\"}},\"id\":\"3579\",\"type\":\"ColumnDataSource\"},{\"attributes\":{\"line_color\":\"#30a2da\",\"line_width\":2,\"x\":{\"field\":\"k\"},\"y\":{\"field\":\"inertia\"}},\"id\":\"3582\",\"type\":\"Line\"},{\"attributes\":{\"line_alpha\":0.2,\"line_color\":\"#30a2da\",\"line_width\":2,\"x\":{\"field\":\"k\"},\"y\":{\"field\":\"inertia\"}},\"id\":\"3584\",\"type\":\"Line\"},{\"attributes\":{\"children\":[{\"id\":\"3549\"}],\"height\":300,\"margin\":[0,0,0,0],\"name\":\"Row03098\",\"sizing_mode\":\"fixed\",\"tags\":[\"embedded\"],\"width\":700},\"id\":\"3545\",\"type\":\"Row\"},{\"attributes\":{\"source\":{\"id\":\"3579\"}},\"id\":\"3586\",\"type\":\"CDSView\"},{\"attributes\":{\"end\":11.0,\"reset_end\":11.0,\"reset_start\":1.0,\"start\":1.0,\"tags\":[[[\"k\",\"k\",null]]]},\"id\":\"3546\",\"type\":\"Range1d\"},{\"attributes\":{\"callback\":null,\"renderers\":[{\"id\":\"3585\"}],\"tags\":[\"hv_created\"],\"tooltips\":[[\"k\",\"@{k}\"],[\"inertia\",\"@{inertia}\"]]},\"id\":\"3548\",\"type\":\"HoverTool\"},{\"attributes\":{\"line_color\":\"#30a2da\",\"line_width\":2,\"x\":{\"field\":\"k\"},\"y\":{\"field\":\"inertia\"}},\"id\":\"3587\",\"type\":\"Line\"},{\"attributes\":{},\"id\":\"3556\",\"type\":\"LinearScale\"},{\"attributes\":{},\"id\":\"3567\",\"type\":\"PanTool\"},{\"attributes\":{\"ticks\":[1,2,3,4,5,6,7,8,9,10,11]},\"id\":\"3588\",\"type\":\"FixedTicker\"},{\"attributes\":{\"coordinates\":null,\"group\":null,\"text\":\"Elbow Curve\",\"text_color\":\"black\",\"text_font_size\":\"12pt\"},\"id\":\"3550\",\"type\":\"Title\"},{\"attributes\":{},\"id\":\"3607\",\"type\":\"UnionRenderers\"},{\"attributes\":{\"axis\":{\"id\":\"3558\"},\"coordinates\":null,\"grid_line_color\":null,\"group\":null,\"ticker\":null},\"id\":\"3561\",\"type\":\"Grid\"},{\"attributes\":{\"axis_label\":\"k\",\"coordinates\":null,\"formatter\":{\"id\":\"3590\"},\"group\":null,\"major_label_policy\":{\"id\":\"3591\"},\"ticker\":{\"id\":\"3588\"}},\"id\":\"3558\",\"type\":\"LinearAxis\"},{\"attributes\":{},\"id\":\"3595\",\"type\":\"BasicTickFormatter\"},{\"attributes\":{},\"id\":\"3590\",\"type\":\"BasicTickFormatter\"},{\"attributes\":{\"axis_label\":\"inertia\",\"coordinates\":null,\"formatter\":{\"id\":\"3595\"},\"group\":null,\"major_label_policy\":{\"id\":\"3596\"},\"ticker\":{\"id\":\"3563\"}},\"id\":\"3562\",\"type\":\"LinearAxis\"},{\"attributes\":{\"axis\":{\"id\":\"3562\"},\"coordinates\":null,\"dimension\":1,\"grid_line_color\":null,\"group\":null,\"ticker\":null},\"id\":\"3565\",\"type\":\"Grid\"},{\"attributes\":{},\"id\":\"3591\",\"type\":\"AllLabels\"},{\"attributes\":{},\"id\":\"3563\",\"type\":\"BasicTicker\"},{\"attributes\":{},\"id\":\"3568\",\"type\":\"WheelZoomTool\"},{\"attributes\":{\"below\":[{\"id\":\"3558\"}],\"center\":[{\"id\":\"3561\"},{\"id\":\"3565\"}],\"height\":300,\"left\":[{\"id\":\"3562\"}],\"margin\":[5,5,5,5],\"min_border_bottom\":10,\"min_border_left\":10,\"min_border_right\":10,\"min_border_top\":10,\"renderers\":[{\"id\":\"3585\"}],\"sizing_mode\":\"fixed\",\"title\":{\"id\":\"3550\"},\"toolbar\":{\"id\":\"3572\"},\"width\":700,\"x_range\":{\"id\":\"3546\"},\"x_scale\":{\"id\":\"3554\"},\"y_range\":{\"id\":\"3547\"},\"y_scale\":{\"id\":\"3556\"}},\"id\":\"3549\",\"subtype\":\"Figure\",\"type\":\"Plot\"}],\"root_ids\":[\"3545\"]},\"title\":\"Bokeh Application\",\"version\":\"2.4.3\"}};\n",
       "    var render_items = [{\"docid\":\"9aae6d72-9509-4ccb-9947-9481756ec0f6\",\"root_ids\":[\"3545\"],\"roots\":{\"3545\":\"436e3afb-dc80-4afa-bd7b-df4ce871b0af\"}}];\n",
       "    root.Bokeh.embed.embed_items_notebook(docs_json, render_items);\n",
       "    for (const render_item of render_items) {\n",
       "      for (const root_id of render_item.root_ids) {\n",
       "\tconst id_el = document.getElementById(root_id)\n",
       "\tif (id_el.children.length && (id_el.children[0].className === 'bk-root')) {\n",
       "\t  const root_el = id_el.children[0]\n",
       "\t  root_el.id = root_el.id + '-rendered'\n",
       "\t}\n",
       "      }\n",
       "    }\n",
       "  }\n",
       "  if (root.Bokeh !== undefined && root.Bokeh.Panel !== undefined) {\n",
       "    embed_document(root);\n",
       "  } else {\n",
       "    var attempts = 0;\n",
       "    var timer = setInterval(function(root) {\n",
       "      if (root.Bokeh !== undefined && root.Bokeh.Panel !== undefined) {\n",
       "        clearInterval(timer);\n",
       "        embed_document(root);\n",
       "      } else if (document.readyState == \"complete\") {\n",
       "        attempts++;\n",
       "        if (attempts > 200) {\n",
       "          clearInterval(timer);\n",
       "          console.log(\"Bokeh: ERROR: Unable to run BokehJS code because BokehJS library is missing\");\n",
       "        }\n",
       "      }\n",
       "    }, 25, root)\n",
       "  }\n",
       "})(window);</script>"
      ],
      "text/plain": [
       ":Curve   [k]   (inertia)"
      ]
     },
     "execution_count": 55,
     "metadata": {
      "application/vnd.holoviews_exec.v0+json": {
       "id": "3545"
      }
     },
     "output_type": "execute_result"
    }
   ],
   "source": [
    "# Plot a line chart with all the inertia values computed with \n",
    "# the different values of k to visually identify the optimal value for k.\n",
    "scaled_elbow_data = elbow_df.hvplot.line(x='k', y='inertia', title=\"Elbow Curve\", xticks=k)\n",
    "scaled_elbow_data\n"
   ]
  },
  {
   "cell_type": "markdown",
   "metadata": {},
   "source": [
    "# Answer the following question: \n",
    "\n",
    "**Question:** What is the best value for `k`?\n",
    "\n",
    "**Answer:** it seems to be 4"
   ]
  },
  {
   "cell_type": "markdown",
   "metadata": {},
   "source": [
    "---"
   ]
  },
  {
   "cell_type": "markdown",
   "metadata": {},
   "source": [
    "### Cluster Cryptocurrencies with K-means Using the Original Data"
   ]
  },
  {
   "cell_type": "code",
   "execution_count": 56,
   "metadata": {},
   "outputs": [],
   "source": [
    "# Initialize the K-Means model using the best value for k\n",
    "k_means_model = KMeans(n_clusters=4, random_state=0)"
   ]
  },
  {
   "cell_type": "code",
   "execution_count": 57,
   "metadata": {},
   "outputs": [
    {
     "data": {
      "text/html": [
       "<style>#sk-container-id-3 {color: black;background-color: white;}#sk-container-id-3 pre{padding: 0;}#sk-container-id-3 div.sk-toggleable {background-color: white;}#sk-container-id-3 label.sk-toggleable__label {cursor: pointer;display: block;width: 100%;margin-bottom: 0;padding: 0.3em;box-sizing: border-box;text-align: center;}#sk-container-id-3 label.sk-toggleable__label-arrow:before {content: \"▸\";float: left;margin-right: 0.25em;color: #696969;}#sk-container-id-3 label.sk-toggleable__label-arrow:hover:before {color: black;}#sk-container-id-3 div.sk-estimator:hover label.sk-toggleable__label-arrow:before {color: black;}#sk-container-id-3 div.sk-toggleable__content {max-height: 0;max-width: 0;overflow: hidden;text-align: left;background-color: #f0f8ff;}#sk-container-id-3 div.sk-toggleable__content pre {margin: 0.2em;color: black;border-radius: 0.25em;background-color: #f0f8ff;}#sk-container-id-3 input.sk-toggleable__control:checked~div.sk-toggleable__content {max-height: 200px;max-width: 100%;overflow: auto;}#sk-container-id-3 input.sk-toggleable__control:checked~label.sk-toggleable__label-arrow:before {content: \"▾\";}#sk-container-id-3 div.sk-estimator input.sk-toggleable__control:checked~label.sk-toggleable__label {background-color: #d4ebff;}#sk-container-id-3 div.sk-label input.sk-toggleable__control:checked~label.sk-toggleable__label {background-color: #d4ebff;}#sk-container-id-3 input.sk-hidden--visually {border: 0;clip: rect(1px 1px 1px 1px);clip: rect(1px, 1px, 1px, 1px);height: 1px;margin: -1px;overflow: hidden;padding: 0;position: absolute;width: 1px;}#sk-container-id-3 div.sk-estimator {font-family: monospace;background-color: #f0f8ff;border: 1px dotted black;border-radius: 0.25em;box-sizing: border-box;margin-bottom: 0.5em;}#sk-container-id-3 div.sk-estimator:hover {background-color: #d4ebff;}#sk-container-id-3 div.sk-parallel-item::after {content: \"\";width: 100%;border-bottom: 1px solid gray;flex-grow: 1;}#sk-container-id-3 div.sk-label:hover label.sk-toggleable__label {background-color: #d4ebff;}#sk-container-id-3 div.sk-serial::before {content: \"\";position: absolute;border-left: 1px solid gray;box-sizing: border-box;top: 0;bottom: 0;left: 50%;z-index: 0;}#sk-container-id-3 div.sk-serial {display: flex;flex-direction: column;align-items: center;background-color: white;padding-right: 0.2em;padding-left: 0.2em;position: relative;}#sk-container-id-3 div.sk-item {position: relative;z-index: 1;}#sk-container-id-3 div.sk-parallel {display: flex;align-items: stretch;justify-content: center;background-color: white;position: relative;}#sk-container-id-3 div.sk-item::before, #sk-container-id-3 div.sk-parallel-item::before {content: \"\";position: absolute;border-left: 1px solid gray;box-sizing: border-box;top: 0;bottom: 0;left: 50%;z-index: -1;}#sk-container-id-3 div.sk-parallel-item {display: flex;flex-direction: column;z-index: 1;position: relative;background-color: white;}#sk-container-id-3 div.sk-parallel-item:first-child::after {align-self: flex-end;width: 50%;}#sk-container-id-3 div.sk-parallel-item:last-child::after {align-self: flex-start;width: 50%;}#sk-container-id-3 div.sk-parallel-item:only-child::after {width: 0;}#sk-container-id-3 div.sk-dashed-wrapped {border: 1px dashed gray;margin: 0 0.4em 0.5em 0.4em;box-sizing: border-box;padding-bottom: 0.4em;background-color: white;}#sk-container-id-3 div.sk-label label {font-family: monospace;font-weight: bold;display: inline-block;line-height: 1.2em;}#sk-container-id-3 div.sk-label-container {text-align: center;}#sk-container-id-3 div.sk-container {/* jupyter's `normalize.less` sets `[hidden] { display: none; }` but bootstrap.min.css set `[hidden] { display: none !important; }` so we also need the `!important` here to be able to override the default hidden behavior on the sphinx rendered scikit-learn.org. See: https://github.com/scikit-learn/scikit-learn/issues/21755 */display: inline-block !important;position: relative;}#sk-container-id-3 div.sk-text-repr-fallback {display: none;}</style><div id=\"sk-container-id-3\" class=\"sk-top-container\"><div class=\"sk-text-repr-fallback\"><pre>KMeans(n_clusters=4, random_state=0)</pre><b>In a Jupyter environment, please rerun this cell to show the HTML representation or trust the notebook. <br />On GitHub, the HTML representation is unable to render, please try loading this page with nbviewer.org.</b></div><div class=\"sk-container\" hidden><div class=\"sk-item\"><div class=\"sk-estimator sk-toggleable\"><input class=\"sk-toggleable__control sk-hidden--visually\" id=\"sk-estimator-id-3\" type=\"checkbox\" checked><label for=\"sk-estimator-id-3\" class=\"sk-toggleable__label sk-toggleable__label-arrow\">KMeans</label><div class=\"sk-toggleable__content\"><pre>KMeans(n_clusters=4, random_state=0)</pre></div></div></div></div></div>"
      ],
      "text/plain": [
       "KMeans(n_clusters=4, random_state=0)"
      ]
     },
     "execution_count": 57,
     "metadata": {},
     "output_type": "execute_result"
    }
   ],
   "source": [
    "# Fit the K-Means model using the scaled data\n",
    "k_means_model.fit(scaled_market_data_df)"
   ]
  },
  {
   "cell_type": "code",
   "execution_count": 58,
   "metadata": {},
   "outputs": [
    {
     "data": {
      "text/plain": [
       "array([0, 0, 3, 3, 0, 0, 0, 0, 0, 3, 3, 3, 3, 0, 3, 0, 3, 3, 0, 3, 3, 0,\n",
       "       3, 3, 3, 3, 3, 3, 0, 3, 3, 3, 1, 0, 3, 3, 2, 3, 3, 3, 3])"
      ]
     },
     "execution_count": 58,
     "metadata": {},
     "output_type": "execute_result"
    }
   ],
   "source": [
    "# Predict the clusters to group the cryptocurrencies using the scaled data\n",
    "predictions = k_means_model.predict(scaled_market_data_df)\n",
    "\n",
    "\n",
    "# Print the resulting array of cluster values.\n",
    "predictions"
   ]
  },
  {
   "cell_type": "code",
   "execution_count": 59,
   "metadata": {},
   "outputs": [],
   "source": [
    "# Create a copy of the DataFrame\n",
    "copy_scaled_market_data_df = scaled_market_data_df.copy()"
   ]
  },
  {
   "cell_type": "code",
   "execution_count": 60,
   "metadata": {},
   "outputs": [
    {
     "data": {
      "text/html": [
       "<div>\n",
       "<style scoped>\n",
       "    .dataframe tbody tr th:only-of-type {\n",
       "        vertical-align: middle;\n",
       "    }\n",
       "\n",
       "    .dataframe tbody tr th {\n",
       "        vertical-align: top;\n",
       "    }\n",
       "\n",
       "    .dataframe thead th {\n",
       "        text-align: right;\n",
       "    }\n",
       "</style>\n",
       "<table border=\"1\" class=\"dataframe\">\n",
       "  <thead>\n",
       "    <tr style=\"text-align: right;\">\n",
       "      <th></th>\n",
       "      <th>price_change_percentage_24h</th>\n",
       "      <th>price_change_percentage_7d</th>\n",
       "      <th>price_change_percentage_14d</th>\n",
       "      <th>price_change_percentage_30d</th>\n",
       "      <th>price_change_percentage_60d</th>\n",
       "      <th>price_change_percentage_200d</th>\n",
       "      <th>price_change_percentage_1y</th>\n",
       "      <th>cluster</th>\n",
       "    </tr>\n",
       "    <tr>\n",
       "      <th>coin_id</th>\n",
       "      <th></th>\n",
       "      <th></th>\n",
       "      <th></th>\n",
       "      <th></th>\n",
       "      <th></th>\n",
       "      <th></th>\n",
       "      <th></th>\n",
       "      <th></th>\n",
       "    </tr>\n",
       "  </thead>\n",
       "  <tbody>\n",
       "    <tr>\n",
       "      <th>bitcoin</th>\n",
       "      <td>0.508529</td>\n",
       "      <td>0.493193</td>\n",
       "      <td>0.772200</td>\n",
       "      <td>0.235460</td>\n",
       "      <td>-0.067495</td>\n",
       "      <td>-0.355953</td>\n",
       "      <td>-0.251637</td>\n",
       "      <td>0</td>\n",
       "    </tr>\n",
       "    <tr>\n",
       "      <th>ethereum</th>\n",
       "      <td>0.185446</td>\n",
       "      <td>0.934445</td>\n",
       "      <td>0.558692</td>\n",
       "      <td>-0.054341</td>\n",
       "      <td>-0.273483</td>\n",
       "      <td>-0.115759</td>\n",
       "      <td>-0.199352</td>\n",
       "      <td>0</td>\n",
       "    </tr>\n",
       "    <tr>\n",
       "      <th>tether</th>\n",
       "      <td>0.021774</td>\n",
       "      <td>-0.706337</td>\n",
       "      <td>-0.021680</td>\n",
       "      <td>-0.061030</td>\n",
       "      <td>0.008005</td>\n",
       "      <td>-0.550247</td>\n",
       "      <td>-0.282061</td>\n",
       "      <td>3</td>\n",
       "    </tr>\n",
       "    <tr>\n",
       "      <th>ripple</th>\n",
       "      <td>-0.040764</td>\n",
       "      <td>-0.810928</td>\n",
       "      <td>0.249458</td>\n",
       "      <td>-0.050388</td>\n",
       "      <td>-0.373164</td>\n",
       "      <td>-0.458259</td>\n",
       "      <td>-0.295546</td>\n",
       "      <td>3</td>\n",
       "    </tr>\n",
       "    <tr>\n",
       "      <th>bitcoin-cash</th>\n",
       "      <td>1.193036</td>\n",
       "      <td>2.000959</td>\n",
       "      <td>1.760610</td>\n",
       "      <td>0.545842</td>\n",
       "      <td>-0.291203</td>\n",
       "      <td>-0.499848</td>\n",
       "      <td>-0.270317</td>\n",
       "      <td>0</td>\n",
       "    </tr>\n",
       "  </tbody>\n",
       "</table>\n",
       "</div>"
      ],
      "text/plain": [
       "              price_change_percentage_24h  price_change_percentage_7d  \\\n",
       "coin_id                                                                 \n",
       "bitcoin                          0.508529                    0.493193   \n",
       "ethereum                         0.185446                    0.934445   \n",
       "tether                           0.021774                   -0.706337   \n",
       "ripple                          -0.040764                   -0.810928   \n",
       "bitcoin-cash                     1.193036                    2.000959   \n",
       "\n",
       "              price_change_percentage_14d  price_change_percentage_30d  \\\n",
       "coin_id                                                                  \n",
       "bitcoin                          0.772200                     0.235460   \n",
       "ethereum                         0.558692                    -0.054341   \n",
       "tether                          -0.021680                    -0.061030   \n",
       "ripple                           0.249458                    -0.050388   \n",
       "bitcoin-cash                     1.760610                     0.545842   \n",
       "\n",
       "              price_change_percentage_60d  price_change_percentage_200d  \\\n",
       "coin_id                                                                   \n",
       "bitcoin                         -0.067495                     -0.355953   \n",
       "ethereum                        -0.273483                     -0.115759   \n",
       "tether                           0.008005                     -0.550247   \n",
       "ripple                          -0.373164                     -0.458259   \n",
       "bitcoin-cash                    -0.291203                     -0.499848   \n",
       "\n",
       "              price_change_percentage_1y  cluster  \n",
       "coin_id                                            \n",
       "bitcoin                        -0.251637        0  \n",
       "ethereum                       -0.199352        0  \n",
       "tether                         -0.282061        3  \n",
       "ripple                         -0.295546        3  \n",
       "bitcoin-cash                   -0.270317        0  "
      ]
     },
     "execution_count": 60,
     "metadata": {},
     "output_type": "execute_result"
    }
   ],
   "source": [
    "# Add a new column to the DataFrame with the predicted clusters\n",
    "copy_scaled_market_data_df['cluster'] = predictions\n",
    "\n",
    "\n",
    "# Display sample data\n",
    "copy_scaled_market_data_df.head()"
   ]
  },
  {
   "cell_type": "code",
   "execution_count": 61,
   "metadata": {},
   "outputs": [
    {
     "data": {},
     "metadata": {},
     "output_type": "display_data"
    },
    {
     "data": {
      "application/vnd.holoviews_exec.v0+json": "",
      "text/html": [
       "<div id='3656'>\n",
       "  <div class=\"bk-root\" id=\"adddfa1a-a66f-4767-bf03-e2484d8afa55\" data-root-id=\"3656\"></div>\n",
       "</div>\n",
       "<script type=\"application/javascript\">(function(root) {\n",
       "  function embed_document(root) {\n",
       "    var docs_json = {\"c973a0d3-2b6a-420d-8bd8-56883e3afa47\":{\"defs\":[{\"extends\":null,\"module\":null,\"name\":\"ReactiveHTML1\",\"overrides\":[],\"properties\":[]},{\"extends\":null,\"module\":null,\"name\":\"FlexBox1\",\"overrides\":[],\"properties\":[{\"default\":\"flex-start\",\"kind\":null,\"name\":\"align_content\"},{\"default\":\"flex-start\",\"kind\":null,\"name\":\"align_items\"},{\"default\":\"row\",\"kind\":null,\"name\":\"flex_direction\"},{\"default\":\"wrap\",\"kind\":null,\"name\":\"flex_wrap\"},{\"default\":\"flex-start\",\"kind\":null,\"name\":\"justify_content\"}]},{\"extends\":null,\"module\":null,\"name\":\"GridStack1\",\"overrides\":[],\"properties\":[{\"default\":\"warn\",\"kind\":null,\"name\":\"mode\"},{\"default\":null,\"kind\":null,\"name\":\"ncols\"},{\"default\":null,\"kind\":null,\"name\":\"nrows\"},{\"default\":true,\"kind\":null,\"name\":\"allow_resize\"},{\"default\":true,\"kind\":null,\"name\":\"allow_drag\"},{\"default\":[],\"kind\":null,\"name\":\"state\"}]},{\"extends\":null,\"module\":null,\"name\":\"click1\",\"overrides\":[],\"properties\":[{\"default\":\"\",\"kind\":null,\"name\":\"terminal_output\"},{\"default\":\"\",\"kind\":null,\"name\":\"debug_name\"},{\"default\":0,\"kind\":null,\"name\":\"clears\"}]},{\"extends\":null,\"module\":null,\"name\":\"NotificationAreaBase1\",\"overrides\":[],\"properties\":[{\"default\":\"bottom-right\",\"kind\":null,\"name\":\"position\"},{\"default\":0,\"kind\":null,\"name\":\"_clear\"}]},{\"extends\":null,\"module\":null,\"name\":\"NotificationArea1\",\"overrides\":[],\"properties\":[{\"default\":[],\"kind\":null,\"name\":\"notifications\"},{\"default\":\"bottom-right\",\"kind\":null,\"name\":\"position\"},{\"default\":0,\"kind\":null,\"name\":\"_clear\"},{\"default\":[{\"background\":\"#ffc107\",\"icon\":{\"className\":\"fas fa-exclamation-triangle\",\"color\":\"white\",\"tagName\":\"i\"},\"type\":\"warning\"},{\"background\":\"#007bff\",\"icon\":{\"className\":\"fas fa-info-circle\",\"color\":\"white\",\"tagName\":\"i\"},\"type\":\"info\"}],\"kind\":null,\"name\":\"types\"}]},{\"extends\":null,\"module\":null,\"name\":\"Notification\",\"overrides\":[],\"properties\":[{\"default\":null,\"kind\":null,\"name\":\"background\"},{\"default\":3000,\"kind\":null,\"name\":\"duration\"},{\"default\":null,\"kind\":null,\"name\":\"icon\"},{\"default\":\"\",\"kind\":null,\"name\":\"message\"},{\"default\":null,\"kind\":null,\"name\":\"notification_type\"},{\"default\":false,\"kind\":null,\"name\":\"_destroyed\"}]},{\"extends\":null,\"module\":null,\"name\":\"TemplateActions1\",\"overrides\":[],\"properties\":[{\"default\":0,\"kind\":null,\"name\":\"open_modal\"},{\"default\":0,\"kind\":null,\"name\":\"close_modal\"}]},{\"extends\":null,\"module\":null,\"name\":\"MaterialTemplateActions1\",\"overrides\":[],\"properties\":[{\"default\":0,\"kind\":null,\"name\":\"open_modal\"},{\"default\":0,\"kind\":null,\"name\":\"close_modal\"}]}],\"roots\":{\"references\":[{\"attributes\":{},\"id\":\"3695\",\"type\":\"AllLabels\"},{\"attributes\":{},\"id\":\"3682\",\"type\":\"WheelZoomTool\"},{\"attributes\":{},\"id\":\"3681\",\"type\":\"PanTool\"},{\"attributes\":{\"fill_alpha\":{\"value\":0.2},\"fill_color\":{\"value\":\"#e5ae38\"},\"hatch_alpha\":{\"value\":0.2},\"hatch_color\":{\"value\":\"#e5ae38\"},\"line_alpha\":{\"value\":0.2},\"line_color\":{\"value\":\"#e5ae38\"},\"size\":{\"value\":5.477225575051661},\"x\":{\"field\":\"price_change_percentage_24h\"},\"y\":{\"field\":\"price_change_percentage_7d\"}},\"id\":\"3747\",\"type\":\"Scatter\"},{\"attributes\":{},\"id\":\"3680\",\"type\":\"SaveTool\"},{\"attributes\":{\"data\":{\"cluster\":[1],\"coin_id\":[\"ethlend\"],\"price_change_percentage_24h\":{\"__ndarray__\":\"3WeHPpbsE8A=\",\"dtype\":\"float64\",\"order\":\"little\",\"shape\":[1]},\"price_change_percentage_7d\":{\"__ndarray__\":\"dIWi2pshp78=\",\"dtype\":\"float64\",\"order\":\"little\",\"shape\":[1]}},\"selected\":{\"id\":\"3721\"},\"selection_policy\":{\"id\":\"3737\"}},\"id\":\"3720\",\"type\":\"ColumnDataSource\"},{\"attributes\":{\"fill_color\":{\"value\":\"#e5ae38\"},\"hatch_color\":{\"value\":\"#e5ae38\"},\"line_color\":{\"value\":\"#e5ae38\"},\"size\":{\"value\":5.477225575051661},\"x\":{\"field\":\"price_change_percentage_24h\"},\"y\":{\"field\":\"price_change_percentage_7d\"}},\"id\":\"3745\",\"type\":\"Scatter\"},{\"attributes\":{\"overlay\":{\"id\":\"3685\"}},\"id\":\"3683\",\"type\":\"BoxZoomTool\"},{\"attributes\":{},\"id\":\"3668\",\"type\":\"LinearScale\"},{\"attributes\":{},\"id\":\"3684\",\"type\":\"ResetTool\"},{\"attributes\":{\"label\":{\"value\":\"1\"},\"renderers\":[{\"id\":\"3726\"}]},\"id\":\"3740\",\"type\":\"LegendItem\"},{\"attributes\":{\"data\":{\"cluster\":[3,3,3,3,3,3,3,3,3,3,3,3,3,3,3,3,3,3,3,3,3,3,3,3,3,3],\"coin_id\":[\"tether\",\"ripple\",\"bitcoin-cash-sv\",\"crypto-com-chain\",\"usd-coin\",\"eos\",\"tron\",\"okb\",\"stellar\",\"cdai\",\"neo\",\"leo-token\",\"huobi-token\",\"nem\",\"binance-usd\",\"iota\",\"vechain\",\"theta-token\",\"dash\",\"ethereum-classic\",\"havven\",\"omisego\",\"ontology\",\"ftx-token\",\"true-usd\",\"digibyte\"],\"price_change_percentage_24h\":{\"__ndarray__\":\"mCJF1OlLlj/mJRG3Ed+kv1qZGRifu9w//rJXHrAz1T/yMTqenpahPx9kk3dK7sM/GTRehHalwD90fnl54Irtv9XPDahDw9G/+VOWQSEmxz+kpbukw1bSP6eM4M4OgKo/BcMOj9+jqr/Chq6S5ebLv2h3TIfCZ68/weEQ8QyV0D/KmZTmC7niP1YH9WGFy/m/N7JuVBEB07/EU4GAhEGyv8Ocf0hw2/a/lrPBJY23/j/IKcQzxy3av5WrmDyeito/Bf22eE/6sz9Y362Ir3rzPw==\",\"dtype\":\"float64\",\"order\":\"little\",\"shape\":[26]},\"price_change_percentage_7d\":{\"__ndarray__\":\"bZSIvk+a5r9RujxqH/Ppvw2U7adXaMi/d+r7VGbW+b9EGSx/8nTnv4rfBo4Lhe2/BEBwXEEApb8Udj8VbP/2vySelkVDp9i/7SZvVsyO5r8uu+JVH+LUvziN+gRMte2/o2qlez1D3b/CtPLKIS7rvyYjaswHnea/US6joeTvzz/dRmuCvtDvv/9TV66U6fq/ZWX+mWVCuD8GJ0pHuV/Nv8nIE2ZWH5q/TTxj/me11z+Htdvf1gXtv2Avihmzf9o/e31xtwIC5r/STlu6Y3Ljvw==\",\"dtype\":\"float64\",\"order\":\"little\",\"shape\":[26]}},\"selected\":{\"id\":\"3767\"},\"selection_policy\":{\"id\":\"3787\"}},\"id\":\"3766\",\"type\":\"ColumnDataSource\"},{\"attributes\":{\"angle\":{\"value\":0.0},\"fill_alpha\":{\"value\":1.0},\"fill_color\":{\"value\":\"#6d904f\"},\"hatch_alpha\":{\"value\":1.0},\"hatch_color\":{\"value\":\"#6d904f\"},\"hatch_scale\":{\"value\":12.0},\"hatch_weight\":{\"value\":1.0},\"line_alpha\":{\"value\":1.0},\"line_cap\":{\"value\":\"butt\"},\"line_color\":{\"value\":\"#6d904f\"},\"line_dash\":{\"value\":[]},\"line_dash_offset\":{\"value\":0},\"line_join\":{\"value\":\"bevel\"},\"line_width\":{\"value\":1},\"marker\":{\"value\":\"circle\"},\"size\":{\"value\":5.477225575051661},\"x\":{\"field\":\"price_change_percentage_24h\"},\"y\":{\"field\":\"price_change_percentage_7d\"}},\"id\":\"3791\",\"type\":\"Scatter\"},{\"attributes\":{\"bottom_units\":\"screen\",\"coordinates\":null,\"fill_alpha\":0.5,\"fill_color\":\"lightgrey\",\"group\":null,\"left_units\":\"screen\",\"level\":\"overlay\",\"line_alpha\":1.0,\"line_color\":\"black\",\"line_dash\":[4,4],\"line_width\":2,\"right_units\":\"screen\",\"syncable\":false,\"top_units\":\"screen\"},\"id\":\"3685\",\"type\":\"BoxAnnotation\"},{\"attributes\":{},\"id\":\"3737\",\"type\":\"UnionRenderers\"},{\"attributes\":{\"active_drag\":{\"id\":\"3681\"},\"active_scroll\":{\"id\":\"3682\"},\"tools\":[{\"id\":\"3659\"},{\"id\":\"3680\"},{\"id\":\"3681\"},{\"id\":\"3682\"},{\"id\":\"3683\"},{\"id\":\"3684\"}]},\"id\":\"3686\",\"type\":\"Toolbar\"},{\"attributes\":{\"fill_alpha\":{\"value\":0.2},\"fill_color\":{\"value\":\"#fc4f30\"},\"hatch_alpha\":{\"value\":0.2},\"hatch_color\":{\"value\":\"#fc4f30\"},\"line_alpha\":{\"value\":0.2},\"line_color\":{\"value\":\"#fc4f30\"},\"size\":{\"value\":5.477225575051661},\"x\":{\"field\":\"price_change_percentage_24h\"},\"y\":{\"field\":\"price_change_percentage_7d\"}},\"id\":\"3725\",\"type\":\"Scatter\"},{\"attributes\":{\"fill_color\":{\"value\":\"#6d904f\"},\"hatch_color\":{\"value\":\"#6d904f\"},\"line_color\":{\"value\":\"#6d904f\"},\"size\":{\"value\":5.477225575051661},\"x\":{\"field\":\"price_change_percentage_24h\"},\"y\":{\"field\":\"price_change_percentage_7d\"}},\"id\":\"3769\",\"type\":\"Scatter\"},{\"attributes\":{},\"id\":\"3694\",\"type\":\"BasicTickFormatter\"},{\"attributes\":{\"fill_color\":{\"value\":\"#fc4f30\"},\"hatch_color\":{\"value\":\"#fc4f30\"},\"line_color\":{\"value\":\"#fc4f30\"},\"size\":{\"value\":5.477225575051661},\"x\":{\"field\":\"price_change_percentage_24h\"},\"y\":{\"field\":\"price_change_percentage_7d\"}},\"id\":\"3723\",\"type\":\"Scatter\"},{\"attributes\":{},\"id\":\"3697\",\"type\":\"BasicTickFormatter\"},{\"attributes\":{},\"id\":\"3698\",\"type\":\"AllLabels\"},{\"attributes\":{\"angle\":{\"value\":0.0},\"fill_alpha\":{\"value\":1.0},\"fill_color\":{\"value\":\"#e5ae38\"},\"hatch_alpha\":{\"value\":1.0},\"hatch_color\":{\"value\":\"#e5ae38\"},\"hatch_scale\":{\"value\":12.0},\"hatch_weight\":{\"value\":1.0},\"line_alpha\":{\"value\":1.0},\"line_cap\":{\"value\":\"butt\"},\"line_color\":{\"value\":\"#e5ae38\"},\"line_dash\":{\"value\":[]},\"line_dash_offset\":{\"value\":0},\"line_join\":{\"value\":\"bevel\"},\"line_width\":{\"value\":1},\"marker\":{\"value\":\"circle\"},\"size\":{\"value\":5.477225575051661},\"x\":{\"field\":\"price_change_percentage_24h\"},\"y\":{\"field\":\"price_change_percentage_7d\"}},\"id\":\"3765\",\"type\":\"Scatter\"},{\"attributes\":{},\"id\":\"3700\",\"type\":\"Selection\"},{\"attributes\":{},\"id\":\"3767\",\"type\":\"Selection\"},{\"attributes\":{\"fill_alpha\":{\"value\":0.1},\"fill_color\":{\"value\":\"#30a2da\"},\"hatch_alpha\":{\"value\":0.1},\"hatch_color\":{\"value\":\"#30a2da\"},\"line_alpha\":{\"value\":0.1},\"line_color\":{\"value\":\"#30a2da\"},\"size\":{\"value\":5.477225575051661},\"x\":{\"field\":\"price_change_percentage_24h\"},\"y\":{\"field\":\"price_change_percentage_7d\"}},\"id\":\"3703\",\"type\":\"Scatter\"},{\"attributes\":{\"coordinates\":null,\"data_source\":{\"id\":\"3699\"},\"glyph\":{\"id\":\"3702\"},\"group\":null,\"hover_glyph\":null,\"muted_glyph\":{\"id\":\"3704\"},\"nonselection_glyph\":{\"id\":\"3703\"},\"selection_glyph\":{\"id\":\"3719\"},\"view\":{\"id\":\"3706\"}},\"id\":\"3705\",\"type\":\"GlyphRenderer\"},{\"attributes\":{\"source\":{\"id\":\"3699\"}},\"id\":\"3706\",\"type\":\"CDSView\"},{\"attributes\":{\"source\":{\"id\":\"3766\"}},\"id\":\"3773\",\"type\":\"CDSView\"},{\"attributes\":{\"click_policy\":\"mute\",\"coordinates\":null,\"group\":null,\"items\":[{\"id\":\"3718\"},{\"id\":\"3740\"},{\"id\":\"3764\"},{\"id\":\"3790\"}],\"location\":[0,0],\"title\":\"cluster\"},\"id\":\"3717\",\"type\":\"Legend\"},{\"attributes\":{\"angle\":{\"value\":0.0},\"fill_alpha\":{\"value\":1.0},\"fill_color\":{\"value\":\"#fc4f30\"},\"hatch_alpha\":{\"value\":1.0},\"hatch_color\":{\"value\":\"#fc4f30\"},\"hatch_scale\":{\"value\":12.0},\"hatch_weight\":{\"value\":1.0},\"line_alpha\":{\"value\":1.0},\"line_cap\":{\"value\":\"butt\"},\"line_color\":{\"value\":\"#fc4f30\"},\"line_dash\":{\"value\":[]},\"line_dash_offset\":{\"value\":0},\"line_join\":{\"value\":\"bevel\"},\"line_width\":{\"value\":1},\"marker\":{\"value\":\"circle\"},\"size\":{\"value\":5.477225575051661},\"x\":{\"field\":\"price_change_percentage_24h\"},\"y\":{\"field\":\"price_change_percentage_7d\"}},\"id\":\"3741\",\"type\":\"Scatter\"},{\"attributes\":{},\"id\":\"3743\",\"type\":\"Selection\"},{\"attributes\":{\"below\":[{\"id\":\"3672\"}],\"center\":[{\"id\":\"3675\"},{\"id\":\"3679\"}],\"height\":300,\"left\":[{\"id\":\"3676\"}],\"margin\":[5,5,5,5],\"min_border_bottom\":10,\"min_border_left\":10,\"min_border_right\":10,\"min_border_top\":10,\"renderers\":[{\"id\":\"3705\"},{\"id\":\"3726\"},{\"id\":\"3748\"},{\"id\":\"3772\"}],\"right\":[{\"id\":\"3717\"}],\"sizing_mode\":\"fixed\",\"title\":{\"id\":\"3664\"},\"toolbar\":{\"id\":\"3686\"},\"width\":700,\"x_range\":{\"id\":\"3657\"},\"x_scale\":{\"id\":\"3668\"},\"y_range\":{\"id\":\"3658\"},\"y_scale\":{\"id\":\"3670\"}},\"id\":\"3663\",\"subtype\":\"Figure\",\"type\":\"Plot\"},{\"attributes\":{},\"id\":\"3787\",\"type\":\"UnionRenderers\"},{\"attributes\":{\"end\":2.997678656273595,\"reset_end\":2.997678656273595,\"reset_start\":-2.107454305728652,\"start\":-2.107454305728652,\"tags\":[[[\"price_change_percentage_7d\",\"price_change_percentage_7d\",null]]]},\"id\":\"3658\",\"type\":\"Range1d\"},{\"attributes\":{\"fill_alpha\":{\"value\":0.1},\"fill_color\":{\"value\":\"#6d904f\"},\"hatch_alpha\":{\"value\":0.1},\"hatch_color\":{\"value\":\"#6d904f\"},\"line_alpha\":{\"value\":0.1},\"line_color\":{\"value\":\"#6d904f\"},\"size\":{\"value\":5.477225575051661},\"x\":{\"field\":\"price_change_percentage_24h\"},\"y\":{\"field\":\"price_change_percentage_7d\"}},\"id\":\"3770\",\"type\":\"Scatter\"},{\"attributes\":{\"source\":{\"id\":\"3742\"}},\"id\":\"3749\",\"type\":\"CDSView\"},{\"attributes\":{\"callback\":null,\"renderers\":[{\"id\":\"3705\"},{\"id\":\"3726\"},{\"id\":\"3748\"},{\"id\":\"3772\"}],\"tags\":[\"hv_created\"],\"tooltips\":[[\"cluster\",\"@{cluster}\"],[\"price_change_percentage_24h\",\"@{price_change_percentage_24h}\"],[\"price_change_percentage_7d\",\"@{price_change_percentage_7d}\"],[\"coin_id\",\"@{coin_id}\"]]},\"id\":\"3659\",\"type\":\"HoverTool\"},{\"attributes\":{\"end\":2.2155632386560065,\"reset_end\":2.2155632386560065,\"reset_start\":-5.276792781891412,\"start\":-5.276792781891412,\"tags\":[[[\"price_change_percentage_24h\",\"price_change_percentage_24h\",null]]]},\"id\":\"3657\",\"type\":\"Range1d\"},{\"attributes\":{\"fill_alpha\":{\"value\":0.2},\"fill_color\":{\"value\":\"#30a2da\"},\"hatch_alpha\":{\"value\":0.2},\"hatch_color\":{\"value\":\"#30a2da\"},\"line_alpha\":{\"value\":0.2},\"line_color\":{\"value\":\"#30a2da\"},\"size\":{\"value\":5.477225575051661},\"x\":{\"field\":\"price_change_percentage_24h\"},\"y\":{\"field\":\"price_change_percentage_7d\"}},\"id\":\"3704\",\"type\":\"Scatter\"},{\"attributes\":{\"label\":{\"value\":\"3\"},\"renderers\":[{\"id\":\"3772\"}]},\"id\":\"3790\",\"type\":\"LegendItem\"},{\"attributes\":{\"source\":{\"id\":\"3720\"}},\"id\":\"3727\",\"type\":\"CDSView\"},{\"attributes\":{\"coordinates\":null,\"data_source\":{\"id\":\"3766\"},\"glyph\":{\"id\":\"3769\"},\"group\":null,\"hover_glyph\":null,\"muted_glyph\":{\"id\":\"3771\"},\"nonselection_glyph\":{\"id\":\"3770\"},\"selection_glyph\":{\"id\":\"3791\"},\"view\":{\"id\":\"3773\"}},\"id\":\"3772\",\"type\":\"GlyphRenderer\"},{\"attributes\":{\"fill_color\":{\"value\":\"#30a2da\"},\"hatch_color\":{\"value\":\"#30a2da\"},\"line_color\":{\"value\":\"#30a2da\"},\"size\":{\"value\":5.477225575051661},\"x\":{\"field\":\"price_change_percentage_24h\"},\"y\":{\"field\":\"price_change_percentage_7d\"}},\"id\":\"3702\",\"type\":\"Scatter\"},{\"attributes\":{\"label\":{\"value\":\"0\"},\"renderers\":[{\"id\":\"3705\"}]},\"id\":\"3718\",\"type\":\"LegendItem\"},{\"attributes\":{},\"id\":\"3714\",\"type\":\"UnionRenderers\"},{\"attributes\":{\"children\":[{\"id\":\"3663\"}],\"height\":300,\"margin\":[0,0,0,0],\"name\":\"Row03275\",\"sizing_mode\":\"fixed\",\"tags\":[\"embedded\"],\"width\":700},\"id\":\"3656\",\"type\":\"Row\"},{\"attributes\":{\"angle\":{\"value\":0.0},\"fill_alpha\":{\"value\":1.0},\"fill_color\":{\"value\":\"#30a2da\"},\"hatch_alpha\":{\"value\":1.0},\"hatch_color\":{\"value\":\"#30a2da\"},\"hatch_scale\":{\"value\":12.0},\"hatch_weight\":{\"value\":1.0},\"line_alpha\":{\"value\":1.0},\"line_cap\":{\"value\":\"butt\"},\"line_color\":{\"value\":\"#30a2da\"},\"line_dash\":{\"value\":[]},\"line_dash_offset\":{\"value\":0},\"line_join\":{\"value\":\"bevel\"},\"line_width\":{\"value\":1},\"marker\":{\"value\":\"circle\"},\"size\":{\"value\":5.477225575051661},\"x\":{\"field\":\"price_change_percentage_24h\"},\"y\":{\"field\":\"price_change_percentage_7d\"}},\"id\":\"3719\",\"type\":\"Scatter\"},{\"attributes\":{},\"id\":\"3670\",\"type\":\"LinearScale\"},{\"attributes\":{\"fill_alpha\":{\"value\":0.2},\"fill_color\":{\"value\":\"#6d904f\"},\"hatch_alpha\":{\"value\":0.2},\"hatch_color\":{\"value\":\"#6d904f\"},\"line_alpha\":{\"value\":0.2},\"line_color\":{\"value\":\"#6d904f\"},\"size\":{\"value\":5.477225575051661},\"x\":{\"field\":\"price_change_percentage_24h\"},\"y\":{\"field\":\"price_change_percentage_7d\"}},\"id\":\"3771\",\"type\":\"Scatter\"},{\"attributes\":{},\"id\":\"3721\",\"type\":\"Selection\"},{\"attributes\":{\"data\":{\"cluster\":[0,0,0,0,0,0,0,0,0,0,0,0,0],\"coin_id\":[\"bitcoin\",\"ethereum\",\"bitcoin-cash\",\"binancecoin\",\"chainlink\",\"cardano\",\"litecoin\",\"monero\",\"tezos\",\"cosmos\",\"wrapped-bitcoin\",\"zcash\",\"maker\"],\"price_change_percentage_24h\":{\"__ndarray__\":\"DdlqYN9F4D86azDosLzHPzALIwCtFvM/9w6McDSK7D/VDHOpb1eHPzMEvaFkP7o/Sds39trWsz9Epj8/c9DQP4xAeNEVZ8O/qq8st/Fh0L8FWWk3mH7gP6wo083aUMC//ACFOIMFwL8=\",\"dtype\":\"float64\",\"order\":\"little\",\"shape\":[13]},\"price_change_percentage_7d\":{\"__ndarray__\":\"U1k8q3mQ3z9yoPpI+ebtPzAB2dP2AQBAgmkOMZk89T8FNulI+JMEQCZRaSLGIPg/84wjaB1l1T8rMp3jf678P2VmURqKqeY/XK6ZksNx/T9DfMqy1o7dPyTPDB1Xu+0/srW7TleV4j8=\",\"dtype\":\"float64\",\"order\":\"little\",\"shape\":[13]}},\"selected\":{\"id\":\"3700\"},\"selection_policy\":{\"id\":\"3714\"}},\"id\":\"3699\",\"type\":\"ColumnDataSource\"},{\"attributes\":{\"data\":{\"cluster\":[2],\"coin_id\":[\"celsius-degree-token\"],\"price_change_percentage_24h\":{\"__ndarray__\":\"VLqXBn668D8=\",\"dtype\":\"float64\",\"order\":\"little\",\"shape\":[1]},\"price_change_percentage_7d\":{\"__ndarray__\":\"Nv03JFjJ478=\",\"dtype\":\"float64\",\"order\":\"little\",\"shape\":[1]}},\"selected\":{\"id\":\"3743\"},\"selection_policy\":{\"id\":\"3761\"}},\"id\":\"3742\",\"type\":\"ColumnDataSource\"},{\"attributes\":{\"coordinates\":null,\"group\":null,\"text\":\"Original data scatter plot\",\"text_color\":\"black\",\"text_font_size\":\"12pt\"},\"id\":\"3664\",\"type\":\"Title\"},{\"attributes\":{\"fill_alpha\":{\"value\":0.1},\"fill_color\":{\"value\":\"#fc4f30\"},\"hatch_alpha\":{\"value\":0.1},\"hatch_color\":{\"value\":\"#fc4f30\"},\"line_alpha\":{\"value\":0.1},\"line_color\":{\"value\":\"#fc4f30\"},\"size\":{\"value\":5.477225575051661},\"x\":{\"field\":\"price_change_percentage_24h\"},\"y\":{\"field\":\"price_change_percentage_7d\"}},\"id\":\"3724\",\"type\":\"Scatter\"},{\"attributes\":{\"axis_label\":\"price_change_percentage_24h\",\"coordinates\":null,\"formatter\":{\"id\":\"3694\"},\"group\":null,\"major_label_policy\":{\"id\":\"3695\"},\"ticker\":{\"id\":\"3673\"}},\"id\":\"3672\",\"type\":\"LinearAxis\"},{\"attributes\":{\"coordinates\":null,\"data_source\":{\"id\":\"3720\"},\"glyph\":{\"id\":\"3723\"},\"group\":null,\"hover_glyph\":null,\"muted_glyph\":{\"id\":\"3725\"},\"nonselection_glyph\":{\"id\":\"3724\"},\"selection_glyph\":{\"id\":\"3741\"},\"view\":{\"id\":\"3727\"}},\"id\":\"3726\",\"type\":\"GlyphRenderer\"},{\"attributes\":{\"fill_alpha\":{\"value\":0.1},\"fill_color\":{\"value\":\"#e5ae38\"},\"hatch_alpha\":{\"value\":0.1},\"hatch_color\":{\"value\":\"#e5ae38\"},\"line_alpha\":{\"value\":0.1},\"line_color\":{\"value\":\"#e5ae38\"},\"size\":{\"value\":5.477225575051661},\"x\":{\"field\":\"price_change_percentage_24h\"},\"y\":{\"field\":\"price_change_percentage_7d\"}},\"id\":\"3746\",\"type\":\"Scatter\"},{\"attributes\":{\"axis\":{\"id\":\"3672\"},\"coordinates\":null,\"grid_line_color\":null,\"group\":null,\"ticker\":null},\"id\":\"3675\",\"type\":\"Grid\"},{\"attributes\":{\"label\":{\"value\":\"2\"},\"renderers\":[{\"id\":\"3748\"}]},\"id\":\"3764\",\"type\":\"LegendItem\"},{\"attributes\":{\"coordinates\":null,\"data_source\":{\"id\":\"3742\"},\"glyph\":{\"id\":\"3745\"},\"group\":null,\"hover_glyph\":null,\"muted_glyph\":{\"id\":\"3747\"},\"nonselection_glyph\":{\"id\":\"3746\"},\"selection_glyph\":{\"id\":\"3765\"},\"view\":{\"id\":\"3749\"}},\"id\":\"3748\",\"type\":\"GlyphRenderer\"},{\"attributes\":{},\"id\":\"3673\",\"type\":\"BasicTicker\"},{\"attributes\":{\"axis\":{\"id\":\"3676\"},\"coordinates\":null,\"dimension\":1,\"grid_line_color\":null,\"group\":null,\"ticker\":null},\"id\":\"3679\",\"type\":\"Grid\"},{\"attributes\":{\"axis_label\":\"price_change_percentage_7d\",\"coordinates\":null,\"formatter\":{\"id\":\"3697\"},\"group\":null,\"major_label_policy\":{\"id\":\"3698\"},\"ticker\":{\"id\":\"3677\"}},\"id\":\"3676\",\"type\":\"LinearAxis\"},{\"attributes\":{},\"id\":\"3761\",\"type\":\"UnionRenderers\"},{\"attributes\":{},\"id\":\"3677\",\"type\":\"BasicTicker\"}],\"root_ids\":[\"3656\"]},\"title\":\"Bokeh Application\",\"version\":\"2.4.3\"}};\n",
       "    var render_items = [{\"docid\":\"c973a0d3-2b6a-420d-8bd8-56883e3afa47\",\"root_ids\":[\"3656\"],\"roots\":{\"3656\":\"adddfa1a-a66f-4767-bf03-e2484d8afa55\"}}];\n",
       "    root.Bokeh.embed.embed_items_notebook(docs_json, render_items);\n",
       "    for (const render_item of render_items) {\n",
       "      for (const root_id of render_item.root_ids) {\n",
       "\tconst id_el = document.getElementById(root_id)\n",
       "\tif (id_el.children.length && (id_el.children[0].className === 'bk-root')) {\n",
       "\t  const root_el = id_el.children[0]\n",
       "\t  root_el.id = root_el.id + '-rendered'\n",
       "\t}\n",
       "      }\n",
       "    }\n",
       "  }\n",
       "  if (root.Bokeh !== undefined && root.Bokeh.Panel !== undefined) {\n",
       "    embed_document(root);\n",
       "  } else {\n",
       "    var attempts = 0;\n",
       "    var timer = setInterval(function(root) {\n",
       "      if (root.Bokeh !== undefined && root.Bokeh.Panel !== undefined) {\n",
       "        clearInterval(timer);\n",
       "        embed_document(root);\n",
       "      } else if (document.readyState == \"complete\") {\n",
       "        attempts++;\n",
       "        if (attempts > 200) {\n",
       "          clearInterval(timer);\n",
       "          console.log(\"Bokeh: ERROR: Unable to run BokehJS code because BokehJS library is missing\");\n",
       "        }\n",
       "      }\n",
       "    }, 25, root)\n",
       "  }\n",
       "})(window);</script>"
      ],
      "text/plain": [
       ":NdOverlay   [cluster]\n",
       "   :Scatter   [price_change_percentage_24h]   (price_change_percentage_7d,coin_id)"
      ]
     },
     "execution_count": 61,
     "metadata": {
      "application/vnd.holoviews_exec.v0+json": {
       "id": "3656"
      }
     },
     "output_type": "execute_result"
    }
   ],
   "source": [
    "# Create a scatter plot using hvPlot by setting \n",
    "# `x=\"price_change_percentage_24h\"` and `y=\"price_change_percentage_7d\"`. \n",
    "# Color the graph points with the labels found using K-Means and \n",
    "# add the crypto name in the `hover_cols` parameter to identify \n",
    "# the cryptocurrency represented by each data point.\n",
    "market_scatterplot = copy_scaled_market_data_df.hvplot.scatter(x='price_change_percentage_24h',\n",
    "                                                               y='price_change_percentage_7d',\n",
    "                                                               by='cluster',\n",
    "                                                               hover_cols='coin_id',\n",
    "                                                               title='Original data scatter plot')\n",
    "market_scatterplot\n"
   ]
  },
  {
   "cell_type": "markdown",
   "metadata": {},
   "source": [
    "---"
   ]
  },
  {
   "cell_type": "markdown",
   "metadata": {},
   "source": [
    "### Optimize Clusters with Principal Component Analysis."
   ]
  },
  {
   "cell_type": "code",
   "execution_count": 62,
   "metadata": {},
   "outputs": [],
   "source": [
    "# Create a PCA model instance and set `n_components=3`.\n",
    "pca_model = PCA(n_components=3)"
   ]
  },
  {
   "cell_type": "code",
   "execution_count": 63,
   "metadata": {},
   "outputs": [
    {
     "data": {
      "text/plain": [
       "array([[-0.60066733,  0.84276006,  0.46159457],\n",
       "       [-0.45826071,  0.45846566,  0.95287678],\n",
       "       [-0.43306981, -0.16812638, -0.64175193],\n",
       "       [-0.47183495, -0.22266008, -0.47905316],\n",
       "       [-1.15779997,  2.04120919,  1.85971527]])"
      ]
     },
     "execution_count": 63,
     "metadata": {},
     "output_type": "execute_result"
    }
   ],
   "source": [
    "# Use the PCA model with `fit_transform` to reduce to \n",
    "# three principal components.\n",
    "pca_market_data = pca_model.fit_transform(scaled_market_data_df)\n",
    "\n",
    "# View the first five rows of the DataFrame. \n",
    "pca_market_data[:5]"
   ]
  },
  {
   "cell_type": "code",
   "execution_count": 64,
   "metadata": {},
   "outputs": [
    {
     "data": {
      "text/plain": [
       "array([0.3719856 , 0.34700813, 0.17603793])"
      ]
     },
     "execution_count": 64,
     "metadata": {},
     "output_type": "execute_result"
    }
   ],
   "source": [
    "# Retrieve the explained variance to determine how much information \n",
    "# can be attributed to each principal component.\n",
    "pca_model.explained_variance_ratio_"
   ]
  },
  {
   "cell_type": "markdown",
   "metadata": {},
   "source": [
    "#### Answer the following question: \n",
    "\n",
    "**Question:** What is the total explained variance of the three principal components?\n",
    "\n",
    "**Answer:** about 89.50%."
   ]
  },
  {
   "cell_type": "code",
   "execution_count": 65,
   "metadata": {},
   "outputs": [
    {
     "data": {
      "text/html": [
       "<div>\n",
       "<style scoped>\n",
       "    .dataframe tbody tr th:only-of-type {\n",
       "        vertical-align: middle;\n",
       "    }\n",
       "\n",
       "    .dataframe tbody tr th {\n",
       "        vertical-align: top;\n",
       "    }\n",
       "\n",
       "    .dataframe thead th {\n",
       "        text-align: right;\n",
       "    }\n",
       "</style>\n",
       "<table border=\"1\" class=\"dataframe\">\n",
       "  <thead>\n",
       "    <tr style=\"text-align: right;\">\n",
       "      <th></th>\n",
       "      <th>PCA1</th>\n",
       "      <th>PCA2</th>\n",
       "      <th>PCA3</th>\n",
       "    </tr>\n",
       "    <tr>\n",
       "      <th>coin_id</th>\n",
       "      <th></th>\n",
       "      <th></th>\n",
       "      <th></th>\n",
       "    </tr>\n",
       "  </thead>\n",
       "  <tbody>\n",
       "    <tr>\n",
       "      <th>bitcoin</th>\n",
       "      <td>-0.600667</td>\n",
       "      <td>0.842760</td>\n",
       "      <td>0.461595</td>\n",
       "    </tr>\n",
       "    <tr>\n",
       "      <th>ethereum</th>\n",
       "      <td>-0.458261</td>\n",
       "      <td>0.458466</td>\n",
       "      <td>0.952877</td>\n",
       "    </tr>\n",
       "    <tr>\n",
       "      <th>tether</th>\n",
       "      <td>-0.433070</td>\n",
       "      <td>-0.168126</td>\n",
       "      <td>-0.641752</td>\n",
       "    </tr>\n",
       "    <tr>\n",
       "      <th>ripple</th>\n",
       "      <td>-0.471835</td>\n",
       "      <td>-0.222660</td>\n",
       "      <td>-0.479053</td>\n",
       "    </tr>\n",
       "    <tr>\n",
       "      <th>bitcoin-cash</th>\n",
       "      <td>-1.157800</td>\n",
       "      <td>2.041209</td>\n",
       "      <td>1.859715</td>\n",
       "    </tr>\n",
       "  </tbody>\n",
       "</table>\n",
       "</div>"
      ],
      "text/plain": [
       "                  PCA1      PCA2      PCA3\n",
       "coin_id                                   \n",
       "bitcoin      -0.600667  0.842760  0.461595\n",
       "ethereum     -0.458261  0.458466  0.952877\n",
       "tether       -0.433070 -0.168126 -0.641752\n",
       "ripple       -0.471835 -0.222660 -0.479053\n",
       "bitcoin-cash -1.157800  2.041209  1.859715"
      ]
     },
     "execution_count": 65,
     "metadata": {},
     "output_type": "execute_result"
    }
   ],
   "source": [
    "# Create a new DataFrame with the PCA data.\n",
    "pca_market_data_df = pd.DataFrame(pca_market_data, columns=['PCA1','PCA2','PCA3'])\n",
    "\n",
    "# Creating a DataFrame with the PCA data\n",
    "\n",
    "# Copy the crypto names from the original data\n",
    "crypto_names_l = scaled_market_data_df.index\n",
    "\n",
    "\n",
    "# Set the coinid column as index\n",
    "pca_market_data_df['coin_id'] = crypto_names_l\n",
    "pca_market_data_df = pca_market_data_df.set_index('coin_id', drop=True)\n",
    "\n",
    "\n",
    "# Display sample data\n",
    "pca_market_data_df.head()"
   ]
  },
  {
   "cell_type": "markdown",
   "metadata": {},
   "source": [
    "---"
   ]
  },
  {
   "cell_type": "markdown",
   "metadata": {},
   "source": [
    "### Find the Best Value for k Using the PCA Data"
   ]
  },
  {
   "cell_type": "code",
   "execution_count": 66,
   "metadata": {},
   "outputs": [
    {
     "data": {
      "text/plain": [
       "[1, 2, 3, 4, 5, 6, 7, 8, 9, 10, 11]"
      ]
     },
     "execution_count": 66,
     "metadata": {},
     "output_type": "execute_result"
    }
   ],
   "source": [
    "# Create a list with the number of k-values from 1 to 11\n",
    "k = list(range(1,12))\n",
    "k"
   ]
  },
  {
   "cell_type": "code",
   "execution_count": 67,
   "metadata": {},
   "outputs": [],
   "source": [
    "# Create an empty list to store the inertia values\n",
    "inertia = []\n",
    "\n",
    "# Create a for loop to compute the inertia with each possible value of k\n",
    "# Inside the loop:\n",
    "for i in k:\n",
    "\n",
    "# 1. Create a KMeans model using the loop counter for the n_clusters\n",
    " k_means_model = KMeans(n_clusters=i, random_state=0)\n",
    "\n",
    "# 2. Fit the model to the data using `df_market_data_pca` \n",
    " k_means_model.fit(pca_market_data_df)\n",
    "# 3. Append the model.inertia_ to the inertia list\n",
    " inertia.append(k_means_model.inertia_)"
   ]
  },
  {
   "cell_type": "code",
   "execution_count": 68,
   "metadata": {},
   "outputs": [
    {
     "data": {
      "text/html": [
       "<div>\n",
       "<style scoped>\n",
       "    .dataframe tbody tr th:only-of-type {\n",
       "        vertical-align: middle;\n",
       "    }\n",
       "\n",
       "    .dataframe tbody tr th {\n",
       "        vertical-align: top;\n",
       "    }\n",
       "\n",
       "    .dataframe thead th {\n",
       "        text-align: right;\n",
       "    }\n",
       "</style>\n",
       "<table border=\"1\" class=\"dataframe\">\n",
       "  <thead>\n",
       "    <tr style=\"text-align: right;\">\n",
       "      <th></th>\n",
       "      <th>k</th>\n",
       "      <th>inertia</th>\n",
       "    </tr>\n",
       "  </thead>\n",
       "  <tbody>\n",
       "    <tr>\n",
       "      <th>0</th>\n",
       "      <td>1</td>\n",
       "      <td>256.874086</td>\n",
       "    </tr>\n",
       "    <tr>\n",
       "      <th>1</th>\n",
       "      <td>2</td>\n",
       "      <td>165.901994</td>\n",
       "    </tr>\n",
       "    <tr>\n",
       "      <th>2</th>\n",
       "      <td>3</td>\n",
       "      <td>93.774626</td>\n",
       "    </tr>\n",
       "    <tr>\n",
       "      <th>3</th>\n",
       "      <td>4</td>\n",
       "      <td>49.665497</td>\n",
       "    </tr>\n",
       "    <tr>\n",
       "      <th>4</th>\n",
       "      <td>5</td>\n",
       "      <td>37.878747</td>\n",
       "    </tr>\n",
       "  </tbody>\n",
       "</table>\n",
       "</div>"
      ],
      "text/plain": [
       "   k     inertia\n",
       "0  1  256.874086\n",
       "1  2  165.901994\n",
       "2  3   93.774626\n",
       "3  4   49.665497\n",
       "4  5   37.878747"
      ]
     },
     "execution_count": 68,
     "metadata": {},
     "output_type": "execute_result"
    }
   ],
   "source": [
    "# Create a dictionary with the data to plot the Elbow curve\n",
    "pca_elbow_data = {\"k\": k, \"inertia\": inertia}\n",
    "# Create a DataFrame with the data to plot the Elbow curve\n",
    "pca_elbow_data_df = pd.DataFrame(pca_elbow_data)\n",
    "pca_elbow_data_df.head()"
   ]
  },
  {
   "cell_type": "code",
   "execution_count": 77,
   "metadata": {},
   "outputs": [
    {
     "data": {},
     "metadata": {},
     "output_type": "display_data"
    },
    {
     "data": {
      "application/vnd.holoviews_exec.v0+json": "",
      "text/html": [
       "<div id='4993'>\n",
       "  <div class=\"bk-root\" id=\"9c5d7f09-a5b9-4d93-ae88-f326450cfb42\" data-root-id=\"4993\"></div>\n",
       "</div>\n",
       "<script type=\"application/javascript\">(function(root) {\n",
       "  function embed_document(root) {\n",
       "    var docs_json = {\"e83575d8-951e-4038-ab35-67782bfa17b7\":{\"defs\":[{\"extends\":null,\"module\":null,\"name\":\"ReactiveHTML1\",\"overrides\":[],\"properties\":[]},{\"extends\":null,\"module\":null,\"name\":\"FlexBox1\",\"overrides\":[],\"properties\":[{\"default\":\"flex-start\",\"kind\":null,\"name\":\"align_content\"},{\"default\":\"flex-start\",\"kind\":null,\"name\":\"align_items\"},{\"default\":\"row\",\"kind\":null,\"name\":\"flex_direction\"},{\"default\":\"wrap\",\"kind\":null,\"name\":\"flex_wrap\"},{\"default\":\"flex-start\",\"kind\":null,\"name\":\"justify_content\"}]},{\"extends\":null,\"module\":null,\"name\":\"GridStack1\",\"overrides\":[],\"properties\":[{\"default\":\"warn\",\"kind\":null,\"name\":\"mode\"},{\"default\":null,\"kind\":null,\"name\":\"ncols\"},{\"default\":null,\"kind\":null,\"name\":\"nrows\"},{\"default\":true,\"kind\":null,\"name\":\"allow_resize\"},{\"default\":true,\"kind\":null,\"name\":\"allow_drag\"},{\"default\":[],\"kind\":null,\"name\":\"state\"}]},{\"extends\":null,\"module\":null,\"name\":\"click1\",\"overrides\":[],\"properties\":[{\"default\":\"\",\"kind\":null,\"name\":\"terminal_output\"},{\"default\":\"\",\"kind\":null,\"name\":\"debug_name\"},{\"default\":0,\"kind\":null,\"name\":\"clears\"}]},{\"extends\":null,\"module\":null,\"name\":\"NotificationAreaBase1\",\"overrides\":[],\"properties\":[{\"default\":\"bottom-right\",\"kind\":null,\"name\":\"position\"},{\"default\":0,\"kind\":null,\"name\":\"_clear\"}]},{\"extends\":null,\"module\":null,\"name\":\"NotificationArea1\",\"overrides\":[],\"properties\":[{\"default\":[],\"kind\":null,\"name\":\"notifications\"},{\"default\":\"bottom-right\",\"kind\":null,\"name\":\"position\"},{\"default\":0,\"kind\":null,\"name\":\"_clear\"},{\"default\":[{\"background\":\"#ffc107\",\"icon\":{\"className\":\"fas fa-exclamation-triangle\",\"color\":\"white\",\"tagName\":\"i\"},\"type\":\"warning\"},{\"background\":\"#007bff\",\"icon\":{\"className\":\"fas fa-info-circle\",\"color\":\"white\",\"tagName\":\"i\"},\"type\":\"info\"}],\"kind\":null,\"name\":\"types\"}]},{\"extends\":null,\"module\":null,\"name\":\"Notification\",\"overrides\":[],\"properties\":[{\"default\":null,\"kind\":null,\"name\":\"background\"},{\"default\":3000,\"kind\":null,\"name\":\"duration\"},{\"default\":null,\"kind\":null,\"name\":\"icon\"},{\"default\":\"\",\"kind\":null,\"name\":\"message\"},{\"default\":null,\"kind\":null,\"name\":\"notification_type\"},{\"default\":false,\"kind\":null,\"name\":\"_destroyed\"}]},{\"extends\":null,\"module\":null,\"name\":\"TemplateActions1\",\"overrides\":[],\"properties\":[{\"default\":0,\"kind\":null,\"name\":\"open_modal\"},{\"default\":0,\"kind\":null,\"name\":\"close_modal\"}]},{\"extends\":null,\"module\":null,\"name\":\"MaterialTemplateActions1\",\"overrides\":[],\"properties\":[{\"default\":0,\"kind\":null,\"name\":\"open_modal\"},{\"default\":0,\"kind\":null,\"name\":\"close_modal\"}]}],\"roots\":{\"references\":[{\"attributes\":{},\"id\":\"5038\",\"type\":\"BasicTickFormatter\"},{\"attributes\":{\"below\":[{\"id\":\"5006\"}],\"center\":[{\"id\":\"5009\"},{\"id\":\"5013\"}],\"height\":300,\"left\":[{\"id\":\"5010\"}],\"margin\":[5,5,5,5],\"min_border_bottom\":10,\"min_border_left\":10,\"min_border_right\":10,\"min_border_top\":10,\"renderers\":[{\"id\":\"5033\"}],\"sizing_mode\":\"fixed\",\"title\":{\"id\":\"4998\"},\"toolbar\":{\"id\":\"5020\"},\"width\":700,\"x_range\":{\"id\":\"4994\"},\"x_scale\":{\"id\":\"5002\"},\"y_range\":{\"id\":\"4995\"},\"y_scale\":{\"id\":\"5004\"}},\"id\":\"4997\",\"subtype\":\"Figure\",\"type\":\"Plot\"},{\"attributes\":{\"source\":{\"id\":\"5027\"}},\"id\":\"5034\",\"type\":\"CDSView\"},{\"attributes\":{},\"id\":\"5055\",\"type\":\"UnionRenderers\"},{\"attributes\":{\"coordinates\":null,\"data_source\":{\"id\":\"5027\"},\"glyph\":{\"id\":\"5030\"},\"group\":null,\"hover_glyph\":null,\"muted_glyph\":{\"id\":\"5032\"},\"nonselection_glyph\":{\"id\":\"5031\"},\"selection_glyph\":{\"id\":\"5035\"},\"view\":{\"id\":\"5034\"}},\"id\":\"5033\",\"type\":\"GlyphRenderer\"},{\"attributes\":{\"children\":[{\"id\":\"4997\"}],\"height\":300,\"margin\":[0,0,0,0],\"name\":\"Row04160\",\"sizing_mode\":\"fixed\",\"tags\":[\"embedded\"],\"width\":700},\"id\":\"4993\",\"type\":\"Row\"},{\"attributes\":{\"axis_label\":\"inertia\",\"coordinates\":null,\"formatter\":{\"id\":\"5043\"},\"group\":null,\"major_label_policy\":{\"id\":\"5044\"},\"ticker\":{\"id\":\"5011\"}},\"id\":\"5010\",\"type\":\"LinearAxis\"},{\"attributes\":{},\"id\":\"5011\",\"type\":\"BasicTicker\"},{\"attributes\":{},\"id\":\"5002\",\"type\":\"LinearScale\"},{\"attributes\":{\"bottom_units\":\"screen\",\"coordinates\":null,\"fill_alpha\":0.5,\"fill_color\":\"lightgrey\",\"group\":null,\"left_units\":\"screen\",\"level\":\"overlay\",\"line_alpha\":1.0,\"line_color\":\"black\",\"line_dash\":[4,4],\"line_width\":2,\"right_units\":\"screen\",\"syncable\":false,\"top_units\":\"screen\"},\"id\":\"5019\",\"type\":\"BoxAnnotation\"},{\"attributes\":{\"axis_label\":\"k\",\"coordinates\":null,\"formatter\":{\"id\":\"5038\"},\"group\":null,\"major_label_policy\":{\"id\":\"5039\"},\"ticker\":{\"id\":\"5036\"}},\"id\":\"5006\",\"type\":\"LinearAxis\"},{\"attributes\":{},\"id\":\"5004\",\"type\":\"LinearScale\"},{\"attributes\":{\"end\":281.76075231800877,\"reset_end\":281.76075231800877,\"reset_start\":-16.879248683385605,\"start\":-16.879248683385605,\"tags\":[[[\"inertia\",\"inertia\",null]]]},\"id\":\"4995\",\"type\":\"Range1d\"},{\"attributes\":{\"line_color\":\"#30a2da\",\"line_width\":2,\"x\":{\"field\":\"k\"},\"y\":{\"field\":\"inertia\"}},\"id\":\"5035\",\"type\":\"Line\"},{\"attributes\":{\"data\":{\"inertia\":{\"__ndarray__\":\"EQAmQfwNcEBLVJAi3bxkQPcsl3eTcVdAmYiJ/i7VSEDVFmXIevBCQIBsYu90njtAX+YhZsouNUBNtBt0y2MxQDaoTfHyLytApO9NHWQeJUDPAwRNzAMgQA==\",\"dtype\":\"float64\",\"order\":\"little\",\"shape\":[11]},\"k\":[1,2,3,4,5,6,7,8,9,10,11]},\"selected\":{\"id\":\"5028\"},\"selection_policy\":{\"id\":\"5055\"}},\"id\":\"5027\",\"type\":\"ColumnDataSource\"},{\"attributes\":{\"line_alpha\":0.2,\"line_color\":\"#30a2da\",\"line_width\":2,\"x\":{\"field\":\"k\"},\"y\":{\"field\":\"inertia\"}},\"id\":\"5032\",\"type\":\"Line\"},{\"attributes\":{},\"id\":\"5016\",\"type\":\"WheelZoomTool\"},{\"attributes\":{\"end\":11.0,\"reset_end\":11.0,\"reset_start\":1.0,\"start\":1.0,\"tags\":[[[\"k\",\"k\",null]]]},\"id\":\"4994\",\"type\":\"Range1d\"},{\"attributes\":{\"axis\":{\"id\":\"5006\"},\"coordinates\":null,\"grid_line_color\":null,\"group\":null,\"ticker\":null},\"id\":\"5009\",\"type\":\"Grid\"},{\"attributes\":{},\"id\":\"5044\",\"type\":\"AllLabels\"},{\"attributes\":{\"axis\":{\"id\":\"5010\"},\"coordinates\":null,\"dimension\":1,\"grid_line_color\":null,\"group\":null,\"ticker\":null},\"id\":\"5013\",\"type\":\"Grid\"},{\"attributes\":{},\"id\":\"5043\",\"type\":\"BasicTickFormatter\"},{\"attributes\":{},\"id\":\"5028\",\"type\":\"Selection\"},{\"attributes\":{\"callback\":null,\"renderers\":[{\"id\":\"5033\"}],\"tags\":[\"hv_created\"],\"tooltips\":[[\"k\",\"@{k}\"],[\"inertia\",\"@{inertia}\"]]},\"id\":\"4996\",\"type\":\"HoverTool\"},{\"attributes\":{\"ticks\":[1,2,3,4,5,6,7,8,9,10,11]},\"id\":\"5036\",\"type\":\"FixedTicker\"},{\"attributes\":{\"active_drag\":{\"id\":\"5015\"},\"active_scroll\":{\"id\":\"5016\"},\"tools\":[{\"id\":\"4996\"},{\"id\":\"5014\"},{\"id\":\"5015\"},{\"id\":\"5016\"},{\"id\":\"5017\"},{\"id\":\"5018\"}]},\"id\":\"5020\",\"type\":\"Toolbar\"},{\"attributes\":{\"coordinates\":null,\"group\":null,\"text\":\"Elbow Curve\",\"text_color\":\"black\",\"text_font_size\":\"12pt\"},\"id\":\"4998\",\"type\":\"Title\"},{\"attributes\":{},\"id\":\"5014\",\"type\":\"SaveTool\"},{\"attributes\":{},\"id\":\"5015\",\"type\":\"PanTool\"},{\"attributes\":{\"line_color\":\"#30a2da\",\"line_width\":2,\"x\":{\"field\":\"k\"},\"y\":{\"field\":\"inertia\"}},\"id\":\"5030\",\"type\":\"Line\"},{\"attributes\":{\"line_alpha\":0.1,\"line_color\":\"#30a2da\",\"line_width\":2,\"x\":{\"field\":\"k\"},\"y\":{\"field\":\"inertia\"}},\"id\":\"5031\",\"type\":\"Line\"},{\"attributes\":{\"overlay\":{\"id\":\"5019\"}},\"id\":\"5017\",\"type\":\"BoxZoomTool\"},{\"attributes\":{},\"id\":\"5039\",\"type\":\"AllLabels\"},{\"attributes\":{},\"id\":\"5018\",\"type\":\"ResetTool\"}],\"root_ids\":[\"4993\"]},\"title\":\"Bokeh Application\",\"version\":\"2.4.3\"}};\n",
       "    var render_items = [{\"docid\":\"e83575d8-951e-4038-ab35-67782bfa17b7\",\"root_ids\":[\"4993\"],\"roots\":{\"4993\":\"9c5d7f09-a5b9-4d93-ae88-f326450cfb42\"}}];\n",
       "    root.Bokeh.embed.embed_items_notebook(docs_json, render_items);\n",
       "    for (const render_item of render_items) {\n",
       "      for (const root_id of render_item.root_ids) {\n",
       "\tconst id_el = document.getElementById(root_id)\n",
       "\tif (id_el.children.length && (id_el.children[0].className === 'bk-root')) {\n",
       "\t  const root_el = id_el.children[0]\n",
       "\t  root_el.id = root_el.id + '-rendered'\n",
       "\t}\n",
       "      }\n",
       "    }\n",
       "  }\n",
       "  if (root.Bokeh !== undefined && root.Bokeh.Panel !== undefined) {\n",
       "    embed_document(root);\n",
       "  } else {\n",
       "    var attempts = 0;\n",
       "    var timer = setInterval(function(root) {\n",
       "      if (root.Bokeh !== undefined && root.Bokeh.Panel !== undefined) {\n",
       "        clearInterval(timer);\n",
       "        embed_document(root);\n",
       "      } else if (document.readyState == \"complete\") {\n",
       "        attempts++;\n",
       "        if (attempts > 200) {\n",
       "          clearInterval(timer);\n",
       "          console.log(\"Bokeh: ERROR: Unable to run BokehJS code because BokehJS library is missing\");\n",
       "        }\n",
       "      }\n",
       "    }, 25, root)\n",
       "  }\n",
       "})(window);</script>"
      ],
      "text/plain": [
       ":Curve   [k]   (inertia)"
      ]
     },
     "execution_count": 77,
     "metadata": {
      "application/vnd.holoviews_exec.v0+json": {
       "id": "4993"
      }
     },
     "output_type": "execute_result"
    }
   ],
   "source": [
    "# Plot a line chart with all the inertia values computed with \n",
    "# the different values of k to visually identify the optimal value for k.\n",
    "pca_elbow_data_plot = pca_elbow_data_df.hvplot.line(x='k', y='inertia', title=\"Elbow Curve\", xticks=k)\n",
    "pca_elbow_data_plot"
   ]
  },
  {
   "cell_type": "markdown",
   "metadata": {},
   "source": [
    "#### Answer the following questions: \n",
    "\n",
    "* **Question:** What is the best value for `k` when using the PCA data?\n",
    "\n",
    "  * **Answer:** its still 4\n",
    "\n",
    "\n",
    "* **Question:** Does it differ from the best k value found using the original data?\n",
    "\n",
    "  * **Answer:** no,it doesn't"
   ]
  },
  {
   "cell_type": "markdown",
   "metadata": {},
   "source": [
    "### Cluster Cryptocurrencies with K-means Using the PCA Data"
   ]
  },
  {
   "cell_type": "code",
   "execution_count": 70,
   "metadata": {},
   "outputs": [],
   "source": [
    "# Initialize the K-Means model using the best value for k\n",
    "k_means_model = KMeans(n_clusters=4, random_state=0)"
   ]
  },
  {
   "cell_type": "code",
   "execution_count": 71,
   "metadata": {},
   "outputs": [
    {
     "data": {
      "text/html": [
       "<style>#sk-container-id-4 {color: black;background-color: white;}#sk-container-id-4 pre{padding: 0;}#sk-container-id-4 div.sk-toggleable {background-color: white;}#sk-container-id-4 label.sk-toggleable__label {cursor: pointer;display: block;width: 100%;margin-bottom: 0;padding: 0.3em;box-sizing: border-box;text-align: center;}#sk-container-id-4 label.sk-toggleable__label-arrow:before {content: \"▸\";float: left;margin-right: 0.25em;color: #696969;}#sk-container-id-4 label.sk-toggleable__label-arrow:hover:before {color: black;}#sk-container-id-4 div.sk-estimator:hover label.sk-toggleable__label-arrow:before {color: black;}#sk-container-id-4 div.sk-toggleable__content {max-height: 0;max-width: 0;overflow: hidden;text-align: left;background-color: #f0f8ff;}#sk-container-id-4 div.sk-toggleable__content pre {margin: 0.2em;color: black;border-radius: 0.25em;background-color: #f0f8ff;}#sk-container-id-4 input.sk-toggleable__control:checked~div.sk-toggleable__content {max-height: 200px;max-width: 100%;overflow: auto;}#sk-container-id-4 input.sk-toggleable__control:checked~label.sk-toggleable__label-arrow:before {content: \"▾\";}#sk-container-id-4 div.sk-estimator input.sk-toggleable__control:checked~label.sk-toggleable__label {background-color: #d4ebff;}#sk-container-id-4 div.sk-label input.sk-toggleable__control:checked~label.sk-toggleable__label {background-color: #d4ebff;}#sk-container-id-4 input.sk-hidden--visually {border: 0;clip: rect(1px 1px 1px 1px);clip: rect(1px, 1px, 1px, 1px);height: 1px;margin: -1px;overflow: hidden;padding: 0;position: absolute;width: 1px;}#sk-container-id-4 div.sk-estimator {font-family: monospace;background-color: #f0f8ff;border: 1px dotted black;border-radius: 0.25em;box-sizing: border-box;margin-bottom: 0.5em;}#sk-container-id-4 div.sk-estimator:hover {background-color: #d4ebff;}#sk-container-id-4 div.sk-parallel-item::after {content: \"\";width: 100%;border-bottom: 1px solid gray;flex-grow: 1;}#sk-container-id-4 div.sk-label:hover label.sk-toggleable__label {background-color: #d4ebff;}#sk-container-id-4 div.sk-serial::before {content: \"\";position: absolute;border-left: 1px solid gray;box-sizing: border-box;top: 0;bottom: 0;left: 50%;z-index: 0;}#sk-container-id-4 div.sk-serial {display: flex;flex-direction: column;align-items: center;background-color: white;padding-right: 0.2em;padding-left: 0.2em;position: relative;}#sk-container-id-4 div.sk-item {position: relative;z-index: 1;}#sk-container-id-4 div.sk-parallel {display: flex;align-items: stretch;justify-content: center;background-color: white;position: relative;}#sk-container-id-4 div.sk-item::before, #sk-container-id-4 div.sk-parallel-item::before {content: \"\";position: absolute;border-left: 1px solid gray;box-sizing: border-box;top: 0;bottom: 0;left: 50%;z-index: -1;}#sk-container-id-4 div.sk-parallel-item {display: flex;flex-direction: column;z-index: 1;position: relative;background-color: white;}#sk-container-id-4 div.sk-parallel-item:first-child::after {align-self: flex-end;width: 50%;}#sk-container-id-4 div.sk-parallel-item:last-child::after {align-self: flex-start;width: 50%;}#sk-container-id-4 div.sk-parallel-item:only-child::after {width: 0;}#sk-container-id-4 div.sk-dashed-wrapped {border: 1px dashed gray;margin: 0 0.4em 0.5em 0.4em;box-sizing: border-box;padding-bottom: 0.4em;background-color: white;}#sk-container-id-4 div.sk-label label {font-family: monospace;font-weight: bold;display: inline-block;line-height: 1.2em;}#sk-container-id-4 div.sk-label-container {text-align: center;}#sk-container-id-4 div.sk-container {/* jupyter's `normalize.less` sets `[hidden] { display: none; }` but bootstrap.min.css set `[hidden] { display: none !important; }` so we also need the `!important` here to be able to override the default hidden behavior on the sphinx rendered scikit-learn.org. See: https://github.com/scikit-learn/scikit-learn/issues/21755 */display: inline-block !important;position: relative;}#sk-container-id-4 div.sk-text-repr-fallback {display: none;}</style><div id=\"sk-container-id-4\" class=\"sk-top-container\"><div class=\"sk-text-repr-fallback\"><pre>KMeans(n_clusters=4, random_state=0)</pre><b>In a Jupyter environment, please rerun this cell to show the HTML representation or trust the notebook. <br />On GitHub, the HTML representation is unable to render, please try loading this page with nbviewer.org.</b></div><div class=\"sk-container\" hidden><div class=\"sk-item\"><div class=\"sk-estimator sk-toggleable\"><input class=\"sk-toggleable__control sk-hidden--visually\" id=\"sk-estimator-id-4\" type=\"checkbox\" checked><label for=\"sk-estimator-id-4\" class=\"sk-toggleable__label sk-toggleable__label-arrow\">KMeans</label><div class=\"sk-toggleable__content\"><pre>KMeans(n_clusters=4, random_state=0)</pre></div></div></div></div></div>"
      ],
      "text/plain": [
       "KMeans(n_clusters=4, random_state=0)"
      ]
     },
     "execution_count": 71,
     "metadata": {},
     "output_type": "execute_result"
    }
   ],
   "source": [
    "# Fit the K-Means model using the PCA data\n",
    "k_means_model.fit(pca_market_data_df)"
   ]
  },
  {
   "cell_type": "code",
   "execution_count": 72,
   "metadata": {},
   "outputs": [
    {
     "data": {
      "text/plain": [
       "array([0, 0, 3, 3, 0, 0, 0, 0, 0, 3, 3, 3, 3, 0, 3, 0, 3, 3, 0, 3, 3, 0,\n",
       "       3, 3, 3, 3, 3, 3, 0, 3, 3, 3, 1, 0, 3, 3, 2, 3, 3, 3, 3])"
      ]
     },
     "execution_count": 72,
     "metadata": {},
     "output_type": "execute_result"
    }
   ],
   "source": [
    "# Predict the clusters to group the cryptocurrencies using the PCA data\n",
    "predictions = k_means_model.predict(pca_market_data_df)\n",
    "# Print the resulting array of cluster values.\n",
    "predictions"
   ]
  },
  {
   "cell_type": "code",
   "execution_count": 73,
   "metadata": {},
   "outputs": [
    {
     "data": {
      "text/html": [
       "<div>\n",
       "<style scoped>\n",
       "    .dataframe tbody tr th:only-of-type {\n",
       "        vertical-align: middle;\n",
       "    }\n",
       "\n",
       "    .dataframe tbody tr th {\n",
       "        vertical-align: top;\n",
       "    }\n",
       "\n",
       "    .dataframe thead th {\n",
       "        text-align: right;\n",
       "    }\n",
       "</style>\n",
       "<table border=\"1\" class=\"dataframe\">\n",
       "  <thead>\n",
       "    <tr style=\"text-align: right;\">\n",
       "      <th></th>\n",
       "      <th>PCA1</th>\n",
       "      <th>PCA2</th>\n",
       "      <th>PCA3</th>\n",
       "      <th>cluster</th>\n",
       "    </tr>\n",
       "    <tr>\n",
       "      <th>coin_id</th>\n",
       "      <th></th>\n",
       "      <th></th>\n",
       "      <th></th>\n",
       "      <th></th>\n",
       "    </tr>\n",
       "  </thead>\n",
       "  <tbody>\n",
       "    <tr>\n",
       "      <th>bitcoin</th>\n",
       "      <td>-0.600667</td>\n",
       "      <td>0.842760</td>\n",
       "      <td>0.461595</td>\n",
       "      <td>0</td>\n",
       "    </tr>\n",
       "    <tr>\n",
       "      <th>ethereum</th>\n",
       "      <td>-0.458261</td>\n",
       "      <td>0.458466</td>\n",
       "      <td>0.952877</td>\n",
       "      <td>0</td>\n",
       "    </tr>\n",
       "    <tr>\n",
       "      <th>tether</th>\n",
       "      <td>-0.433070</td>\n",
       "      <td>-0.168126</td>\n",
       "      <td>-0.641752</td>\n",
       "      <td>3</td>\n",
       "    </tr>\n",
       "    <tr>\n",
       "      <th>ripple</th>\n",
       "      <td>-0.471835</td>\n",
       "      <td>-0.222660</td>\n",
       "      <td>-0.479053</td>\n",
       "      <td>3</td>\n",
       "    </tr>\n",
       "    <tr>\n",
       "      <th>bitcoin-cash</th>\n",
       "      <td>-1.157800</td>\n",
       "      <td>2.041209</td>\n",
       "      <td>1.859715</td>\n",
       "      <td>0</td>\n",
       "    </tr>\n",
       "  </tbody>\n",
       "</table>\n",
       "</div>"
      ],
      "text/plain": [
       "                  PCA1      PCA2      PCA3  cluster\n",
       "coin_id                                            \n",
       "bitcoin      -0.600667  0.842760  0.461595        0\n",
       "ethereum     -0.458261  0.458466  0.952877        0\n",
       "tether       -0.433070 -0.168126 -0.641752        3\n",
       "ripple       -0.471835 -0.222660 -0.479053        3\n",
       "bitcoin-cash -1.157800  2.041209  1.859715        0"
      ]
     },
     "execution_count": 73,
     "metadata": {},
     "output_type": "execute_result"
    }
   ],
   "source": [
    "# Create a copy of the DataFrame with the PCA data\n",
    "copy_pca_market_data_df = pca_market_data_df.copy()\n",
    "\n",
    "\n",
    "# Add a new column to the DataFrame with the predicted clusters\n",
    "copy_pca_market_data_df['cluster'] = predictions\n",
    "\n",
    "\n",
    "# Display sample data\n",
    "copy_pca_market_data_df.head()"
   ]
  },
  {
   "cell_type": "code",
   "execution_count": 74,
   "metadata": {},
   "outputs": [
    {
     "data": {},
     "metadata": {},
     "output_type": "display_data"
    },
    {
     "data": {
      "application/vnd.holoviews_exec.v0+json": "",
      "text/html": [
       "<div id='4004'>\n",
       "  <div class=\"bk-root\" id=\"b0154043-b383-4e0c-a4dd-c026707438e5\" data-root-id=\"4004\"></div>\n",
       "</div>\n",
       "<script type=\"application/javascript\">(function(root) {\n",
       "  function embed_document(root) {\n",
       "    var docs_json = {\"d7bda2fd-b8d6-4d89-9fd5-1558d04558b0\":{\"defs\":[{\"extends\":null,\"module\":null,\"name\":\"ReactiveHTML1\",\"overrides\":[],\"properties\":[]},{\"extends\":null,\"module\":null,\"name\":\"FlexBox1\",\"overrides\":[],\"properties\":[{\"default\":\"flex-start\",\"kind\":null,\"name\":\"align_content\"},{\"default\":\"flex-start\",\"kind\":null,\"name\":\"align_items\"},{\"default\":\"row\",\"kind\":null,\"name\":\"flex_direction\"},{\"default\":\"wrap\",\"kind\":null,\"name\":\"flex_wrap\"},{\"default\":\"flex-start\",\"kind\":null,\"name\":\"justify_content\"}]},{\"extends\":null,\"module\":null,\"name\":\"GridStack1\",\"overrides\":[],\"properties\":[{\"default\":\"warn\",\"kind\":null,\"name\":\"mode\"},{\"default\":null,\"kind\":null,\"name\":\"ncols\"},{\"default\":null,\"kind\":null,\"name\":\"nrows\"},{\"default\":true,\"kind\":null,\"name\":\"allow_resize\"},{\"default\":true,\"kind\":null,\"name\":\"allow_drag\"},{\"default\":[],\"kind\":null,\"name\":\"state\"}]},{\"extends\":null,\"module\":null,\"name\":\"click1\",\"overrides\":[],\"properties\":[{\"default\":\"\",\"kind\":null,\"name\":\"terminal_output\"},{\"default\":\"\",\"kind\":null,\"name\":\"debug_name\"},{\"default\":0,\"kind\":null,\"name\":\"clears\"}]},{\"extends\":null,\"module\":null,\"name\":\"NotificationAreaBase1\",\"overrides\":[],\"properties\":[{\"default\":\"bottom-right\",\"kind\":null,\"name\":\"position\"},{\"default\":0,\"kind\":null,\"name\":\"_clear\"}]},{\"extends\":null,\"module\":null,\"name\":\"NotificationArea1\",\"overrides\":[],\"properties\":[{\"default\":[],\"kind\":null,\"name\":\"notifications\"},{\"default\":\"bottom-right\",\"kind\":null,\"name\":\"position\"},{\"default\":0,\"kind\":null,\"name\":\"_clear\"},{\"default\":[{\"background\":\"#ffc107\",\"icon\":{\"className\":\"fas fa-exclamation-triangle\",\"color\":\"white\",\"tagName\":\"i\"},\"type\":\"warning\"},{\"background\":\"#007bff\",\"icon\":{\"className\":\"fas fa-info-circle\",\"color\":\"white\",\"tagName\":\"i\"},\"type\":\"info\"}],\"kind\":null,\"name\":\"types\"}]},{\"extends\":null,\"module\":null,\"name\":\"Notification\",\"overrides\":[],\"properties\":[{\"default\":null,\"kind\":null,\"name\":\"background\"},{\"default\":3000,\"kind\":null,\"name\":\"duration\"},{\"default\":null,\"kind\":null,\"name\":\"icon\"},{\"default\":\"\",\"kind\":null,\"name\":\"message\"},{\"default\":null,\"kind\":null,\"name\":\"notification_type\"},{\"default\":false,\"kind\":null,\"name\":\"_destroyed\"}]},{\"extends\":null,\"module\":null,\"name\":\"TemplateActions1\",\"overrides\":[],\"properties\":[{\"default\":0,\"kind\":null,\"name\":\"open_modal\"},{\"default\":0,\"kind\":null,\"name\":\"close_modal\"}]},{\"extends\":null,\"module\":null,\"name\":\"MaterialTemplateActions1\",\"overrides\":[],\"properties\":[{\"default\":0,\"kind\":null,\"name\":\"open_modal\"},{\"default\":0,\"kind\":null,\"name\":\"close_modal\"}]}],\"roots\":{\"references\":[{\"attributes\":{},\"id\":\"4016\",\"type\":\"LinearScale\"},{\"attributes\":{\"end\":7.834135596337129,\"reset_end\":7.834135596337129,\"reset_start\":-4.963347456561397,\"start\":-4.963347456561397,\"tags\":[[[\"PCA2\",\"PCA2\",null]]]},\"id\":\"4006\",\"type\":\"Range1d\"},{\"attributes\":{\"source\":{\"id\":\"4114\"}},\"id\":\"4121\",\"type\":\"CDSView\"},{\"attributes\":{\"fill_alpha\":{\"value\":0.2},\"fill_color\":{\"value\":\"#30a2da\"},\"hatch_alpha\":{\"value\":0.2},\"hatch_color\":{\"value\":\"#30a2da\"},\"line_alpha\":{\"value\":0.2},\"line_color\":{\"value\":\"#30a2da\"},\"size\":{\"value\":5.477225575051661},\"x\":{\"field\":\"PCA1\"},\"y\":{\"field\":\"PCA2\"}},\"id\":\"4052\",\"type\":\"Scatter\"},{\"attributes\":{\"end\":8.485310422788723,\"reset_end\":8.485310422788723,\"reset_start\":-1.5540921804637515,\"start\":-1.5540921804637515,\"tags\":[[[\"PCA1\",\"PCA1\",null]]]},\"id\":\"4005\",\"type\":\"Range1d\"},{\"attributes\":{\"source\":{\"id\":\"4090\"}},\"id\":\"4097\",\"type\":\"CDSView\"},{\"attributes\":{\"label\":{\"value\":\"3\"},\"renderers\":[{\"id\":\"4120\"}]},\"id\":\"4138\",\"type\":\"LegendItem\"},{\"attributes\":{\"fill_color\":{\"value\":\"#6d904f\"},\"hatch_color\":{\"value\":\"#6d904f\"},\"line_color\":{\"value\":\"#6d904f\"},\"size\":{\"value\":5.477225575051661},\"x\":{\"field\":\"PCA1\"},\"y\":{\"field\":\"PCA2\"}},\"id\":\"4117\",\"type\":\"Scatter\"},{\"attributes\":{\"fill_color\":{\"value\":\"#30a2da\"},\"hatch_color\":{\"value\":\"#30a2da\"},\"line_color\":{\"value\":\"#30a2da\"},\"size\":{\"value\":5.477225575051661},\"x\":{\"field\":\"PCA1\"},\"y\":{\"field\":\"PCA2\"}},\"id\":\"4050\",\"type\":\"Scatter\"},{\"attributes\":{},\"id\":\"4135\",\"type\":\"UnionRenderers\"},{\"attributes\":{\"coordinates\":null,\"data_source\":{\"id\":\"4114\"},\"glyph\":{\"id\":\"4117\"},\"group\":null,\"hover_glyph\":null,\"muted_glyph\":{\"id\":\"4119\"},\"nonselection_glyph\":{\"id\":\"4118\"},\"selection_glyph\":{\"id\":\"4139\"},\"view\":{\"id\":\"4121\"}},\"id\":\"4120\",\"type\":\"GlyphRenderer\"},{\"attributes\":{\"label\":{\"value\":\"0\"},\"renderers\":[{\"id\":\"4053\"}]},\"id\":\"4066\",\"type\":\"LegendItem\"},{\"attributes\":{},\"id\":\"4062\",\"type\":\"UnionRenderers\"},{\"attributes\":{\"angle\":{\"value\":0.0},\"fill_alpha\":{\"value\":1.0},\"fill_color\":{\"value\":\"#30a2da\"},\"hatch_alpha\":{\"value\":1.0},\"hatch_color\":{\"value\":\"#30a2da\"},\"hatch_scale\":{\"value\":12.0},\"hatch_weight\":{\"value\":1.0},\"line_alpha\":{\"value\":1.0},\"line_cap\":{\"value\":\"butt\"},\"line_color\":{\"value\":\"#30a2da\"},\"line_dash\":{\"value\":[]},\"line_dash_offset\":{\"value\":0},\"line_join\":{\"value\":\"bevel\"},\"line_width\":{\"value\":1},\"marker\":{\"value\":\"circle\"},\"size\":{\"value\":5.477225575051661},\"x\":{\"field\":\"PCA1\"},\"y\":{\"field\":\"PCA2\"}},\"id\":\"4067\",\"type\":\"Scatter\"},{\"attributes\":{\"fill_alpha\":{\"value\":0.2},\"fill_color\":{\"value\":\"#6d904f\"},\"hatch_alpha\":{\"value\":0.2},\"hatch_color\":{\"value\":\"#6d904f\"},\"line_alpha\":{\"value\":0.2},\"line_color\":{\"value\":\"#6d904f\"},\"size\":{\"value\":5.477225575051661},\"x\":{\"field\":\"PCA1\"},\"y\":{\"field\":\"PCA2\"}},\"id\":\"4119\",\"type\":\"Scatter\"},{\"attributes\":{},\"id\":\"4018\",\"type\":\"LinearScale\"},{\"attributes\":{\"fill_alpha\":{\"value\":0.1},\"fill_color\":{\"value\":\"#6d904f\"},\"hatch_alpha\":{\"value\":0.1},\"hatch_color\":{\"value\":\"#6d904f\"},\"line_alpha\":{\"value\":0.1},\"line_color\":{\"value\":\"#6d904f\"},\"size\":{\"value\":5.477225575051661},\"x\":{\"field\":\"PCA1\"},\"y\":{\"field\":\"PCA2\"}},\"id\":\"4118\",\"type\":\"Scatter\"},{\"attributes\":{},\"id\":\"4069\",\"type\":\"Selection\"},{\"attributes\":{\"below\":[{\"id\":\"4020\"}],\"center\":[{\"id\":\"4023\"},{\"id\":\"4027\"}],\"height\":300,\"left\":[{\"id\":\"4024\"}],\"margin\":[5,5,5,5],\"min_border_bottom\":10,\"min_border_left\":10,\"min_border_right\":10,\"min_border_top\":10,\"renderers\":[{\"id\":\"4053\"},{\"id\":\"4074\"},{\"id\":\"4096\"},{\"id\":\"4120\"}],\"right\":[{\"id\":\"4065\"}],\"sizing_mode\":\"fixed\",\"title\":{\"id\":\"4012\"},\"toolbar\":{\"id\":\"4034\"},\"width\":700,\"x_range\":{\"id\":\"4005\"},\"x_scale\":{\"id\":\"4016\"},\"y_range\":{\"id\":\"4006\"},\"y_scale\":{\"id\":\"4018\"}},\"id\":\"4011\",\"subtype\":\"Figure\",\"type\":\"Plot\"},{\"attributes\":{\"coordinates\":null,\"group\":null,\"text\":\"PCA scatter plot\",\"text_color\":\"black\",\"text_font_size\":\"12pt\"},\"id\":\"4012\",\"type\":\"Title\"},{\"attributes\":{\"source\":{\"id\":\"4068\"}},\"id\":\"4075\",\"type\":\"CDSView\"},{\"attributes\":{\"axis_label\":\"PCA1\",\"coordinates\":null,\"formatter\":{\"id\":\"4042\"},\"group\":null,\"major_label_policy\":{\"id\":\"4043\"},\"ticker\":{\"id\":\"4021\"}},\"id\":\"4020\",\"type\":\"LinearAxis\"},{\"attributes\":{\"coordinates\":null,\"data_source\":{\"id\":\"4090\"},\"glyph\":{\"id\":\"4093\"},\"group\":null,\"hover_glyph\":null,\"muted_glyph\":{\"id\":\"4095\"},\"nonselection_glyph\":{\"id\":\"4094\"},\"selection_glyph\":{\"id\":\"4113\"},\"view\":{\"id\":\"4097\"}},\"id\":\"4096\",\"type\":\"GlyphRenderer\"},{\"attributes\":{\"coordinates\":null,\"data_source\":{\"id\":\"4068\"},\"glyph\":{\"id\":\"4071\"},\"group\":null,\"hover_glyph\":null,\"muted_glyph\":{\"id\":\"4073\"},\"nonselection_glyph\":{\"id\":\"4072\"},\"selection_glyph\":{\"id\":\"4089\"},\"view\":{\"id\":\"4075\"}},\"id\":\"4074\",\"type\":\"GlyphRenderer\"},{\"attributes\":{},\"id\":\"4029\",\"type\":\"PanTool\"},{\"attributes\":{\"fill_alpha\":{\"value\":0.1},\"fill_color\":{\"value\":\"#e5ae38\"},\"hatch_alpha\":{\"value\":0.1},\"hatch_color\":{\"value\":\"#e5ae38\"},\"line_alpha\":{\"value\":0.1},\"line_color\":{\"value\":\"#e5ae38\"},\"size\":{\"value\":5.477225575051661},\"x\":{\"field\":\"PCA1\"},\"y\":{\"field\":\"PCA2\"}},\"id\":\"4094\",\"type\":\"Scatter\"},{\"attributes\":{\"axis\":{\"id\":\"4020\"},\"coordinates\":null,\"grid_line_color\":null,\"group\":null,\"ticker\":null},\"id\":\"4023\",\"type\":\"Grid\"},{\"attributes\":{},\"id\":\"4091\",\"type\":\"Selection\"},{\"attributes\":{\"fill_alpha\":{\"value\":0.1},\"fill_color\":{\"value\":\"#fc4f30\"},\"hatch_alpha\":{\"value\":0.1},\"hatch_color\":{\"value\":\"#fc4f30\"},\"line_alpha\":{\"value\":0.1},\"line_color\":{\"value\":\"#fc4f30\"},\"size\":{\"value\":5.477225575051661},\"x\":{\"field\":\"PCA1\"},\"y\":{\"field\":\"PCA2\"}},\"id\":\"4072\",\"type\":\"Scatter\"},{\"attributes\":{},\"id\":\"4021\",\"type\":\"BasicTicker\"},{\"attributes\":{},\"id\":\"4043\",\"type\":\"AllLabels\"},{\"attributes\":{\"label\":{\"value\":\"2\"},\"renderers\":[{\"id\":\"4096\"}]},\"id\":\"4112\",\"type\":\"LegendItem\"},{\"attributes\":{\"axis_label\":\"PCA2\",\"coordinates\":null,\"formatter\":{\"id\":\"4045\"},\"group\":null,\"major_label_policy\":{\"id\":\"4046\"},\"ticker\":{\"id\":\"4025\"}},\"id\":\"4024\",\"type\":\"LinearAxis\"},{\"attributes\":{},\"id\":\"4109\",\"type\":\"UnionRenderers\"},{\"attributes\":{\"axis\":{\"id\":\"4024\"},\"coordinates\":null,\"dimension\":1,\"grid_line_color\":null,\"group\":null,\"ticker\":null},\"id\":\"4027\",\"type\":\"Grid\"},{\"attributes\":{},\"id\":\"4025\",\"type\":\"BasicTicker\"},{\"attributes\":{},\"id\":\"4030\",\"type\":\"WheelZoomTool\"},{\"attributes\":{},\"id\":\"4028\",\"type\":\"SaveTool\"},{\"attributes\":{\"data\":{\"PCA1\":{\"__ndarray__\":\"RlWiy5MtIEA=\",\"dtype\":\"float64\",\"order\":\"little\",\"shape\":[1]},\"PCA2\":{\"__ndarray__\":\"YQ3w8dQsD8A=\",\"dtype\":\"float64\",\"order\":\"little\",\"shape\":[1]},\"cluster\":[1],\"coin_id\":[\"ethlend\"]},\"selected\":{\"id\":\"4069\"},\"selection_policy\":{\"id\":\"4085\"}},\"id\":\"4068\",\"type\":\"ColumnDataSource\"},{\"attributes\":{\"fill_alpha\":{\"value\":0.2},\"fill_color\":{\"value\":\"#e5ae38\"},\"hatch_alpha\":{\"value\":0.2},\"hatch_color\":{\"value\":\"#e5ae38\"},\"line_alpha\":{\"value\":0.2},\"line_color\":{\"value\":\"#e5ae38\"},\"size\":{\"value\":5.477225575051661},\"x\":{\"field\":\"PCA1\"},\"y\":{\"field\":\"PCA2\"}},\"id\":\"4095\",\"type\":\"Scatter\"},{\"attributes\":{\"overlay\":{\"id\":\"4033\"}},\"id\":\"4031\",\"type\":\"BoxZoomTool\"},{\"attributes\":{\"fill_color\":{\"value\":\"#e5ae38\"},\"hatch_color\":{\"value\":\"#e5ae38\"},\"line_color\":{\"value\":\"#e5ae38\"},\"size\":{\"value\":5.477225575051661},\"x\":{\"field\":\"PCA1\"},\"y\":{\"field\":\"PCA2\"}},\"id\":\"4093\",\"type\":\"Scatter\"},{\"attributes\":{},\"id\":\"4032\",\"type\":\"ResetTool\"},{\"attributes\":{\"label\":{\"value\":\"1\"},\"renderers\":[{\"id\":\"4074\"}]},\"id\":\"4088\",\"type\":\"LegendItem\"},{\"attributes\":{\"children\":[{\"id\":\"4011\"}],\"height\":300,\"margin\":[0,0,0,0],\"name\":\"Row03623\",\"sizing_mode\":\"fixed\",\"tags\":[\"embedded\"],\"width\":700},\"id\":\"4004\",\"type\":\"Row\"},{\"attributes\":{\"angle\":{\"value\":0.0},\"fill_alpha\":{\"value\":1.0},\"fill_color\":{\"value\":\"#6d904f\"},\"hatch_alpha\":{\"value\":1.0},\"hatch_color\":{\"value\":\"#6d904f\"},\"hatch_scale\":{\"value\":12.0},\"hatch_weight\":{\"value\":1.0},\"line_alpha\":{\"value\":1.0},\"line_cap\":{\"value\":\"butt\"},\"line_color\":{\"value\":\"#6d904f\"},\"line_dash\":{\"value\":[]},\"line_dash_offset\":{\"value\":0},\"line_join\":{\"value\":\"bevel\"},\"line_width\":{\"value\":1},\"marker\":{\"value\":\"circle\"},\"size\":{\"value\":5.477225575051661},\"x\":{\"field\":\"PCA1\"},\"y\":{\"field\":\"PCA2\"}},\"id\":\"4139\",\"type\":\"Scatter\"},{\"attributes\":{\"data\":{\"PCA1\":{\"__ndarray__\":\"UpZ8amq3278kYXw2izLev+Lya5vXSei/BPxzoPfEz7+Qh/TX3g7cv5wZGVOKMOa/g0wjp68s2b+6A7sJMGewP9+yldMFTN+/E+kqwdFu4L8ZF4kx+yzXv8YSO2dvc9q/1hEoujMU2r+LZdmqtnzjP/NN1mNC0Ny/mdi9MiN46L8qsu9uVM3hv+VGFZE5agVAqSC8UEGl47/DvuS6vI7ivzEKKydStOs/0pK6/7yWvD+wXMBgQDzkv5UbmkYF++K/Gr1JmQJS3b8X4q/49hDTvw==\",\"dtype\":\"float64\",\"order\":\"little\",\"shape\":[26]},\"PCA2\":{\"__ndarray__\":\"Z9F7TyqFxb9wj1UaIIDMv1DhzCbqwMm/xToUYyAF9r+JZsaEbXHGvxbJIJL6Ut6/DSu0IHiyu79wgFApNFH0v/egJl5vcue/k5KaSllHwr+tiEuGzZTvv2D5wy5akuW/it3jHmozy7+eF2SFdAjiPzMuIf2aVMO/H+uFsYSS4L9QbbiA5wL/vwyKJoz3k4y/c48PRXSt3r/z3rYoLM7Wv2z+1spVGALA+SEohoZp2z89qFKDbN0AwCsR7msnAJY/HvWtmbtfwb8FSPDBzXbIvw==\",\"dtype\":\"float64\",\"order\":\"little\",\"shape\":[26]},\"cluster\":[3,3,3,3,3,3,3,3,3,3,3,3,3,3,3,3,3,3,3,3,3,3,3,3,3,3],\"coin_id\":[\"tether\",\"ripple\",\"bitcoin-cash-sv\",\"crypto-com-chain\",\"usd-coin\",\"eos\",\"tron\",\"okb\",\"stellar\",\"cdai\",\"neo\",\"leo-token\",\"huobi-token\",\"nem\",\"binance-usd\",\"iota\",\"vechain\",\"theta-token\",\"dash\",\"ethereum-classic\",\"havven\",\"omisego\",\"ontology\",\"ftx-token\",\"true-usd\",\"digibyte\"]},\"selected\":{\"id\":\"4115\"},\"selection_policy\":{\"id\":\"4135\"}},\"id\":\"4114\",\"type\":\"ColumnDataSource\"},{\"attributes\":{\"bottom_units\":\"screen\",\"coordinates\":null,\"fill_alpha\":0.5,\"fill_color\":\"lightgrey\",\"group\":null,\"left_units\":\"screen\",\"level\":\"overlay\",\"line_alpha\":1.0,\"line_color\":\"black\",\"line_dash\":[4,4],\"line_width\":2,\"right_units\":\"screen\",\"syncable\":false,\"top_units\":\"screen\"},\"id\":\"4033\",\"type\":\"BoxAnnotation\"},{\"attributes\":{\"data\":{\"PCA1\":{\"__ndarray__\":\"N/XQrqo447+40e2+JFTdvz0Tj0NZhvK/7NIJ1HGH4L/CWkdgdNjcv9b9x3tOHta/h21M83DI5L/guE+KvvmuP6YxxVNFeum/o86LH/eZ07/B3W/HIlbjvzzz5tCaNdu/uEmjFh7m2L8=\",\"dtype\":\"float64\",\"order\":\"little\",\"shape\":[13]},\"PCA2\":{\"__ndarray__\":\"ygJY8+P36j9/P81egFfdP6tEN3tlVABAdqRxTss29j+9ZPC8/ZDgP4bE/UiRV+c/ey0795eo2z+U9tOGdUYHQEqknptkpN+/akNue2CC5j9mCxibCnrqP+V0su7rjN8/W0ntLg0gxT8=\",\"dtype\":\"float64\",\"order\":\"little\",\"shape\":[13]},\"cluster\":[0,0,0,0,0,0,0,0,0,0,0,0,0],\"coin_id\":[\"bitcoin\",\"ethereum\",\"bitcoin-cash\",\"binancecoin\",\"chainlink\",\"cardano\",\"litecoin\",\"monero\",\"tezos\",\"cosmos\",\"wrapped-bitcoin\",\"zcash\",\"maker\"]},\"selected\":{\"id\":\"4048\"},\"selection_policy\":{\"id\":\"4062\"}},\"id\":\"4047\",\"type\":\"ColumnDataSource\"},{\"attributes\":{},\"id\":\"4085\",\"type\":\"UnionRenderers\"},{\"attributes\":{},\"id\":\"4115\",\"type\":\"Selection\"},{\"attributes\":{\"active_drag\":{\"id\":\"4029\"},\"active_scroll\":{\"id\":\"4030\"},\"tools\":[{\"id\":\"4007\"},{\"id\":\"4028\"},{\"id\":\"4029\"},{\"id\":\"4030\"},{\"id\":\"4031\"},{\"id\":\"4032\"}]},\"id\":\"4034\",\"type\":\"Toolbar\"},{\"attributes\":{\"fill_alpha\":{\"value\":0.2},\"fill_color\":{\"value\":\"#fc4f30\"},\"hatch_alpha\":{\"value\":0.2},\"hatch_color\":{\"value\":\"#fc4f30\"},\"line_alpha\":{\"value\":0.2},\"line_color\":{\"value\":\"#fc4f30\"},\"size\":{\"value\":5.477225575051661},\"x\":{\"field\":\"PCA1\"},\"y\":{\"field\":\"PCA2\"}},\"id\":\"4073\",\"type\":\"Scatter\"},{\"attributes\":{},\"id\":\"4042\",\"type\":\"BasicTickFormatter\"},{\"attributes\":{\"fill_color\":{\"value\":\"#fc4f30\"},\"hatch_color\":{\"value\":\"#fc4f30\"},\"line_color\":{\"value\":\"#fc4f30\"},\"size\":{\"value\":5.477225575051661},\"x\":{\"field\":\"PCA1\"},\"y\":{\"field\":\"PCA2\"}},\"id\":\"4071\",\"type\":\"Scatter\"},{\"attributes\":{},\"id\":\"4045\",\"type\":\"BasicTickFormatter\"},{\"attributes\":{},\"id\":\"4046\",\"type\":\"AllLabels\"},{\"attributes\":{\"angle\":{\"value\":0.0},\"fill_alpha\":{\"value\":1.0},\"fill_color\":{\"value\":\"#e5ae38\"},\"hatch_alpha\":{\"value\":1.0},\"hatch_color\":{\"value\":\"#e5ae38\"},\"hatch_scale\":{\"value\":12.0},\"hatch_weight\":{\"value\":1.0},\"line_alpha\":{\"value\":1.0},\"line_cap\":{\"value\":\"butt\"},\"line_color\":{\"value\":\"#e5ae38\"},\"line_dash\":{\"value\":[]},\"line_dash_offset\":{\"value\":0},\"line_join\":{\"value\":\"bevel\"},\"line_width\":{\"value\":1},\"marker\":{\"value\":\"circle\"},\"size\":{\"value\":5.477225575051661},\"x\":{\"field\":\"PCA1\"},\"y\":{\"field\":\"PCA2\"}},\"id\":\"4113\",\"type\":\"Scatter\"},{\"attributes\":{},\"id\":\"4048\",\"type\":\"Selection\"},{\"attributes\":{\"fill_alpha\":{\"value\":0.1},\"fill_color\":{\"value\":\"#30a2da\"},\"hatch_alpha\":{\"value\":0.1},\"hatch_color\":{\"value\":\"#30a2da\"},\"line_alpha\":{\"value\":0.1},\"line_color\":{\"value\":\"#30a2da\"},\"size\":{\"value\":5.477225575051661},\"x\":{\"field\":\"PCA1\"},\"y\":{\"field\":\"PCA2\"}},\"id\":\"4051\",\"type\":\"Scatter\"},{\"attributes\":{\"coordinates\":null,\"data_source\":{\"id\":\"4047\"},\"glyph\":{\"id\":\"4050\"},\"group\":null,\"hover_glyph\":null,\"muted_glyph\":{\"id\":\"4052\"},\"nonselection_glyph\":{\"id\":\"4051\"},\"selection_glyph\":{\"id\":\"4067\"},\"view\":{\"id\":\"4054\"}},\"id\":\"4053\",\"type\":\"GlyphRenderer\"},{\"attributes\":{\"source\":{\"id\":\"4047\"}},\"id\":\"4054\",\"type\":\"CDSView\"},{\"attributes\":{\"click_policy\":\"mute\",\"coordinates\":null,\"group\":null,\"items\":[{\"id\":\"4066\"},{\"id\":\"4088\"},{\"id\":\"4112\"},{\"id\":\"4138\"}],\"location\":[0,0],\"title\":\"cluster\"},\"id\":\"4065\",\"type\":\"Legend\"},{\"attributes\":{\"angle\":{\"value\":0.0},\"fill_alpha\":{\"value\":1.0},\"fill_color\":{\"value\":\"#fc4f30\"},\"hatch_alpha\":{\"value\":1.0},\"hatch_color\":{\"value\":\"#fc4f30\"},\"hatch_scale\":{\"value\":12.0},\"hatch_weight\":{\"value\":1.0},\"line_alpha\":{\"value\":1.0},\"line_cap\":{\"value\":\"butt\"},\"line_color\":{\"value\":\"#fc4f30\"},\"line_dash\":{\"value\":[]},\"line_dash_offset\":{\"value\":0},\"line_join\":{\"value\":\"bevel\"},\"line_width\":{\"value\":1},\"marker\":{\"value\":\"circle\"},\"size\":{\"value\":5.477225575051661},\"x\":{\"field\":\"PCA1\"},\"y\":{\"field\":\"PCA2\"}},\"id\":\"4089\",\"type\":\"Scatter\"},{\"attributes\":{\"data\":{\"PCA1\":{\"__ndarray__\":\"YBQ7s2krE0A=\",\"dtype\":\"float64\",\"order\":\"little\",\"shape\":[1]},\"PCA2\":{\"__ndarray__\":\"FlrQWxoSG0A=\",\"dtype\":\"float64\",\"order\":\"little\",\"shape\":[1]},\"cluster\":[2],\"coin_id\":[\"celsius-degree-token\"]},\"selected\":{\"id\":\"4091\"},\"selection_policy\":{\"id\":\"4109\"}},\"id\":\"4090\",\"type\":\"ColumnDataSource\"},{\"attributes\":{\"callback\":null,\"renderers\":[{\"id\":\"4053\"},{\"id\":\"4074\"},{\"id\":\"4096\"},{\"id\":\"4120\"}],\"tags\":[\"hv_created\"],\"tooltips\":[[\"cluster\",\"@{cluster}\"],[\"PCA1\",\"@{PCA1}\"],[\"PCA2\",\"@{PCA2}\"],[\"coin_id\",\"@{coin_id}\"]]},\"id\":\"4007\",\"type\":\"HoverTool\"}],\"root_ids\":[\"4004\"]},\"title\":\"Bokeh Application\",\"version\":\"2.4.3\"}};\n",
       "    var render_items = [{\"docid\":\"d7bda2fd-b8d6-4d89-9fd5-1558d04558b0\",\"root_ids\":[\"4004\"],\"roots\":{\"4004\":\"b0154043-b383-4e0c-a4dd-c026707438e5\"}}];\n",
       "    root.Bokeh.embed.embed_items_notebook(docs_json, render_items);\n",
       "    for (const render_item of render_items) {\n",
       "      for (const root_id of render_item.root_ids) {\n",
       "\tconst id_el = document.getElementById(root_id)\n",
       "\tif (id_el.children.length && (id_el.children[0].className === 'bk-root')) {\n",
       "\t  const root_el = id_el.children[0]\n",
       "\t  root_el.id = root_el.id + '-rendered'\n",
       "\t}\n",
       "      }\n",
       "    }\n",
       "  }\n",
       "  if (root.Bokeh !== undefined && root.Bokeh.Panel !== undefined) {\n",
       "    embed_document(root);\n",
       "  } else {\n",
       "    var attempts = 0;\n",
       "    var timer = setInterval(function(root) {\n",
       "      if (root.Bokeh !== undefined && root.Bokeh.Panel !== undefined) {\n",
       "        clearInterval(timer);\n",
       "        embed_document(root);\n",
       "      } else if (document.readyState == \"complete\") {\n",
       "        attempts++;\n",
       "        if (attempts > 200) {\n",
       "          clearInterval(timer);\n",
       "          console.log(\"Bokeh: ERROR: Unable to run BokehJS code because BokehJS library is missing\");\n",
       "        }\n",
       "      }\n",
       "    }, 25, root)\n",
       "  }\n",
       "})(window);</script>"
      ],
      "text/plain": [
       ":NdOverlay   [cluster]\n",
       "   :Scatter   [PCA1]   (PCA2,coin_id)"
      ]
     },
     "execution_count": 74,
     "metadata": {
      "application/vnd.holoviews_exec.v0+json": {
       "id": "4004"
      }
     },
     "output_type": "execute_result"
    }
   ],
   "source": [
    "# Create a scatter plot using hvPlot by setting \n",
    "# `x=\"PC1\"` and `y=\"PC2\"`. \n",
    "# Color the graph points with the labels found using K-Means and \n",
    "# add the crypto name in the `hover_cols` parameter to identify \n",
    "# the cryptocurrency represented by each data point.\n",
    "pca_scatterplot = copy_pca_market_data_df.hvplot.scatter(x='PCA1',\n",
    "                                                         y='PCA2',\n",
    "                                                         by='cluster',\n",
    "                                                         hover_cols='coin_id',\n",
    "                                                         title='PCA scatter plot')\n",
    "pca_scatterplot"
   ]
  },
  {
   "cell_type": "markdown",
   "metadata": {},
   "source": [
    "### Visualize and Compare the Results\n",
    "\n",
    "In this section, you will visually analyze the cluster analysis results by contrasting the outcome with and without using the optimization techniques."
   ]
  },
  {
   "cell_type": "code",
   "execution_count": 75,
   "metadata": {},
   "outputs": [
    {
     "data": {},
     "metadata": {},
     "output_type": "display_data"
    },
    {
     "data": {
      "application/vnd.holoviews_exec.v0+json": "",
      "text/html": [
       "<div id='4241'>\n",
       "  <div class=\"bk-root\" id=\"c334237e-1814-4be4-ad2e-8916fb818877\" data-root-id=\"4241\"></div>\n",
       "</div>\n",
       "<script type=\"application/javascript\">(function(root) {\n",
       "  function embed_document(root) {\n",
       "    var docs_json = {\"a98b693b-bdb4-4a45-8777-3074d6331fa0\":{\"defs\":[{\"extends\":null,\"module\":null,\"name\":\"ReactiveHTML1\",\"overrides\":[],\"properties\":[]},{\"extends\":null,\"module\":null,\"name\":\"FlexBox1\",\"overrides\":[],\"properties\":[{\"default\":\"flex-start\",\"kind\":null,\"name\":\"align_content\"},{\"default\":\"flex-start\",\"kind\":null,\"name\":\"align_items\"},{\"default\":\"row\",\"kind\":null,\"name\":\"flex_direction\"},{\"default\":\"wrap\",\"kind\":null,\"name\":\"flex_wrap\"},{\"default\":\"flex-start\",\"kind\":null,\"name\":\"justify_content\"}]},{\"extends\":null,\"module\":null,\"name\":\"GridStack1\",\"overrides\":[],\"properties\":[{\"default\":\"warn\",\"kind\":null,\"name\":\"mode\"},{\"default\":null,\"kind\":null,\"name\":\"ncols\"},{\"default\":null,\"kind\":null,\"name\":\"nrows\"},{\"default\":true,\"kind\":null,\"name\":\"allow_resize\"},{\"default\":true,\"kind\":null,\"name\":\"allow_drag\"},{\"default\":[],\"kind\":null,\"name\":\"state\"}]},{\"extends\":null,\"module\":null,\"name\":\"click1\",\"overrides\":[],\"properties\":[{\"default\":\"\",\"kind\":null,\"name\":\"terminal_output\"},{\"default\":\"\",\"kind\":null,\"name\":\"debug_name\"},{\"default\":0,\"kind\":null,\"name\":\"clears\"}]},{\"extends\":null,\"module\":null,\"name\":\"NotificationAreaBase1\",\"overrides\":[],\"properties\":[{\"default\":\"bottom-right\",\"kind\":null,\"name\":\"position\"},{\"default\":0,\"kind\":null,\"name\":\"_clear\"}]},{\"extends\":null,\"module\":null,\"name\":\"NotificationArea1\",\"overrides\":[],\"properties\":[{\"default\":[],\"kind\":null,\"name\":\"notifications\"},{\"default\":\"bottom-right\",\"kind\":null,\"name\":\"position\"},{\"default\":0,\"kind\":null,\"name\":\"_clear\"},{\"default\":[{\"background\":\"#ffc107\",\"icon\":{\"className\":\"fas fa-exclamation-triangle\",\"color\":\"white\",\"tagName\":\"i\"},\"type\":\"warning\"},{\"background\":\"#007bff\",\"icon\":{\"className\":\"fas fa-info-circle\",\"color\":\"white\",\"tagName\":\"i\"},\"type\":\"info\"}],\"kind\":null,\"name\":\"types\"}]},{\"extends\":null,\"module\":null,\"name\":\"Notification\",\"overrides\":[],\"properties\":[{\"default\":null,\"kind\":null,\"name\":\"background\"},{\"default\":3000,\"kind\":null,\"name\":\"duration\"},{\"default\":null,\"kind\":null,\"name\":\"icon\"},{\"default\":\"\",\"kind\":null,\"name\":\"message\"},{\"default\":null,\"kind\":null,\"name\":\"notification_type\"},{\"default\":false,\"kind\":null,\"name\":\"_destroyed\"}]},{\"extends\":null,\"module\":null,\"name\":\"TemplateActions1\",\"overrides\":[],\"properties\":[{\"default\":0,\"kind\":null,\"name\":\"open_modal\"},{\"default\":0,\"kind\":null,\"name\":\"close_modal\"}]},{\"extends\":null,\"module\":null,\"name\":\"MaterialTemplateActions1\",\"overrides\":[],\"properties\":[{\"default\":0,\"kind\":null,\"name\":\"open_modal\"},{\"default\":0,\"kind\":null,\"name\":\"close_modal\"}]}],\"roots\":{\"references\":[{\"attributes\":{},\"id\":\"4356\",\"type\":\"UnionRenderers\"},{\"attributes\":{},\"id\":\"4263\",\"type\":\"PanTool\"},{\"attributes\":{},\"id\":\"4319\",\"type\":\"ResetTool\"},{\"attributes\":{\"axis\":{\"id\":\"4254\"},\"coordinates\":null,\"grid_line_color\":null,\"group\":null,\"ticker\":null},\"id\":\"4257\",\"type\":\"Grid\"},{\"attributes\":{\"axis_label\":\"inertia\",\"coordinates\":null,\"formatter\":{\"id\":\"4291\"},\"group\":null,\"major_label_policy\":{\"id\":\"4292\"},\"ticker\":{\"id\":\"4259\"}},\"id\":\"4258\",\"type\":\"LinearAxis\"},{\"attributes\":{\"overlay\":{\"id\":\"4320\"}},\"id\":\"4318\",\"type\":\"BoxZoomTool\"},{\"attributes\":{\"below\":[{\"id\":\"4307\"}],\"center\":[{\"id\":\"4310\"},{\"id\":\"4314\"}],\"height\":300,\"left\":[{\"id\":\"4311\"}],\"margin\":null,\"min_border_bottom\":10,\"min_border_left\":10,\"min_border_right\":10,\"min_border_top\":10,\"renderers\":[{\"id\":\"4334\"}],\"sizing_mode\":\"fixed\",\"title\":{\"id\":\"4299\"},\"toolbar\":{\"id\":\"4321\"},\"toolbar_location\":null,\"width\":700,\"x_range\":{\"id\":\"4242\"},\"x_scale\":{\"id\":\"4303\"},\"y_range\":{\"id\":\"4243\"},\"y_scale\":{\"id\":\"4305\"}},\"id\":\"4298\",\"subtype\":\"Figure\",\"type\":\"Plot\"},{\"attributes\":{\"axis\":{\"id\":\"4258\"},\"coordinates\":null,\"dimension\":1,\"grid_line_color\":null,\"group\":null,\"ticker\":null},\"id\":\"4261\",\"type\":\"Grid\"},{\"attributes\":{},\"id\":\"4259\",\"type\":\"BasicTicker\"},{\"attributes\":{},\"id\":\"4315\",\"type\":\"SaveTool\"},{\"attributes\":{},\"id\":\"4264\",\"type\":\"WheelZoomTool\"},{\"attributes\":{\"children\":[[{\"id\":\"4245\"},0,0],[{\"id\":\"4298\"},0,1]]},\"id\":\"4370\",\"type\":\"GridBox\"},{\"attributes\":{},\"id\":\"4262\",\"type\":\"SaveTool\"},{\"attributes\":{},\"id\":\"4366\",\"type\":\"UnionRenderers\"},{\"attributes\":{},\"id\":\"4317\",\"type\":\"WheelZoomTool\"},{\"attributes\":{\"overlay\":{\"id\":\"4267\"}},\"id\":\"4265\",\"type\":\"BoxZoomTool\"},{\"attributes\":{},\"id\":\"4344\",\"type\":\"BasicTickFormatter\"},{\"attributes\":{},\"id\":\"4266\",\"type\":\"ResetTool\"},{\"attributes\":{\"axis_label\":\"inertia\",\"coordinates\":null,\"formatter\":{\"id\":\"4344\"},\"group\":null,\"major_label_policy\":{\"id\":\"4345\"},\"ticker\":{\"id\":\"4312\"}},\"id\":\"4311\",\"type\":\"LinearAxis\"},{\"attributes\":{\"axis\":{\"id\":\"4311\"},\"coordinates\":null,\"dimension\":1,\"grid_line_color\":null,\"group\":null,\"ticker\":null},\"id\":\"4314\",\"type\":\"Grid\"},{\"attributes\":{\"bottom_units\":\"screen\",\"coordinates\":null,\"fill_alpha\":0.5,\"fill_color\":\"lightgrey\",\"group\":null,\"left_units\":\"screen\",\"level\":\"overlay\",\"line_alpha\":1.0,\"line_color\":\"black\",\"line_dash\":[4,4],\"line_width\":2,\"right_units\":\"screen\",\"syncable\":false,\"top_units\":\"screen\"},\"id\":\"4267\",\"type\":\"BoxAnnotation\"},{\"attributes\":{},\"id\":\"4312\",\"type\":\"BasicTicker\"},{\"attributes\":{\"coordinates\":null,\"data_source\":{\"id\":\"4275\"},\"glyph\":{\"id\":\"4278\"},\"group\":null,\"hover_glyph\":null,\"muted_glyph\":{\"id\":\"4280\"},\"nonselection_glyph\":{\"id\":\"4279\"},\"selection_glyph\":{\"id\":\"4283\"},\"view\":{\"id\":\"4282\"}},\"id\":\"4281\",\"type\":\"GlyphRenderer\"},{\"attributes\":{\"line_color\":\"#30a2da\",\"line_width\":2,\"x\":{\"field\":\"k\"},\"y\":{\"field\":\"inertia\"}},\"id\":\"4331\",\"type\":\"Line\"},{\"attributes\":{\"line_alpha\":0.1,\"line_color\":\"#30a2da\",\"line_width\":2,\"x\":{\"field\":\"k\"},\"y\":{\"field\":\"inertia\"}},\"id\":\"4279\",\"type\":\"Line\"},{\"attributes\":{},\"id\":\"4329\",\"type\":\"Selection\"},{\"attributes\":{\"active_drag\":{\"id\":\"4263\"},\"active_scroll\":{\"id\":\"4264\"},\"tools\":[{\"id\":\"4244\"},{\"id\":\"4262\"},{\"id\":\"4263\"},{\"id\":\"4264\"},{\"id\":\"4265\"},{\"id\":\"4266\"}]},\"id\":\"4268\",\"type\":\"Toolbar\"},{\"attributes\":{\"active_drag\":{\"id\":\"4316\"},\"active_scroll\":{\"id\":\"4317\"},\"tools\":[{\"id\":\"4297\"},{\"id\":\"4315\"},{\"id\":\"4316\"},{\"id\":\"4317\"},{\"id\":\"4318\"},{\"id\":\"4319\"}]},\"id\":\"4321\",\"type\":\"Toolbar\"},{\"attributes\":{},\"id\":\"4276\",\"type\":\"Selection\"},{\"attributes\":{},\"id\":\"4286\",\"type\":\"BasicTickFormatter\"},{\"attributes\":{\"line_color\":\"#30a2da\",\"line_width\":2,\"x\":{\"field\":\"k\"},\"y\":{\"field\":\"inertia\"}},\"id\":\"4278\",\"type\":\"Line\"},{\"attributes\":{\"line_color\":\"#30a2da\",\"line_width\":2,\"x\":{\"field\":\"k\"},\"y\":{\"field\":\"inertia\"}},\"id\":\"4283\",\"type\":\"Line\"},{\"attributes\":{},\"id\":\"4339\",\"type\":\"BasicTickFormatter\"},{\"attributes\":{\"line_alpha\":0.2,\"line_color\":\"#30a2da\",\"line_width\":2,\"x\":{\"field\":\"k\"},\"y\":{\"field\":\"inertia\"}},\"id\":\"4280\",\"type\":\"Line\"},{\"attributes\":{\"line_alpha\":0.2,\"line_color\":\"#30a2da\",\"line_width\":2,\"x\":{\"field\":\"k\"},\"y\":{\"field\":\"inertia\"}},\"id\":\"4333\",\"type\":\"Line\"},{\"attributes\":{\"source\":{\"id\":\"4275\"}},\"id\":\"4282\",\"type\":\"CDSView\"},{\"attributes\":{\"ticks\":[1,2,3,4,5,6,7,8,9,10,11]},\"id\":\"4284\",\"type\":\"FixedTicker\"},{\"attributes\":{\"source\":{\"id\":\"4328\"}},\"id\":\"4335\",\"type\":\"CDSView\"},{\"attributes\":{},\"id\":\"4250\",\"type\":\"LinearScale\"},{\"attributes\":{\"data\":{\"inertia\":{\"__ndarray__\":\"AAAAAADwcUByhzI6P3poQN+RvNowzF5AF+6ulG/BU0BnEQsuWlNQQObqC/e6cUpAhyebkxT1RUBt++EeLsJCQMB0IF8cPkBAineL7Q85PEAoCo+5pos4QA==\",\"dtype\":\"float64\",\"order\":\"little\",\"shape\":[11]},\"k\":[1,2,3,4,5,6,7,8,9,10,11]},\"selected\":{\"id\":\"4329\"},\"selection_policy\":{\"id\":\"4366\"}},\"id\":\"4328\",\"type\":\"ColumnDataSource\"},{\"attributes\":{},\"id\":\"4287\",\"type\":\"AllLabels\"},{\"attributes\":{\"ticks\":[1,2,3,4,5,6,7,8,9,10,11]},\"id\":\"4337\",\"type\":\"FixedTicker\"},{\"attributes\":{\"children\":[{\"id\":\"4373\"}],\"margin\":[0,0,0,0],\"name\":\"Row03721\",\"tags\":[\"embedded\"]},\"id\":\"4241\",\"type\":\"Row\"},{\"attributes\":{},\"id\":\"4292\",\"type\":\"AllLabels\"},{\"attributes\":{\"end\":314.89925819332694,\"reset_end\":314.89925819332694,\"reset_start\":-19.89184012659635,\"start\":-19.89184012659635,\"tags\":[[[\"inertia\",\"inertia\",null]]]},\"id\":\"4243\",\"type\":\"Range1d\"},{\"attributes\":{},\"id\":\"4340\",\"type\":\"AllLabels\"},{\"attributes\":{\"end\":11.0,\"reset_end\":11.0,\"reset_start\":1.0,\"start\":1.0,\"tags\":[[[\"k\",\"k\",null]]]},\"id\":\"4242\",\"type\":\"Range1d\"},{\"attributes\":{\"callback\":null,\"renderers\":[{\"id\":\"4334\"}],\"tags\":[\"hv_created\"],\"tooltips\":[[\"k\",\"@{k}\"],[\"inertia\",\"@{inertia}\"]]},\"id\":\"4297\",\"type\":\"HoverTool\"},{\"attributes\":{},\"id\":\"4345\",\"type\":\"AllLabels\"},{\"attributes\":{\"data\":{\"inertia\":{\"__ndarray__\":\"EQAmQfwNcEBLVJAi3bxkQPcsl3eTcVdAmYiJ/i7VSEDVFmXIevBCQIBsYu90njtAX+YhZsouNUBNtBt0y2MxQDaoTfHyLytApO9NHWQeJUDPAwRNzAMgQA==\",\"dtype\":\"float64\",\"order\":\"little\",\"shape\":[11]},\"k\":[1,2,3,4,5,6,7,8,9,10,11]},\"selected\":{\"id\":\"4276\"},\"selection_policy\":{\"id\":\"4356\"}},\"id\":\"4275\",\"type\":\"ColumnDataSource\"},{\"attributes\":{},\"id\":\"4316\",\"type\":\"PanTool\"},{\"attributes\":{\"toolbars\":[{\"id\":\"4268\"},{\"id\":\"4321\"}],\"tools\":[{\"id\":\"4244\"},{\"id\":\"4262\"},{\"id\":\"4263\"},{\"id\":\"4264\"},{\"id\":\"4265\"},{\"id\":\"4266\"},{\"id\":\"4297\"},{\"id\":\"4315\"},{\"id\":\"4316\"},{\"id\":\"4317\"},{\"id\":\"4318\"},{\"id\":\"4319\"}]},\"id\":\"4371\",\"type\":\"ProxyToolbar\"},{\"attributes\":{\"children\":[{\"id\":\"4372\"},{\"id\":\"4370\"}]},\"id\":\"4373\",\"type\":\"Column\"},{\"attributes\":{},\"id\":\"4303\",\"type\":\"LinearScale\"},{\"attributes\":{\"axis\":{\"id\":\"4307\"},\"coordinates\":null,\"grid_line_color\":null,\"group\":null,\"ticker\":null},\"id\":\"4310\",\"type\":\"Grid\"},{\"attributes\":{\"coordinates\":null,\"group\":null,\"text\":\"Elbow Curve\",\"text_color\":\"black\",\"text_font_size\":\"12pt\"},\"id\":\"4299\",\"type\":\"Title\"},{\"attributes\":{\"toolbar\":{\"id\":\"4371\"},\"toolbar_location\":\"above\"},\"id\":\"4372\",\"type\":\"ToolbarBox\"},{\"attributes\":{\"below\":[{\"id\":\"4254\"}],\"center\":[{\"id\":\"4257\"},{\"id\":\"4261\"}],\"height\":300,\"left\":[{\"id\":\"4258\"}],\"margin\":null,\"min_border_bottom\":10,\"min_border_left\":10,\"min_border_right\":10,\"min_border_top\":10,\"renderers\":[{\"id\":\"4281\"}],\"sizing_mode\":\"fixed\",\"title\":{\"id\":\"4246\"},\"toolbar\":{\"id\":\"4268\"},\"toolbar_location\":null,\"width\":700,\"x_range\":{\"id\":\"4242\"},\"x_scale\":{\"id\":\"4250\"},\"y_range\":{\"id\":\"4243\"},\"y_scale\":{\"id\":\"4252\"}},\"id\":\"4245\",\"subtype\":\"Figure\",\"type\":\"Plot\"},{\"attributes\":{\"line_color\":\"#30a2da\",\"line_width\":2,\"x\":{\"field\":\"k\"},\"y\":{\"field\":\"inertia\"}},\"id\":\"4336\",\"type\":\"Line\"},{\"attributes\":{\"axis_label\":\"k\",\"coordinates\":null,\"formatter\":{\"id\":\"4339\"},\"group\":null,\"major_label_policy\":{\"id\":\"4340\"},\"ticker\":{\"id\":\"4337\"}},\"id\":\"4307\",\"type\":\"LinearAxis\"},{\"attributes\":{},\"id\":\"4252\",\"type\":\"LinearScale\"},{\"attributes\":{\"bottom_units\":\"screen\",\"coordinates\":null,\"fill_alpha\":0.5,\"fill_color\":\"lightgrey\",\"group\":null,\"left_units\":\"screen\",\"level\":\"overlay\",\"line_alpha\":1.0,\"line_color\":\"black\",\"line_dash\":[4,4],\"line_width\":2,\"right_units\":\"screen\",\"syncable\":false,\"top_units\":\"screen\"},\"id\":\"4320\",\"type\":\"BoxAnnotation\"},{\"attributes\":{},\"id\":\"4305\",\"type\":\"LinearScale\"},{\"attributes\":{\"line_alpha\":0.1,\"line_color\":\"#30a2da\",\"line_width\":2,\"x\":{\"field\":\"k\"},\"y\":{\"field\":\"inertia\"}},\"id\":\"4332\",\"type\":\"Line\"},{\"attributes\":{\"coordinates\":null,\"data_source\":{\"id\":\"4328\"},\"glyph\":{\"id\":\"4331\"},\"group\":null,\"hover_glyph\":null,\"muted_glyph\":{\"id\":\"4333\"},\"nonselection_glyph\":{\"id\":\"4332\"},\"selection_glyph\":{\"id\":\"4336\"},\"view\":{\"id\":\"4335\"}},\"id\":\"4334\",\"type\":\"GlyphRenderer\"},{\"attributes\":{},\"id\":\"4291\",\"type\":\"BasicTickFormatter\"},{\"attributes\":{\"coordinates\":null,\"group\":null,\"text\":\"Elbow Curve\",\"text_color\":\"black\",\"text_font_size\":\"12pt\"},\"id\":\"4246\",\"type\":\"Title\"},{\"attributes\":{\"callback\":null,\"renderers\":[{\"id\":\"4281\"}],\"tags\":[\"hv_created\"],\"tooltips\":[[\"k\",\"@{k}\"],[\"inertia\",\"@{inertia}\"]]},\"id\":\"4244\",\"type\":\"HoverTool\"},{\"attributes\":{\"axis_label\":\"k\",\"coordinates\":null,\"formatter\":{\"id\":\"4286\"},\"group\":null,\"major_label_policy\":{\"id\":\"4287\"},\"ticker\":{\"id\":\"4284\"}},\"id\":\"4254\",\"type\":\"LinearAxis\"}],\"root_ids\":[\"4241\"]},\"title\":\"Bokeh Application\",\"version\":\"2.4.3\"}};\n",
       "    var render_items = [{\"docid\":\"a98b693b-bdb4-4a45-8777-3074d6331fa0\",\"root_ids\":[\"4241\"],\"roots\":{\"4241\":\"c334237e-1814-4be4-ad2e-8916fb818877\"}}];\n",
       "    root.Bokeh.embed.embed_items_notebook(docs_json, render_items);\n",
       "    for (const render_item of render_items) {\n",
       "      for (const root_id of render_item.root_ids) {\n",
       "\tconst id_el = document.getElementById(root_id)\n",
       "\tif (id_el.children.length && (id_el.children[0].className === 'bk-root')) {\n",
       "\t  const root_el = id_el.children[0]\n",
       "\t  root_el.id = root_el.id + '-rendered'\n",
       "\t}\n",
       "      }\n",
       "    }\n",
       "  }\n",
       "  if (root.Bokeh !== undefined && root.Bokeh.Panel !== undefined) {\n",
       "    embed_document(root);\n",
       "  } else {\n",
       "    var attempts = 0;\n",
       "    var timer = setInterval(function(root) {\n",
       "      if (root.Bokeh !== undefined && root.Bokeh.Panel !== undefined) {\n",
       "        clearInterval(timer);\n",
       "        embed_document(root);\n",
       "      } else if (document.readyState == \"complete\") {\n",
       "        attempts++;\n",
       "        if (attempts > 200) {\n",
       "          clearInterval(timer);\n",
       "          console.log(\"Bokeh: ERROR: Unable to run BokehJS code because BokehJS library is missing\");\n",
       "        }\n",
       "      }\n",
       "    }, 25, root)\n",
       "  }\n",
       "})(window);</script>"
      ],
      "text/plain": [
       ":Layout\n",
       "   .Curve.I  :Curve   [k]   (inertia)\n",
       "   .Curve.II :Curve   [k]   (inertia)"
      ]
     },
     "execution_count": 75,
     "metadata": {
      "application/vnd.holoviews_exec.v0+json": {
       "id": "4241"
      }
     },
     "output_type": "execute_result"
    }
   ],
   "source": [
    "# Composite plot to contrast the Elbow curves\n",
    "pca_elbow_data_plot+scaled_elbow_data\n"
   ]
  },
  {
   "cell_type": "code",
   "execution_count": 76,
   "metadata": {},
   "outputs": [
    {
     "data": {},
     "metadata": {},
     "output_type": "display_data"
    },
    {
     "data": {
      "application/vnd.holoviews_exec.v0+json": "",
      "text/html": [
       "<div id='4483'>\n",
       "  <div class=\"bk-root\" id=\"220af497-54cc-43b1-ad4f-ea35691ad1b9\" data-root-id=\"4483\"></div>\n",
       "</div>\n",
       "<script type=\"application/javascript\">(function(root) {\n",
       "  function embed_document(root) {\n",
       "    var docs_json = {\"4456438f-0d40-44d1-b7e9-602a10492db1\":{\"defs\":[{\"extends\":null,\"module\":null,\"name\":\"ReactiveHTML1\",\"overrides\":[],\"properties\":[]},{\"extends\":null,\"module\":null,\"name\":\"FlexBox1\",\"overrides\":[],\"properties\":[{\"default\":\"flex-start\",\"kind\":null,\"name\":\"align_content\"},{\"default\":\"flex-start\",\"kind\":null,\"name\":\"align_items\"},{\"default\":\"row\",\"kind\":null,\"name\":\"flex_direction\"},{\"default\":\"wrap\",\"kind\":null,\"name\":\"flex_wrap\"},{\"default\":\"flex-start\",\"kind\":null,\"name\":\"justify_content\"}]},{\"extends\":null,\"module\":null,\"name\":\"GridStack1\",\"overrides\":[],\"properties\":[{\"default\":\"warn\",\"kind\":null,\"name\":\"mode\"},{\"default\":null,\"kind\":null,\"name\":\"ncols\"},{\"default\":null,\"kind\":null,\"name\":\"nrows\"},{\"default\":true,\"kind\":null,\"name\":\"allow_resize\"},{\"default\":true,\"kind\":null,\"name\":\"allow_drag\"},{\"default\":[],\"kind\":null,\"name\":\"state\"}]},{\"extends\":null,\"module\":null,\"name\":\"click1\",\"overrides\":[],\"properties\":[{\"default\":\"\",\"kind\":null,\"name\":\"terminal_output\"},{\"default\":\"\",\"kind\":null,\"name\":\"debug_name\"},{\"default\":0,\"kind\":null,\"name\":\"clears\"}]},{\"extends\":null,\"module\":null,\"name\":\"NotificationAreaBase1\",\"overrides\":[],\"properties\":[{\"default\":\"bottom-right\",\"kind\":null,\"name\":\"position\"},{\"default\":0,\"kind\":null,\"name\":\"_clear\"}]},{\"extends\":null,\"module\":null,\"name\":\"NotificationArea1\",\"overrides\":[],\"properties\":[{\"default\":[],\"kind\":null,\"name\":\"notifications\"},{\"default\":\"bottom-right\",\"kind\":null,\"name\":\"position\"},{\"default\":0,\"kind\":null,\"name\":\"_clear\"},{\"default\":[{\"background\":\"#ffc107\",\"icon\":{\"className\":\"fas fa-exclamation-triangle\",\"color\":\"white\",\"tagName\":\"i\"},\"type\":\"warning\"},{\"background\":\"#007bff\",\"icon\":{\"className\":\"fas fa-info-circle\",\"color\":\"white\",\"tagName\":\"i\"},\"type\":\"info\"}],\"kind\":null,\"name\":\"types\"}]},{\"extends\":null,\"module\":null,\"name\":\"Notification\",\"overrides\":[],\"properties\":[{\"default\":null,\"kind\":null,\"name\":\"background\"},{\"default\":3000,\"kind\":null,\"name\":\"duration\"},{\"default\":null,\"kind\":null,\"name\":\"icon\"},{\"default\":\"\",\"kind\":null,\"name\":\"message\"},{\"default\":null,\"kind\":null,\"name\":\"notification_type\"},{\"default\":false,\"kind\":null,\"name\":\"_destroyed\"}]},{\"extends\":null,\"module\":null,\"name\":\"TemplateActions1\",\"overrides\":[],\"properties\":[{\"default\":0,\"kind\":null,\"name\":\"open_modal\"},{\"default\":0,\"kind\":null,\"name\":\"close_modal\"}]},{\"extends\":null,\"module\":null,\"name\":\"MaterialTemplateActions1\",\"overrides\":[],\"properties\":[{\"default\":0,\"kind\":null,\"name\":\"open_modal\"},{\"default\":0,\"kind\":null,\"name\":\"close_modal\"}]}],\"roots\":{\"references\":[{\"attributes\":{\"end\":7.834135596337129,\"reset_end\":7.834135596337129,\"reset_start\":-4.963347456561397,\"start\":-4.963347456561397,\"tags\":[[[\"PCA2\",\"PCA2\",null]]]},\"id\":\"4485\",\"type\":\"Range1d\"},{\"attributes\":{},\"id\":\"4594\",\"type\":\"Selection\"},{\"attributes\":{},\"id\":\"4680\",\"type\":\"UnionRenderers\"},{\"attributes\":{\"fill_alpha\":{\"value\":0.1},\"fill_color\":{\"value\":\"#6d904f\"},\"hatch_alpha\":{\"value\":0.1},\"hatch_color\":{\"value\":\"#6d904f\"},\"line_alpha\":{\"value\":0.1},\"line_color\":{\"value\":\"#6d904f\"},\"size\":{\"value\":5.477225575051661},\"x\":{\"field\":\"PCA1\"},\"y\":{\"field\":\"PCA2\"}},\"id\":\"4597\",\"type\":\"Scatter\"},{\"attributes\":{\"label\":{\"value\":\"3\"},\"renderers\":[{\"id\":\"4599\"}]},\"id\":\"4617\",\"type\":\"LegendItem\"},{\"attributes\":{},\"id\":\"4634\",\"type\":\"LinearScale\"},{\"attributes\":{\"below\":[{\"id\":\"4499\"}],\"center\":[{\"id\":\"4502\"},{\"id\":\"4506\"}],\"height\":300,\"left\":[{\"id\":\"4503\"}],\"margin\":null,\"min_border_bottom\":10,\"min_border_left\":10,\"min_border_right\":10,\"min_border_top\":10,\"renderers\":[{\"id\":\"4532\"},{\"id\":\"4553\"},{\"id\":\"4575\"},{\"id\":\"4599\"}],\"right\":[{\"id\":\"4544\"}],\"sizing_mode\":\"fixed\",\"title\":{\"id\":\"4491\"},\"toolbar\":{\"id\":\"4513\"},\"toolbar_location\":null,\"width\":700,\"x_range\":{\"id\":\"4484\"},\"x_scale\":{\"id\":\"4495\"},\"y_range\":{\"id\":\"4485\"},\"y_scale\":{\"id\":\"4497\"}},\"id\":\"4490\",\"subtype\":\"Figure\",\"type\":\"Plot\"},{\"attributes\":{\"coordinates\":null,\"data_source\":{\"id\":\"4593\"},\"glyph\":{\"id\":\"4596\"},\"group\":null,\"hover_glyph\":null,\"muted_glyph\":{\"id\":\"4598\"},\"nonselection_glyph\":{\"id\":\"4597\"},\"selection_glyph\":{\"id\":\"4618\"},\"view\":{\"id\":\"4600\"}},\"id\":\"4599\",\"type\":\"GlyphRenderer\"},{\"attributes\":{\"children\":[[{\"id\":\"4490\"},0,0],[{\"id\":\"4629\"},0,1]]},\"id\":\"4796\",\"type\":\"GridBox\"},{\"attributes\":{},\"id\":\"4497\",\"type\":\"LinearScale\"},{\"attributes\":{\"angle\":{\"value\":0.0},\"fill_alpha\":{\"value\":1.0},\"fill_color\":{\"value\":\"#30a2da\"},\"hatch_alpha\":{\"value\":1.0},\"hatch_color\":{\"value\":\"#30a2da\"},\"hatch_scale\":{\"value\":12.0},\"hatch_weight\":{\"value\":1.0},\"line_alpha\":{\"value\":1.0},\"line_cap\":{\"value\":\"butt\"},\"line_color\":{\"value\":\"#30a2da\"},\"line_dash\":{\"value\":[]},\"line_dash_offset\":{\"value\":0},\"line_join\":{\"value\":\"bevel\"},\"line_width\":{\"value\":1},\"marker\":{\"value\":\"circle\"},\"size\":{\"value\":5.477225575051661},\"x\":{\"field\":\"PCA1\"},\"y\":{\"field\":\"PCA2\"}},\"id\":\"4546\",\"type\":\"Scatter\"},{\"attributes\":{\"data\":{\"cluster\":[1],\"coin_id\":[\"ethlend\"],\"price_change_percentage_24h\":{\"__ndarray__\":\"3WeHPpbsE8A=\",\"dtype\":\"float64\",\"order\":\"little\",\"shape\":[1]},\"price_change_percentage_7d\":{\"__ndarray__\":\"dIWi2pshp78=\",\"dtype\":\"float64\",\"order\":\"little\",\"shape\":[1]}},\"selected\":{\"id\":\"4687\"},\"selection_policy\":{\"id\":\"4703\"}},\"id\":\"4686\",\"type\":\"ColumnDataSource\"},{\"attributes\":{\"fill_alpha\":{\"value\":0.2},\"fill_color\":{\"value\":\"#fc4f30\"},\"hatch_alpha\":{\"value\":0.2},\"hatch_color\":{\"value\":\"#fc4f30\"},\"line_alpha\":{\"value\":0.2},\"line_color\":{\"value\":\"#fc4f30\"},\"size\":{\"value\":5.477225575051661},\"x\":{\"field\":\"PCA1\"},\"y\":{\"field\":\"PCA2\"}},\"id\":\"4552\",\"type\":\"Scatter\"},{\"attributes\":{\"axis_label\":\"PCA1\",\"coordinates\":null,\"formatter\":{\"id\":\"4521\"},\"group\":null,\"major_label_policy\":{\"id\":\"4522\"},\"ticker\":{\"id\":\"4500\"}},\"id\":\"4499\",\"type\":\"LinearAxis\"},{\"attributes\":{},\"id\":\"4508\",\"type\":\"PanTool\"},{\"attributes\":{\"angle\":{\"value\":0.0},\"fill_alpha\":{\"value\":1.0},\"fill_color\":{\"value\":\"#e5ae38\"},\"hatch_alpha\":{\"value\":1.0},\"hatch_color\":{\"value\":\"#e5ae38\"},\"hatch_scale\":{\"value\":12.0},\"hatch_weight\":{\"value\":1.0},\"line_alpha\":{\"value\":1.0},\"line_cap\":{\"value\":\"butt\"},\"line_color\":{\"value\":\"#e5ae38\"},\"line_dash\":{\"value\":[]},\"line_dash_offset\":{\"value\":0},\"line_join\":{\"value\":\"bevel\"},\"line_width\":{\"value\":1},\"marker\":{\"value\":\"circle\"},\"size\":{\"value\":5.477225575051661},\"x\":{\"field\":\"price_change_percentage_24h\"},\"y\":{\"field\":\"price_change_percentage_7d\"}},\"id\":\"4731\",\"type\":\"Scatter\"},{\"attributes\":{\"axis\":{\"id\":\"4499\"},\"coordinates\":null,\"grid_line_color\":null,\"group\":null,\"ticker\":null},\"id\":\"4502\",\"type\":\"Grid\"},{\"attributes\":{\"fill_alpha\":{\"value\":0.2},\"fill_color\":{\"value\":\"#6d904f\"},\"hatch_alpha\":{\"value\":0.2},\"hatch_color\":{\"value\":\"#6d904f\"},\"line_alpha\":{\"value\":0.2},\"line_color\":{\"value\":\"#6d904f\"},\"size\":{\"value\":5.477225575051661},\"x\":{\"field\":\"price_change_percentage_24h\"},\"y\":{\"field\":\"price_change_percentage_7d\"}},\"id\":\"4737\",\"type\":\"Scatter\"},{\"attributes\":{},\"id\":\"4500\",\"type\":\"BasicTicker\"},{\"attributes\":{\"axis_label\":\"PCA2\",\"coordinates\":null,\"formatter\":{\"id\":\"4524\"},\"group\":null,\"major_label_policy\":{\"id\":\"4525\"},\"ticker\":{\"id\":\"4504\"}},\"id\":\"4503\",\"type\":\"LinearAxis\"},{\"attributes\":{\"axis\":{\"id\":\"4503\"},\"coordinates\":null,\"dimension\":1,\"grid_line_color\":null,\"group\":null,\"ticker\":null},\"id\":\"4506\",\"type\":\"Grid\"},{\"attributes\":{},\"id\":\"4753\",\"type\":\"UnionRenderers\"},{\"attributes\":{\"angle\":{\"value\":0.0},\"fill_alpha\":{\"value\":1.0},\"fill_color\":{\"value\":\"#6d904f\"},\"hatch_alpha\":{\"value\":1.0},\"hatch_color\":{\"value\":\"#6d904f\"},\"hatch_scale\":{\"value\":12.0},\"hatch_weight\":{\"value\":1.0},\"line_alpha\":{\"value\":1.0},\"line_cap\":{\"value\":\"butt\"},\"line_color\":{\"value\":\"#6d904f\"},\"line_dash\":{\"value\":[]},\"line_dash_offset\":{\"value\":0},\"line_join\":{\"value\":\"bevel\"},\"line_width\":{\"value\":1},\"marker\":{\"value\":\"circle\"},\"size\":{\"value\":5.477225575051661},\"x\":{\"field\":\"PCA1\"},\"y\":{\"field\":\"PCA2\"}},\"id\":\"4618\",\"type\":\"Scatter\"},{\"attributes\":{},\"id\":\"4504\",\"type\":\"BasicTicker\"},{\"attributes\":{},\"id\":\"4509\",\"type\":\"WheelZoomTool\"},{\"attributes\":{\"below\":[{\"id\":\"4638\"}],\"center\":[{\"id\":\"4641\"},{\"id\":\"4645\"}],\"height\":300,\"left\":[{\"id\":\"4642\"}],\"margin\":null,\"min_border_bottom\":10,\"min_border_left\":10,\"min_border_right\":10,\"min_border_top\":10,\"renderers\":[{\"id\":\"4671\"},{\"id\":\"4692\"},{\"id\":\"4714\"},{\"id\":\"4738\"}],\"right\":[{\"id\":\"4683\"}],\"sizing_mode\":\"fixed\",\"title\":{\"id\":\"4630\"},\"toolbar\":{\"id\":\"4652\"},\"toolbar_location\":null,\"width\":700,\"x_range\":{\"id\":\"4623\"},\"x_scale\":{\"id\":\"4634\"},\"y_range\":{\"id\":\"4624\"},\"y_scale\":{\"id\":\"4636\"}},\"id\":\"4629\",\"subtype\":\"Figure\",\"type\":\"Plot\"},{\"attributes\":{},\"id\":\"4507\",\"type\":\"SaveTool\"},{\"attributes\":{\"overlay\":{\"id\":\"4512\"}},\"id\":\"4510\",\"type\":\"BoxZoomTool\"},{\"attributes\":{\"coordinates\":null,\"data_source\":{\"id\":\"4708\"},\"glyph\":{\"id\":\"4711\"},\"group\":null,\"hover_glyph\":null,\"muted_glyph\":{\"id\":\"4713\"},\"nonselection_glyph\":{\"id\":\"4712\"},\"selection_glyph\":{\"id\":\"4731\"},\"view\":{\"id\":\"4715\"}},\"id\":\"4714\",\"type\":\"GlyphRenderer\"},{\"attributes\":{},\"id\":\"4511\",\"type\":\"ResetTool\"},{\"attributes\":{\"callback\":null,\"renderers\":[{\"id\":\"4671\"},{\"id\":\"4692\"},{\"id\":\"4714\"},{\"id\":\"4738\"}],\"tags\":[\"hv_created\"],\"tooltips\":[[\"cluster\",\"@{cluster}\"],[\"price_change_percentage_24h\",\"@{price_change_percentage_24h}\"],[\"price_change_percentage_7d\",\"@{price_change_percentage_7d}\"],[\"coin_id\",\"@{coin_id}\"]]},\"id\":\"4625\",\"type\":\"HoverTool\"},{\"attributes\":{\"bottom_units\":\"screen\",\"coordinates\":null,\"fill_alpha\":0.5,\"fill_color\":\"lightgrey\",\"group\":null,\"left_units\":\"screen\",\"level\":\"overlay\",\"line_alpha\":1.0,\"line_color\":\"black\",\"line_dash\":[4,4],\"line_width\":2,\"right_units\":\"screen\",\"syncable\":false,\"top_units\":\"screen\"},\"id\":\"4512\",\"type\":\"BoxAnnotation\"},{\"attributes\":{\"end\":2.997678656273595,\"reset_end\":2.997678656273595,\"reset_start\":-2.107454305728652,\"start\":-2.107454305728652,\"tags\":[[[\"price_change_percentage_7d\",\"price_change_percentage_7d\",null]]]},\"id\":\"4624\",\"type\":\"Range1d\"},{\"attributes\":{\"label\":{\"value\":\"0\"},\"renderers\":[{\"id\":\"4532\"}]},\"id\":\"4545\",\"type\":\"LegendItem\"},{\"attributes\":{\"data\":{\"PCA1\":{\"__ndarray__\":\"RlWiy5MtIEA=\",\"dtype\":\"float64\",\"order\":\"little\",\"shape\":[1]},\"PCA2\":{\"__ndarray__\":\"YQ3w8dQsD8A=\",\"dtype\":\"float64\",\"order\":\"little\",\"shape\":[1]},\"cluster\":[1],\"coin_id\":[\"ethlend\"]},\"selected\":{\"id\":\"4548\"},\"selection_policy\":{\"id\":\"4564\"}},\"id\":\"4547\",\"type\":\"ColumnDataSource\"},{\"attributes\":{},\"id\":\"4521\",\"type\":\"BasicTickFormatter\"},{\"attributes\":{\"data\":{\"cluster\":[0,0,0,0,0,0,0,0,0,0,0,0,0],\"coin_id\":[\"bitcoin\",\"ethereum\",\"bitcoin-cash\",\"binancecoin\",\"chainlink\",\"cardano\",\"litecoin\",\"monero\",\"tezos\",\"cosmos\",\"wrapped-bitcoin\",\"zcash\",\"maker\"],\"price_change_percentage_24h\":{\"__ndarray__\":\"DdlqYN9F4D86azDosLzHPzALIwCtFvM/9w6McDSK7D/VDHOpb1eHPzMEvaFkP7o/Sds39trWsz9Epj8/c9DQP4xAeNEVZ8O/qq8st/Fh0L8FWWk3mH7gP6wo083aUMC//ACFOIMFwL8=\",\"dtype\":\"float64\",\"order\":\"little\",\"shape\":[13]},\"price_change_percentage_7d\":{\"__ndarray__\":\"U1k8q3mQ3z9yoPpI+ebtPzAB2dP2AQBAgmkOMZk89T8FNulI+JMEQCZRaSLGIPg/84wjaB1l1T8rMp3jf678P2VmURqKqeY/XK6ZksNx/T9DfMqy1o7dPyTPDB1Xu+0/srW7TleV4j8=\",\"dtype\":\"float64\",\"order\":\"little\",\"shape\":[13]}},\"selected\":{\"id\":\"4666\"},\"selection_policy\":{\"id\":\"4680\"}},\"id\":\"4665\",\"type\":\"ColumnDataSource\"},{\"attributes\":{\"source\":{\"id\":\"4732\"}},\"id\":\"4739\",\"type\":\"CDSView\"},{\"attributes\":{},\"id\":\"4733\",\"type\":\"Selection\"},{\"attributes\":{},\"id\":\"4564\",\"type\":\"UnionRenderers\"},{\"attributes\":{\"data\":{\"PCA1\":{\"__ndarray__\":\"YBQ7s2krE0A=\",\"dtype\":\"float64\",\"order\":\"little\",\"shape\":[1]},\"PCA2\":{\"__ndarray__\":\"FlrQWxoSG0A=\",\"dtype\":\"float64\",\"order\":\"little\",\"shape\":[1]},\"cluster\":[2],\"coin_id\":[\"celsius-degree-token\"]},\"selected\":{\"id\":\"4570\"},\"selection_policy\":{\"id\":\"4588\"}},\"id\":\"4569\",\"type\":\"ColumnDataSource\"},{\"attributes\":{\"source\":{\"id\":\"4569\"}},\"id\":\"4576\",\"type\":\"CDSView\"},{\"attributes\":{\"children\":[{\"id\":\"4799\"}],\"margin\":[0,0,0,0],\"name\":\"Row03797\",\"tags\":[\"embedded\"]},\"id\":\"4483\",\"type\":\"Row\"},{\"attributes\":{\"label\":{\"value\":\"1\"},\"renderers\":[{\"id\":\"4692\"}]},\"id\":\"4706\",\"type\":\"LegendItem\"},{\"attributes\":{},\"id\":\"4661\",\"type\":\"AllLabels\"},{\"attributes\":{},\"id\":\"4548\",\"type\":\"Selection\"},{\"attributes\":{\"angle\":{\"value\":0.0},\"fill_alpha\":{\"value\":1.0},\"fill_color\":{\"value\":\"#30a2da\"},\"hatch_alpha\":{\"value\":1.0},\"hatch_color\":{\"value\":\"#30a2da\"},\"hatch_scale\":{\"value\":12.0},\"hatch_weight\":{\"value\":1.0},\"line_alpha\":{\"value\":1.0},\"line_cap\":{\"value\":\"butt\"},\"line_color\":{\"value\":\"#30a2da\"},\"line_dash\":{\"value\":[]},\"line_dash_offset\":{\"value\":0},\"line_join\":{\"value\":\"bevel\"},\"line_width\":{\"value\":1},\"marker\":{\"value\":\"circle\"},\"size\":{\"value\":5.477225575051661},\"x\":{\"field\":\"price_change_percentage_24h\"},\"y\":{\"field\":\"price_change_percentage_7d\"}},\"id\":\"4685\",\"type\":\"Scatter\"},{\"attributes\":{\"fill_alpha\":{\"value\":0.1},\"fill_color\":{\"value\":\"#6d904f\"},\"hatch_alpha\":{\"value\":0.1},\"hatch_color\":{\"value\":\"#6d904f\"},\"line_alpha\":{\"value\":0.1},\"line_color\":{\"value\":\"#6d904f\"},\"size\":{\"value\":5.477225575051661},\"x\":{\"field\":\"price_change_percentage_24h\"},\"y\":{\"field\":\"price_change_percentage_7d\"}},\"id\":\"4736\",\"type\":\"Scatter\"},{\"attributes\":{\"label\":{\"value\":\"3\"},\"renderers\":[{\"id\":\"4738\"}]},\"id\":\"4756\",\"type\":\"LegendItem\"},{\"attributes\":{},\"id\":\"4527\",\"type\":\"Selection\"},{\"attributes\":{\"data\":{\"PCA1\":{\"__ndarray__\":\"UpZ8amq3278kYXw2izLev+Lya5vXSei/BPxzoPfEz7+Qh/TX3g7cv5wZGVOKMOa/g0wjp68s2b+6A7sJMGewP9+yldMFTN+/E+kqwdFu4L8ZF4kx+yzXv8YSO2dvc9q/1hEoujMU2r+LZdmqtnzjP/NN1mNC0Ny/mdi9MiN46L8qsu9uVM3hv+VGFZE5agVAqSC8UEGl47/DvuS6vI7ivzEKKydStOs/0pK6/7yWvD+wXMBgQDzkv5UbmkYF++K/Gr1JmQJS3b8X4q/49hDTvw==\",\"dtype\":\"float64\",\"order\":\"little\",\"shape\":[26]},\"PCA2\":{\"__ndarray__\":\"Z9F7TyqFxb9wj1UaIIDMv1DhzCbqwMm/xToUYyAF9r+JZsaEbXHGvxbJIJL6Ut6/DSu0IHiyu79wgFApNFH0v/egJl5vcue/k5KaSllHwr+tiEuGzZTvv2D5wy5akuW/it3jHmozy7+eF2SFdAjiPzMuIf2aVMO/H+uFsYSS4L9QbbiA5wL/vwyKJoz3k4y/c48PRXSt3r/z3rYoLM7Wv2z+1spVGALA+SEohoZp2z89qFKDbN0AwCsR7msnAJY/HvWtmbtfwb8FSPDBzXbIvw==\",\"dtype\":\"float64\",\"order\":\"little\",\"shape\":[26]},\"cluster\":[3,3,3,3,3,3,3,3,3,3,3,3,3,3,3,3,3,3,3,3,3,3,3,3,3,3],\"coin_id\":[\"tether\",\"ripple\",\"bitcoin-cash-sv\",\"crypto-com-chain\",\"usd-coin\",\"eos\",\"tron\",\"okb\",\"stellar\",\"cdai\",\"neo\",\"leo-token\",\"huobi-token\",\"nem\",\"binance-usd\",\"iota\",\"vechain\",\"theta-token\",\"dash\",\"ethereum-classic\",\"havven\",\"omisego\",\"ontology\",\"ftx-token\",\"true-usd\",\"digibyte\"]},\"selected\":{\"id\":\"4594\"},\"selection_policy\":{\"id\":\"4614\"}},\"id\":\"4593\",\"type\":\"ColumnDataSource\"},{\"attributes\":{\"coordinates\":null,\"data_source\":{\"id\":\"4732\"},\"glyph\":{\"id\":\"4735\"},\"group\":null,\"hover_glyph\":null,\"muted_glyph\":{\"id\":\"4737\"},\"nonselection_glyph\":{\"id\":\"4736\"},\"selection_glyph\":{\"id\":\"4757\"},\"view\":{\"id\":\"4739\"}},\"id\":\"4738\",\"type\":\"GlyphRenderer\"},{\"attributes\":{\"fill_alpha\":{\"value\":0.1},\"fill_color\":{\"value\":\"#30a2da\"},\"hatch_alpha\":{\"value\":0.1},\"hatch_color\":{\"value\":\"#30a2da\"},\"line_alpha\":{\"value\":0.1},\"line_color\":{\"value\":\"#30a2da\"},\"size\":{\"value\":5.477225575051661},\"x\":{\"field\":\"PCA1\"},\"y\":{\"field\":\"PCA2\"}},\"id\":\"4530\",\"type\":\"Scatter\"},{\"attributes\":{\"source\":{\"id\":\"4686\"}},\"id\":\"4693\",\"type\":\"CDSView\"},{\"attributes\":{\"coordinates\":null,\"data_source\":{\"id\":\"4526\"},\"glyph\":{\"id\":\"4529\"},\"group\":null,\"hover_glyph\":null,\"muted_glyph\":{\"id\":\"4531\"},\"nonselection_glyph\":{\"id\":\"4530\"},\"selection_glyph\":{\"id\":\"4546\"},\"view\":{\"id\":\"4533\"}},\"id\":\"4532\",\"type\":\"GlyphRenderer\"},{\"attributes\":{\"fill_alpha\":{\"value\":0.2},\"fill_color\":{\"value\":\"#fc4f30\"},\"hatch_alpha\":{\"value\":0.2},\"hatch_color\":{\"value\":\"#fc4f30\"},\"line_alpha\":{\"value\":0.2},\"line_color\":{\"value\":\"#fc4f30\"},\"size\":{\"value\":5.477225575051661},\"x\":{\"field\":\"price_change_percentage_24h\"},\"y\":{\"field\":\"price_change_percentage_7d\"}},\"id\":\"4691\",\"type\":\"Scatter\"},{\"attributes\":{\"source\":{\"id\":\"4526\"}},\"id\":\"4533\",\"type\":\"CDSView\"},{\"attributes\":{},\"id\":\"4495\",\"type\":\"LinearScale\"},{\"attributes\":{},\"id\":\"4636\",\"type\":\"LinearScale\"},{\"attributes\":{\"fill_color\":{\"value\":\"#fc4f30\"},\"hatch_color\":{\"value\":\"#fc4f30\"},\"line_color\":{\"value\":\"#fc4f30\"},\"size\":{\"value\":5.477225575051661},\"x\":{\"field\":\"price_change_percentage_24h\"},\"y\":{\"field\":\"price_change_percentage_7d\"}},\"id\":\"4689\",\"type\":\"Scatter\"},{\"attributes\":{\"click_policy\":\"mute\",\"coordinates\":null,\"group\":null,\"items\":[{\"id\":\"4545\"},{\"id\":\"4567\"},{\"id\":\"4591\"},{\"id\":\"4617\"}],\"location\":[0,0],\"title\":\"cluster\"},\"id\":\"4544\",\"type\":\"Legend\"},{\"attributes\":{},\"id\":\"4703\",\"type\":\"UnionRenderers\"},{\"attributes\":{\"coordinates\":null,\"group\":null,\"text\":\"Original data scatter plot\",\"text_color\":\"black\",\"text_font_size\":\"12pt\"},\"id\":\"4630\",\"type\":\"Title\"},{\"attributes\":{\"angle\":{\"value\":0.0},\"fill_alpha\":{\"value\":1.0},\"fill_color\":{\"value\":\"#fc4f30\"},\"hatch_alpha\":{\"value\":1.0},\"hatch_color\":{\"value\":\"#fc4f30\"},\"hatch_scale\":{\"value\":12.0},\"hatch_weight\":{\"value\":1.0},\"line_alpha\":{\"value\":1.0},\"line_cap\":{\"value\":\"butt\"},\"line_color\":{\"value\":\"#fc4f30\"},\"line_dash\":{\"value\":[]},\"line_dash_offset\":{\"value\":0},\"line_join\":{\"value\":\"bevel\"},\"line_width\":{\"value\":1},\"marker\":{\"value\":\"circle\"},\"size\":{\"value\":5.477225575051661},\"x\":{\"field\":\"PCA1\"},\"y\":{\"field\":\"PCA2\"}},\"id\":\"4568\",\"type\":\"Scatter\"},{\"attributes\":{\"axis_label\":\"price_change_percentage_24h\",\"coordinates\":null,\"formatter\":{\"id\":\"4660\"},\"group\":null,\"major_label_policy\":{\"id\":\"4661\"},\"ticker\":{\"id\":\"4639\"}},\"id\":\"4638\",\"type\":\"LinearAxis\"},{\"attributes\":{},\"id\":\"4647\",\"type\":\"PanTool\"},{\"attributes\":{\"fill_alpha\":{\"value\":0.2},\"fill_color\":{\"value\":\"#e5ae38\"},\"hatch_alpha\":{\"value\":0.2},\"hatch_color\":{\"value\":\"#e5ae38\"},\"line_alpha\":{\"value\":0.2},\"line_color\":{\"value\":\"#e5ae38\"},\"size\":{\"value\":5.477225575051661},\"x\":{\"field\":\"PCA1\"},\"y\":{\"field\":\"PCA2\"}},\"id\":\"4574\",\"type\":\"Scatter\"},{\"attributes\":{\"fill_color\":{\"value\":\"#6d904f\"},\"hatch_color\":{\"value\":\"#6d904f\"},\"line_color\":{\"value\":\"#6d904f\"},\"size\":{\"value\":5.477225575051661},\"x\":{\"field\":\"PCA1\"},\"y\":{\"field\":\"PCA2\"}},\"id\":\"4596\",\"type\":\"Scatter\"},{\"attributes\":{\"axis\":{\"id\":\"4638\"},\"coordinates\":null,\"grid_line_color\":null,\"group\":null,\"ticker\":null},\"id\":\"4641\",\"type\":\"Grid\"},{\"attributes\":{},\"id\":\"4639\",\"type\":\"BasicTicker\"},{\"attributes\":{},\"id\":\"4588\",\"type\":\"UnionRenderers\"},{\"attributes\":{\"axis_label\":\"price_change_percentage_7d\",\"coordinates\":null,\"formatter\":{\"id\":\"4663\"},\"group\":null,\"major_label_policy\":{\"id\":\"4664\"},\"ticker\":{\"id\":\"4643\"}},\"id\":\"4642\",\"type\":\"LinearAxis\"},{\"attributes\":{\"axis\":{\"id\":\"4642\"},\"coordinates\":null,\"dimension\":1,\"grid_line_color\":null,\"group\":null,\"ticker\":null},\"id\":\"4645\",\"type\":\"Grid\"},{\"attributes\":{},\"id\":\"4643\",\"type\":\"BasicTicker\"},{\"attributes\":{},\"id\":\"4648\",\"type\":\"WheelZoomTool\"},{\"attributes\":{},\"id\":\"4646\",\"type\":\"SaveTool\"},{\"attributes\":{\"angle\":{\"value\":0.0},\"fill_alpha\":{\"value\":1.0},\"fill_color\":{\"value\":\"#6d904f\"},\"hatch_alpha\":{\"value\":1.0},\"hatch_color\":{\"value\":\"#6d904f\"},\"hatch_scale\":{\"value\":12.0},\"hatch_weight\":{\"value\":1.0},\"line_alpha\":{\"value\":1.0},\"line_cap\":{\"value\":\"butt\"},\"line_color\":{\"value\":\"#6d904f\"},\"line_dash\":{\"value\":[]},\"line_dash_offset\":{\"value\":0},\"line_join\":{\"value\":\"bevel\"},\"line_width\":{\"value\":1},\"marker\":{\"value\":\"circle\"},\"size\":{\"value\":5.477225575051661},\"x\":{\"field\":\"price_change_percentage_24h\"},\"y\":{\"field\":\"price_change_percentage_7d\"}},\"id\":\"4757\",\"type\":\"Scatter\"},{\"attributes\":{\"fill_color\":{\"value\":\"#e5ae38\"},\"hatch_color\":{\"value\":\"#e5ae38\"},\"line_color\":{\"value\":\"#e5ae38\"},\"size\":{\"value\":5.477225575051661},\"x\":{\"field\":\"price_change_percentage_24h\"},\"y\":{\"field\":\"price_change_percentage_7d\"}},\"id\":\"4711\",\"type\":\"Scatter\"},{\"attributes\":{\"children\":[{\"id\":\"4798\"},{\"id\":\"4796\"}]},\"id\":\"4799\",\"type\":\"Column\"},{\"attributes\":{\"overlay\":{\"id\":\"4651\"}},\"id\":\"4649\",\"type\":\"BoxZoomTool\"},{\"attributes\":{},\"id\":\"4650\",\"type\":\"ResetTool\"},{\"attributes\":{\"fill_alpha\":{\"value\":0.2},\"fill_color\":{\"value\":\"#30a2da\"},\"hatch_alpha\":{\"value\":0.2},\"hatch_color\":{\"value\":\"#30a2da\"},\"line_alpha\":{\"value\":0.2},\"line_color\":{\"value\":\"#30a2da\"},\"size\":{\"value\":5.477225575051661},\"x\":{\"field\":\"PCA1\"},\"y\":{\"field\":\"PCA2\"}},\"id\":\"4531\",\"type\":\"Scatter\"},{\"attributes\":{\"label\":{\"value\":\"1\"},\"renderers\":[{\"id\":\"4553\"}]},\"id\":\"4567\",\"type\":\"LegendItem\"},{\"attributes\":{},\"id\":\"4687\",\"type\":\"Selection\"},{\"attributes\":{\"fill_color\":{\"value\":\"#30a2da\"},\"hatch_color\":{\"value\":\"#30a2da\"},\"line_color\":{\"value\":\"#30a2da\"},\"size\":{\"value\":5.477225575051661},\"x\":{\"field\":\"PCA1\"},\"y\":{\"field\":\"PCA2\"}},\"id\":\"4529\",\"type\":\"Scatter\"},{\"attributes\":{\"toolbar\":{\"id\":\"4797\"},\"toolbar_location\":\"above\"},\"id\":\"4798\",\"type\":\"ToolbarBox\"},{\"attributes\":{\"bottom_units\":\"screen\",\"coordinates\":null,\"fill_alpha\":0.5,\"fill_color\":\"lightgrey\",\"group\":null,\"left_units\":\"screen\",\"level\":\"overlay\",\"line_alpha\":1.0,\"line_color\":\"black\",\"line_dash\":[4,4],\"line_width\":2,\"right_units\":\"screen\",\"syncable\":false,\"top_units\":\"screen\"},\"id\":\"4651\",\"type\":\"BoxAnnotation\"},{\"attributes\":{},\"id\":\"4541\",\"type\":\"UnionRenderers\"},{\"attributes\":{\"fill_alpha\":{\"value\":0.1},\"fill_color\":{\"value\":\"#fc4f30\"},\"hatch_alpha\":{\"value\":0.1},\"hatch_color\":{\"value\":\"#fc4f30\"},\"line_alpha\":{\"value\":0.1},\"line_color\":{\"value\":\"#fc4f30\"},\"size\":{\"value\":5.477225575051661},\"x\":{\"field\":\"price_change_percentage_24h\"},\"y\":{\"field\":\"price_change_percentage_7d\"}},\"id\":\"4690\",\"type\":\"Scatter\"},{\"attributes\":{\"source\":{\"id\":\"4708\"}},\"id\":\"4715\",\"type\":\"CDSView\"},{\"attributes\":{},\"id\":\"4660\",\"type\":\"BasicTickFormatter\"},{\"attributes\":{\"coordinates\":null,\"data_source\":{\"id\":\"4686\"},\"glyph\":{\"id\":\"4689\"},\"group\":null,\"hover_glyph\":null,\"muted_glyph\":{\"id\":\"4691\"},\"nonselection_glyph\":{\"id\":\"4690\"},\"selection_glyph\":{\"id\":\"4707\"},\"view\":{\"id\":\"4693\"}},\"id\":\"4692\",\"type\":\"GlyphRenderer\"},{\"attributes\":{\"label\":{\"value\":\"0\"},\"renderers\":[{\"id\":\"4671\"}]},\"id\":\"4684\",\"type\":\"LegendItem\"},{\"attributes\":{\"fill_color\":{\"value\":\"#e5ae38\"},\"hatch_color\":{\"value\":\"#e5ae38\"},\"line_color\":{\"value\":\"#e5ae38\"},\"size\":{\"value\":5.477225575051661},\"x\":{\"field\":\"PCA1\"},\"y\":{\"field\":\"PCA2\"}},\"id\":\"4572\",\"type\":\"Scatter\"},{\"attributes\":{\"fill_alpha\":{\"value\":0.1},\"fill_color\":{\"value\":\"#fc4f30\"},\"hatch_alpha\":{\"value\":0.1},\"hatch_color\":{\"value\":\"#fc4f30\"},\"line_alpha\":{\"value\":0.1},\"line_color\":{\"value\":\"#fc4f30\"},\"size\":{\"value\":5.477225575051661},\"x\":{\"field\":\"PCA1\"},\"y\":{\"field\":\"PCA2\"}},\"id\":\"4551\",\"type\":\"Scatter\"},{\"attributes\":{\"coordinates\":null,\"data_source\":{\"id\":\"4547\"},\"glyph\":{\"id\":\"4550\"},\"group\":null,\"hover_glyph\":null,\"muted_glyph\":{\"id\":\"4552\"},\"nonselection_glyph\":{\"id\":\"4551\"},\"selection_glyph\":{\"id\":\"4568\"},\"view\":{\"id\":\"4554\"}},\"id\":\"4553\",\"type\":\"GlyphRenderer\"},{\"attributes\":{},\"id\":\"4570\",\"type\":\"Selection\"},{\"attributes\":{\"fill_color\":{\"value\":\"#fc4f30\"},\"hatch_color\":{\"value\":\"#fc4f30\"},\"line_color\":{\"value\":\"#fc4f30\"},\"size\":{\"value\":5.477225575051661},\"x\":{\"field\":\"PCA1\"},\"y\":{\"field\":\"PCA2\"}},\"id\":\"4550\",\"type\":\"Scatter\"},{\"attributes\":{\"end\":2.2155632386560065,\"reset_end\":2.2155632386560065,\"reset_start\":-5.276792781891412,\"start\":-5.276792781891412,\"tags\":[[[\"price_change_percentage_24h\",\"price_change_percentage_24h\",null]]]},\"id\":\"4623\",\"type\":\"Range1d\"},{\"attributes\":{\"active_drag\":{\"id\":\"4647\"},\"active_scroll\":{\"id\":\"4648\"},\"tools\":[{\"id\":\"4625\"},{\"id\":\"4646\"},{\"id\":\"4647\"},{\"id\":\"4648\"},{\"id\":\"4649\"},{\"id\":\"4650\"}]},\"id\":\"4652\",\"type\":\"Toolbar\"},{\"attributes\":{\"fill_alpha\":{\"value\":0.1},\"fill_color\":{\"value\":\"#e5ae38\"},\"hatch_alpha\":{\"value\":0.1},\"hatch_color\":{\"value\":\"#e5ae38\"},\"line_alpha\":{\"value\":0.1},\"line_color\":{\"value\":\"#e5ae38\"},\"size\":{\"value\":5.477225575051661},\"x\":{\"field\":\"PCA1\"},\"y\":{\"field\":\"PCA2\"}},\"id\":\"4573\",\"type\":\"Scatter\"},{\"attributes\":{},\"id\":\"4663\",\"type\":\"BasicTickFormatter\"},{\"attributes\":{\"label\":{\"value\":\"2\"},\"renderers\":[{\"id\":\"4575\"}]},\"id\":\"4591\",\"type\":\"LegendItem\"},{\"attributes\":{\"coordinates\":null,\"data_source\":{\"id\":\"4569\"},\"glyph\":{\"id\":\"4572\"},\"group\":null,\"hover_glyph\":null,\"muted_glyph\":{\"id\":\"4574\"},\"nonselection_glyph\":{\"id\":\"4573\"},\"selection_glyph\":{\"id\":\"4592\"},\"view\":{\"id\":\"4576\"}},\"id\":\"4575\",\"type\":\"GlyphRenderer\"},{\"attributes\":{},\"id\":\"4664\",\"type\":\"AllLabels\"},{\"attributes\":{\"source\":{\"id\":\"4547\"}},\"id\":\"4554\",\"type\":\"CDSView\"},{\"attributes\":{\"source\":{\"id\":\"4665\"}},\"id\":\"4672\",\"type\":\"CDSView\"},{\"attributes\":{\"end\":8.485310422788723,\"reset_end\":8.485310422788723,\"reset_start\":-1.5540921804637515,\"start\":-1.5540921804637515,\"tags\":[[[\"PCA1\",\"PCA1\",null]]]},\"id\":\"4484\",\"type\":\"Range1d\"},{\"attributes\":{\"angle\":{\"value\":0.0},\"fill_alpha\":{\"value\":1.0},\"fill_color\":{\"value\":\"#fc4f30\"},\"hatch_alpha\":{\"value\":1.0},\"hatch_color\":{\"value\":\"#fc4f30\"},\"hatch_scale\":{\"value\":12.0},\"hatch_weight\":{\"value\":1.0},\"line_alpha\":{\"value\":1.0},\"line_cap\":{\"value\":\"butt\"},\"line_color\":{\"value\":\"#fc4f30\"},\"line_dash\":{\"value\":[]},\"line_dash_offset\":{\"value\":0},\"line_join\":{\"value\":\"bevel\"},\"line_width\":{\"value\":1},\"marker\":{\"value\":\"circle\"},\"size\":{\"value\":5.477225575051661},\"x\":{\"field\":\"price_change_percentage_24h\"},\"y\":{\"field\":\"price_change_percentage_7d\"}},\"id\":\"4707\",\"type\":\"Scatter\"},{\"attributes\":{\"active_drag\":{\"id\":\"4508\"},\"active_scroll\":{\"id\":\"4509\"},\"tools\":[{\"id\":\"4486\"},{\"id\":\"4507\"},{\"id\":\"4508\"},{\"id\":\"4509\"},{\"id\":\"4510\"},{\"id\":\"4511\"}]},\"id\":\"4513\",\"type\":\"Toolbar\"},{\"attributes\":{\"label\":{\"value\":\"2\"},\"renderers\":[{\"id\":\"4714\"}]},\"id\":\"4730\",\"type\":\"LegendItem\"},{\"attributes\":{\"data\":{\"PCA1\":{\"__ndarray__\":\"N/XQrqo447+40e2+JFTdvz0Tj0NZhvK/7NIJ1HGH4L/CWkdgdNjcv9b9x3tOHta/h21M83DI5L/guE+KvvmuP6YxxVNFeum/o86LH/eZ07/B3W/HIlbjvzzz5tCaNdu/uEmjFh7m2L8=\",\"dtype\":\"float64\",\"order\":\"little\",\"shape\":[13]},\"PCA2\":{\"__ndarray__\":\"ygJY8+P36j9/P81egFfdP6tEN3tlVABAdqRxTss29j+9ZPC8/ZDgP4bE/UiRV+c/ey0795eo2z+U9tOGdUYHQEqknptkpN+/akNue2CC5j9mCxibCnrqP+V0su7rjN8/W0ntLg0gxT8=\",\"dtype\":\"float64\",\"order\":\"little\",\"shape\":[13]},\"cluster\":[0,0,0,0,0,0,0,0,0,0,0,0,0],\"coin_id\":[\"bitcoin\",\"ethereum\",\"bitcoin-cash\",\"binancecoin\",\"chainlink\",\"cardano\",\"litecoin\",\"monero\",\"tezos\",\"cosmos\",\"wrapped-bitcoin\",\"zcash\",\"maker\"]},\"selected\":{\"id\":\"4527\"},\"selection_policy\":{\"id\":\"4541\"}},\"id\":\"4526\",\"type\":\"ColumnDataSource\"},{\"attributes\":{},\"id\":\"4524\",\"type\":\"BasicTickFormatter\"},{\"attributes\":{},\"id\":\"4727\",\"type\":\"UnionRenderers\"},{\"attributes\":{},\"id\":\"4525\",\"type\":\"AllLabels\"},{\"attributes\":{\"toolbars\":[{\"id\":\"4513\"},{\"id\":\"4652\"}],\"tools\":[{\"id\":\"4486\"},{\"id\":\"4507\"},{\"id\":\"4508\"},{\"id\":\"4509\"},{\"id\":\"4510\"},{\"id\":\"4511\"},{\"id\":\"4625\"},{\"id\":\"4646\"},{\"id\":\"4647\"},{\"id\":\"4648\"},{\"id\":\"4649\"},{\"id\":\"4650\"}]},\"id\":\"4797\",\"type\":\"ProxyToolbar\"},{\"attributes\":{\"data\":{\"cluster\":[2],\"coin_id\":[\"celsius-degree-token\"],\"price_change_percentage_24h\":{\"__ndarray__\":\"VLqXBn668D8=\",\"dtype\":\"float64\",\"order\":\"little\",\"shape\":[1]},\"price_change_percentage_7d\":{\"__ndarray__\":\"Nv03JFjJ478=\",\"dtype\":\"float64\",\"order\":\"little\",\"shape\":[1]}},\"selected\":{\"id\":\"4709\"},\"selection_policy\":{\"id\":\"4727\"}},\"id\":\"4708\",\"type\":\"ColumnDataSource\"},{\"attributes\":{\"angle\":{\"value\":0.0},\"fill_alpha\":{\"value\":1.0},\"fill_color\":{\"value\":\"#e5ae38\"},\"hatch_alpha\":{\"value\":1.0},\"hatch_color\":{\"value\":\"#e5ae38\"},\"hatch_scale\":{\"value\":12.0},\"hatch_weight\":{\"value\":1.0},\"line_alpha\":{\"value\":1.0},\"line_cap\":{\"value\":\"butt\"},\"line_color\":{\"value\":\"#e5ae38\"},\"line_dash\":{\"value\":[]},\"line_dash_offset\":{\"value\":0},\"line_join\":{\"value\":\"bevel\"},\"line_width\":{\"value\":1},\"marker\":{\"value\":\"circle\"},\"size\":{\"value\":5.477225575051661},\"x\":{\"field\":\"PCA1\"},\"y\":{\"field\":\"PCA2\"}},\"id\":\"4592\",\"type\":\"Scatter\"},{\"attributes\":{\"fill_alpha\":{\"value\":0.2},\"fill_color\":{\"value\":\"#6d904f\"},\"hatch_alpha\":{\"value\":0.2},\"hatch_color\":{\"value\":\"#6d904f\"},\"line_alpha\":{\"value\":0.2},\"line_color\":{\"value\":\"#6d904f\"},\"size\":{\"value\":5.477225575051661},\"x\":{\"field\":\"PCA1\"},\"y\":{\"field\":\"PCA2\"}},\"id\":\"4598\",\"type\":\"Scatter\"},{\"attributes\":{\"fill_color\":{\"value\":\"#30a2da\"},\"hatch_color\":{\"value\":\"#30a2da\"},\"line_color\":{\"value\":\"#30a2da\"},\"size\":{\"value\":5.477225575051661},\"x\":{\"field\":\"price_change_percentage_24h\"},\"y\":{\"field\":\"price_change_percentage_7d\"}},\"id\":\"4668\",\"type\":\"Scatter\"},{\"attributes\":{},\"id\":\"4614\",\"type\":\"UnionRenderers\"},{\"attributes\":{},\"id\":\"4666\",\"type\":\"Selection\"},{\"attributes\":{\"coordinates\":null,\"data_source\":{\"id\":\"4665\"},\"glyph\":{\"id\":\"4668\"},\"group\":null,\"hover_glyph\":null,\"muted_glyph\":{\"id\":\"4670\"},\"nonselection_glyph\":{\"id\":\"4669\"},\"selection_glyph\":{\"id\":\"4685\"},\"view\":{\"id\":\"4672\"}},\"id\":\"4671\",\"type\":\"GlyphRenderer\"},{\"attributes\":{\"data\":{\"cluster\":[3,3,3,3,3,3,3,3,3,3,3,3,3,3,3,3,3,3,3,3,3,3,3,3,3,3],\"coin_id\":[\"tether\",\"ripple\",\"bitcoin-cash-sv\",\"crypto-com-chain\",\"usd-coin\",\"eos\",\"tron\",\"okb\",\"stellar\",\"cdai\",\"neo\",\"leo-token\",\"huobi-token\",\"nem\",\"binance-usd\",\"iota\",\"vechain\",\"theta-token\",\"dash\",\"ethereum-classic\",\"havven\",\"omisego\",\"ontology\",\"ftx-token\",\"true-usd\",\"digibyte\"],\"price_change_percentage_24h\":{\"__ndarray__\":\"mCJF1OlLlj/mJRG3Ed+kv1qZGRifu9w//rJXHrAz1T/yMTqenpahPx9kk3dK7sM/GTRehHalwD90fnl54Irtv9XPDahDw9G/+VOWQSEmxz+kpbukw1bSP6eM4M4OgKo/BcMOj9+jqr/Chq6S5ebLv2h3TIfCZ68/weEQ8QyV0D/KmZTmC7niP1YH9WGFy/m/N7JuVBEB07/EU4GAhEGyv8Ocf0hw2/a/lrPBJY23/j/IKcQzxy3av5WrmDyeito/Bf22eE/6sz9Y362Ir3rzPw==\",\"dtype\":\"float64\",\"order\":\"little\",\"shape\":[26]},\"price_change_percentage_7d\":{\"__ndarray__\":\"bZSIvk+a5r9RujxqH/Ppvw2U7adXaMi/d+r7VGbW+b9EGSx/8nTnv4rfBo4Lhe2/BEBwXEEApb8Udj8VbP/2vySelkVDp9i/7SZvVsyO5r8uu+JVH+LUvziN+gRMte2/o2qlez1D3b/CtPLKIS7rvyYjaswHnea/US6joeTvzz/dRmuCvtDvv/9TV66U6fq/ZWX+mWVCuD8GJ0pHuV/Nv8nIE2ZWH5q/TTxj/me11z+Htdvf1gXtv2Avihmzf9o/e31xtwIC5r/STlu6Y3Ljvw==\",\"dtype\":\"float64\",\"order\":\"little\",\"shape\":[26]}},\"selected\":{\"id\":\"4733\"},\"selection_policy\":{\"id\":\"4753\"}},\"id\":\"4732\",\"type\":\"ColumnDataSource\"},{\"attributes\":{\"fill_alpha\":{\"value\":0.1},\"fill_color\":{\"value\":\"#30a2da\"},\"hatch_alpha\":{\"value\":0.1},\"hatch_color\":{\"value\":\"#30a2da\"},\"line_alpha\":{\"value\":0.1},\"line_color\":{\"value\":\"#30a2da\"},\"size\":{\"value\":5.477225575051661},\"x\":{\"field\":\"price_change_percentage_24h\"},\"y\":{\"field\":\"price_change_percentage_7d\"}},\"id\":\"4669\",\"type\":\"Scatter\"},{\"attributes\":{\"fill_alpha\":{\"value\":0.2},\"fill_color\":{\"value\":\"#e5ae38\"},\"hatch_alpha\":{\"value\":0.2},\"hatch_color\":{\"value\":\"#e5ae38\"},\"line_alpha\":{\"value\":0.2},\"line_color\":{\"value\":\"#e5ae38\"},\"size\":{\"value\":5.477225575051661},\"x\":{\"field\":\"price_change_percentage_24h\"},\"y\":{\"field\":\"price_change_percentage_7d\"}},\"id\":\"4713\",\"type\":\"Scatter\"},{\"attributes\":{},\"id\":\"4709\",\"type\":\"Selection\"},{\"attributes\":{\"fill_alpha\":{\"value\":0.2},\"fill_color\":{\"value\":\"#30a2da\"},\"hatch_alpha\":{\"value\":0.2},\"hatch_color\":{\"value\":\"#30a2da\"},\"line_alpha\":{\"value\":0.2},\"line_color\":{\"value\":\"#30a2da\"},\"size\":{\"value\":5.477225575051661},\"x\":{\"field\":\"price_change_percentage_24h\"},\"y\":{\"field\":\"price_change_percentage_7d\"}},\"id\":\"4670\",\"type\":\"Scatter\"},{\"attributes\":{\"click_policy\":\"mute\",\"coordinates\":null,\"group\":null,\"items\":[{\"id\":\"4684\"},{\"id\":\"4706\"},{\"id\":\"4730\"},{\"id\":\"4756\"}],\"location\":[0,0],\"title\":\"cluster\"},\"id\":\"4683\",\"type\":\"Legend\"},{\"attributes\":{\"fill_alpha\":{\"value\":0.1},\"fill_color\":{\"value\":\"#e5ae38\"},\"hatch_alpha\":{\"value\":0.1},\"hatch_color\":{\"value\":\"#e5ae38\"},\"line_alpha\":{\"value\":0.1},\"line_color\":{\"value\":\"#e5ae38\"},\"size\":{\"value\":5.477225575051661},\"x\":{\"field\":\"price_change_percentage_24h\"},\"y\":{\"field\":\"price_change_percentage_7d\"}},\"id\":\"4712\",\"type\":\"Scatter\"},{\"attributes\":{},\"id\":\"4522\",\"type\":\"AllLabels\"},{\"attributes\":{\"fill_color\":{\"value\":\"#6d904f\"},\"hatch_color\":{\"value\":\"#6d904f\"},\"line_color\":{\"value\":\"#6d904f\"},\"size\":{\"value\":5.477225575051661},\"x\":{\"field\":\"price_change_percentage_24h\"},\"y\":{\"field\":\"price_change_percentage_7d\"}},\"id\":\"4735\",\"type\":\"Scatter\"},{\"attributes\":{\"source\":{\"id\":\"4593\"}},\"id\":\"4600\",\"type\":\"CDSView\"},{\"attributes\":{\"callback\":null,\"renderers\":[{\"id\":\"4532\"},{\"id\":\"4553\"},{\"id\":\"4575\"},{\"id\":\"4599\"}],\"tags\":[\"hv_created\"],\"tooltips\":[[\"cluster\",\"@{cluster}\"],[\"PCA1\",\"@{PCA1}\"],[\"PCA2\",\"@{PCA2}\"],[\"coin_id\",\"@{coin_id}\"]]},\"id\":\"4486\",\"type\":\"HoverTool\"},{\"attributes\":{\"coordinates\":null,\"group\":null,\"text\":\"PCA scatter plot\",\"text_color\":\"black\",\"text_font_size\":\"12pt\"},\"id\":\"4491\",\"type\":\"Title\"}],\"root_ids\":[\"4483\"]},\"title\":\"Bokeh Application\",\"version\":\"2.4.3\"}};\n",
       "    var render_items = [{\"docid\":\"4456438f-0d40-44d1-b7e9-602a10492db1\",\"root_ids\":[\"4483\"],\"roots\":{\"4483\":\"220af497-54cc-43b1-ad4f-ea35691ad1b9\"}}];\n",
       "    root.Bokeh.embed.embed_items_notebook(docs_json, render_items);\n",
       "    for (const render_item of render_items) {\n",
       "      for (const root_id of render_item.root_ids) {\n",
       "\tconst id_el = document.getElementById(root_id)\n",
       "\tif (id_el.children.length && (id_el.children[0].className === 'bk-root')) {\n",
       "\t  const root_el = id_el.children[0]\n",
       "\t  root_el.id = root_el.id + '-rendered'\n",
       "\t}\n",
       "      }\n",
       "    }\n",
       "  }\n",
       "  if (root.Bokeh !== undefined && root.Bokeh.Panel !== undefined) {\n",
       "    embed_document(root);\n",
       "  } else {\n",
       "    var attempts = 0;\n",
       "    var timer = setInterval(function(root) {\n",
       "      if (root.Bokeh !== undefined && root.Bokeh.Panel !== undefined) {\n",
       "        clearInterval(timer);\n",
       "        embed_document(root);\n",
       "      } else if (document.readyState == \"complete\") {\n",
       "        attempts++;\n",
       "        if (attempts > 200) {\n",
       "          clearInterval(timer);\n",
       "          console.log(\"Bokeh: ERROR: Unable to run BokehJS code because BokehJS library is missing\");\n",
       "        }\n",
       "      }\n",
       "    }, 25, root)\n",
       "  }\n",
       "})(window);</script>"
      ],
      "text/plain": [
       ":Layout\n",
       "   .NdOverlay.I  :NdOverlay   [cluster]\n",
       "      :Scatter   [PCA1]   (PCA2,coin_id)\n",
       "   .NdOverlay.II :NdOverlay   [cluster]\n",
       "      :Scatter   [price_change_percentage_24h]   (price_change_percentage_7d,coin_id)"
      ]
     },
     "execution_count": 76,
     "metadata": {
      "application/vnd.holoviews_exec.v0+json": {
       "id": "4483"
      }
     },
     "output_type": "execute_result"
    }
   ],
   "source": [
    "# Composite plot to contrast the clusters\n",
    "# YOUR CODE HERE!\n",
    "pca_scatterplot+market_scatterplot"
   ]
  },
  {
   "cell_type": "markdown",
   "metadata": {},
   "source": [
    "# Answer the following question: \n",
    "\n",
    "  * **Question:** After visually analyzing the cluster analysis results, what is the impact of using fewer features to cluster the data using K-Means?\n",
    "\n",
    "  * **Answer:** The inertia decreased and the data points seem to be less dispersed. Having fewer features to cluster the data seems to reduce ambiguity, which leads to a better interpretation of the results."
   ]
  }
 ],
 "metadata": {
  "kernelspec": {
   "display_name": "Python 3 (ipykernel)",
   "language": "python",
   "name": "python3"
  },
  "language_info": {
   "codemirror_mode": {
    "name": "ipython",
    "version": 3
   },
   "file_extension": ".py",
   "mimetype": "text/x-python",
   "name": "python",
   "nbconvert_exporter": "python",
   "pygments_lexer": "ipython3",
   "version": "3.10.9"
  },
  "nteract": {
   "version": "0.28.0"
  },
  "vscode": {
   "interpreter": {
    "hash": "40d3a090f54c6569ab1632332b64b2c03c39dcf918b08424e98f38b5ae0af88f"
   }
  }
 },
 "nbformat": 4,
 "nbformat_minor": 4
}
